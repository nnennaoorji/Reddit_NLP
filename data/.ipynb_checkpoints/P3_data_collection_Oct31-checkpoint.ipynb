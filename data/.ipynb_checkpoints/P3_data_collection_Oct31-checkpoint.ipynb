{
 "cells": [
  {
   "cell_type": "code",
   "execution_count": 3,
   "id": "3e0b67fb",
   "metadata": {},
   "outputs": [],
   "source": [
    "#imports\n",
    "import requests\n",
    "import pandas as pd\n",
    "import time "
   ]
  },
  {
   "cell_type": "markdown",
   "id": "8a0a575e",
   "metadata": {},
   "source": [
    "### Data Collection Demo"
   ]
  },
  {
   "cell_type": "code",
   "execution_count": 4,
   "id": "eda02f54",
   "metadata": {},
   "outputs": [],
   "source": [
    "#setting up url and parameters:\n",
    "url = 'https://api.pushshift.io/reddit/search/submission'\n",
    "\n",
    "params = {\n",
    "    'subreddit': 'GRE',\n",
    "    'size': 100\n",
    "    #'before':1635254621\n",
    "}\n",
    "\n",
    "res = requests.get(url, params)"
   ]
  },
  {
   "cell_type": "code",
   "execution_count": 5,
   "id": "12e9d751",
   "metadata": {},
   "outputs": [
    {
     "data": {
      "text/plain": [
       "200"
      ]
     },
     "execution_count": 5,
     "metadata": {},
     "output_type": "execute_result"
    }
   ],
   "source": [
    "#requesting response code\n",
    "res.status_code"
   ]
  },
  {
   "cell_type": "code",
   "execution_count": 6,
   "id": "8f68edcd",
   "metadata": {},
   "outputs": [
    {
     "data": {
      "text/plain": [
       "dict"
      ]
     },
     "execution_count": 6,
     "metadata": {},
     "output_type": "execute_result"
    }
   ],
   "source": [
    "#converting request to json format\n",
    "data = res.json()\n",
    "type(data)"
   ]
  },
  {
   "cell_type": "code",
   "execution_count": 7,
   "id": "55817e40",
   "metadata": {},
   "outputs": [],
   "source": [
    "posts = data['data']"
   ]
  },
  {
   "cell_type": "code",
   "execution_count": 8,
   "id": "f568bf5b",
   "metadata": {},
   "outputs": [
    {
     "data": {
      "text/plain": [
       "100"
      ]
     },
     "execution_count": 8,
     "metadata": {},
     "output_type": "execute_result"
    }
   ],
   "source": [
    "#confirming length of posts\n",
    "len(posts)"
   ]
  },
  {
   "cell_type": "code",
   "execution_count": 9,
   "id": "5e2bd8ab",
   "metadata": {},
   "outputs": [],
   "source": [
    "#transforming to dataframe object\n",
    "df = pd.DataFrame(posts)"
   ]
  },
  {
   "cell_type": "code",
   "execution_count": 10,
   "id": "6c73866e",
   "metadata": {},
   "outputs": [
    {
     "data": {
      "text/html": [
       "<div>\n",
       "<style scoped>\n",
       "    .dataframe tbody tr th:only-of-type {\n",
       "        vertical-align: middle;\n",
       "    }\n",
       "\n",
       "    .dataframe tbody tr th {\n",
       "        vertical-align: top;\n",
       "    }\n",
       "\n",
       "    .dataframe thead th {\n",
       "        text-align: right;\n",
       "    }\n",
       "</style>\n",
       "<table border=\"1\" class=\"dataframe\">\n",
       "  <thead>\n",
       "    <tr style=\"text-align: right;\">\n",
       "      <th></th>\n",
       "      <th>all_awardings</th>\n",
       "      <th>allow_live_comments</th>\n",
       "      <th>author</th>\n",
       "      <th>author_flair_css_class</th>\n",
       "      <th>author_flair_richtext</th>\n",
       "      <th>author_flair_text</th>\n",
       "      <th>author_flair_type</th>\n",
       "      <th>author_fullname</th>\n",
       "      <th>author_is_blocked</th>\n",
       "      <th>author_patreon_flair</th>\n",
       "      <th>...</th>\n",
       "      <th>thumbnail_height</th>\n",
       "      <th>thumbnail_width</th>\n",
       "      <th>gallery_data</th>\n",
       "      <th>is_gallery</th>\n",
       "      <th>url_overridden_by_dest</th>\n",
       "      <th>removed_by_category</th>\n",
       "      <th>author_flair_background_color</th>\n",
       "      <th>author_flair_template_id</th>\n",
       "      <th>author_flair_text_color</th>\n",
       "      <th>edited</th>\n",
       "    </tr>\n",
       "  </thead>\n",
       "  <tbody>\n",
       "    <tr>\n",
       "      <th>0</th>\n",
       "      <td>[]</td>\n",
       "      <td>False</td>\n",
       "      <td>DudeLove29</td>\n",
       "      <td>None</td>\n",
       "      <td>[]</td>\n",
       "      <td>None</td>\n",
       "      <td>text</td>\n",
       "      <td>t2_d8v7lzn9</td>\n",
       "      <td>False</td>\n",
       "      <td>False</td>\n",
       "      <td>...</td>\n",
       "      <td>NaN</td>\n",
       "      <td>NaN</td>\n",
       "      <td>NaN</td>\n",
       "      <td>NaN</td>\n",
       "      <td>NaN</td>\n",
       "      <td>NaN</td>\n",
       "      <td>NaN</td>\n",
       "      <td>NaN</td>\n",
       "      <td>NaN</td>\n",
       "      <td>NaN</td>\n",
       "    </tr>\n",
       "    <tr>\n",
       "      <th>1</th>\n",
       "      <td>[]</td>\n",
       "      <td>False</td>\n",
       "      <td>Mental_Pomelo1273</td>\n",
       "      <td>None</td>\n",
       "      <td>[]</td>\n",
       "      <td>None</td>\n",
       "      <td>text</td>\n",
       "      <td>t2_f4viba5q</td>\n",
       "      <td>False</td>\n",
       "      <td>False</td>\n",
       "      <td>...</td>\n",
       "      <td>NaN</td>\n",
       "      <td>NaN</td>\n",
       "      <td>NaN</td>\n",
       "      <td>NaN</td>\n",
       "      <td>NaN</td>\n",
       "      <td>NaN</td>\n",
       "      <td>NaN</td>\n",
       "      <td>NaN</td>\n",
       "      <td>NaN</td>\n",
       "      <td>NaN</td>\n",
       "    </tr>\n",
       "    <tr>\n",
       "      <th>2</th>\n",
       "      <td>[]</td>\n",
       "      <td>False</td>\n",
       "      <td>Competitive-Sun-6084</td>\n",
       "      <td>None</td>\n",
       "      <td>[]</td>\n",
       "      <td>None</td>\n",
       "      <td>text</td>\n",
       "      <td>t2_c7cq07nz</td>\n",
       "      <td>False</td>\n",
       "      <td>False</td>\n",
       "      <td>...</td>\n",
       "      <td>NaN</td>\n",
       "      <td>NaN</td>\n",
       "      <td>NaN</td>\n",
       "      <td>NaN</td>\n",
       "      <td>NaN</td>\n",
       "      <td>NaN</td>\n",
       "      <td>NaN</td>\n",
       "      <td>NaN</td>\n",
       "      <td>NaN</td>\n",
       "      <td>NaN</td>\n",
       "    </tr>\n",
       "    <tr>\n",
       "      <th>3</th>\n",
       "      <td>[]</td>\n",
       "      <td>False</td>\n",
       "      <td>ShadowTzigane</td>\n",
       "      <td>None</td>\n",
       "      <td>[]</td>\n",
       "      <td>None</td>\n",
       "      <td>text</td>\n",
       "      <td>t2_chw9m153</td>\n",
       "      <td>False</td>\n",
       "      <td>False</td>\n",
       "      <td>...</td>\n",
       "      <td>NaN</td>\n",
       "      <td>NaN</td>\n",
       "      <td>NaN</td>\n",
       "      <td>NaN</td>\n",
       "      <td>NaN</td>\n",
       "      <td>NaN</td>\n",
       "      <td>NaN</td>\n",
       "      <td>NaN</td>\n",
       "      <td>NaN</td>\n",
       "      <td>NaN</td>\n",
       "    </tr>\n",
       "    <tr>\n",
       "      <th>4</th>\n",
       "      <td>[]</td>\n",
       "      <td>False</td>\n",
       "      <td>Professional-Ad-8700</td>\n",
       "      <td>None</td>\n",
       "      <td>[]</td>\n",
       "      <td>None</td>\n",
       "      <td>text</td>\n",
       "      <td>t2_7dpo2b4c</td>\n",
       "      <td>False</td>\n",
       "      <td>False</td>\n",
       "      <td>...</td>\n",
       "      <td>NaN</td>\n",
       "      <td>NaN</td>\n",
       "      <td>NaN</td>\n",
       "      <td>NaN</td>\n",
       "      <td>NaN</td>\n",
       "      <td>NaN</td>\n",
       "      <td>NaN</td>\n",
       "      <td>NaN</td>\n",
       "      <td>NaN</td>\n",
       "      <td>NaN</td>\n",
       "    </tr>\n",
       "  </tbody>\n",
       "</table>\n",
       "<p>5 rows × 75 columns</p>\n",
       "</div>"
      ],
      "text/plain": [
       "  all_awardings  allow_live_comments                author  \\\n",
       "0            []                False            DudeLove29   \n",
       "1            []                False     Mental_Pomelo1273   \n",
       "2            []                False  Competitive-Sun-6084   \n",
       "3            []                False         ShadowTzigane   \n",
       "4            []                False  Professional-Ad-8700   \n",
       "\n",
       "  author_flair_css_class author_flair_richtext author_flair_text  \\\n",
       "0                   None                    []              None   \n",
       "1                   None                    []              None   \n",
       "2                   None                    []              None   \n",
       "3                   None                    []              None   \n",
       "4                   None                    []              None   \n",
       "\n",
       "  author_flair_type author_fullname  author_is_blocked author_patreon_flair  \\\n",
       "0              text     t2_d8v7lzn9              False                False   \n",
       "1              text     t2_f4viba5q              False                False   \n",
       "2              text     t2_c7cq07nz              False                False   \n",
       "3              text     t2_chw9m153              False                False   \n",
       "4              text     t2_7dpo2b4c              False                False   \n",
       "\n",
       "   ... thumbnail_height thumbnail_width  gallery_data  is_gallery  \\\n",
       "0  ...              NaN             NaN           NaN         NaN   \n",
       "1  ...              NaN             NaN           NaN         NaN   \n",
       "2  ...              NaN             NaN           NaN         NaN   \n",
       "3  ...              NaN             NaN           NaN         NaN   \n",
       "4  ...              NaN             NaN           NaN         NaN   \n",
       "\n",
       "   url_overridden_by_dest removed_by_category author_flair_background_color  \\\n",
       "0                     NaN                 NaN                           NaN   \n",
       "1                     NaN                 NaN                           NaN   \n",
       "2                     NaN                 NaN                           NaN   \n",
       "3                     NaN                 NaN                           NaN   \n",
       "4                     NaN                 NaN                           NaN   \n",
       "\n",
       "  author_flair_template_id author_flair_text_color  edited  \n",
       "0                      NaN                     NaN     NaN  \n",
       "1                      NaN                     NaN     NaN  \n",
       "2                      NaN                     NaN     NaN  \n",
       "3                      NaN                     NaN     NaN  \n",
       "4                      NaN                     NaN     NaN  \n",
       "\n",
       "[5 rows x 75 columns]"
      ]
     },
     "execution_count": 10,
     "metadata": {},
     "output_type": "execute_result"
    }
   ],
   "source": [
    "df.head()"
   ]
  },
  {
   "cell_type": "code",
   "execution_count": 11,
   "id": "b04eed12",
   "metadata": {},
   "outputs": [
    {
     "data": {
      "text/html": [
       "<div>\n",
       "<style scoped>\n",
       "    .dataframe tbody tr th:only-of-type {\n",
       "        vertical-align: middle;\n",
       "    }\n",
       "\n",
       "    .dataframe tbody tr th {\n",
       "        vertical-align: top;\n",
       "    }\n",
       "\n",
       "    .dataframe thead th {\n",
       "        text-align: right;\n",
       "    }\n",
       "</style>\n",
       "<table border=\"1\" class=\"dataframe\">\n",
       "  <thead>\n",
       "    <tr style=\"text-align: right;\">\n",
       "      <th></th>\n",
       "      <th>subreddit</th>\n",
       "      <th>selftext</th>\n",
       "      <th>title</th>\n",
       "      <th>created_utc</th>\n",
       "    </tr>\n",
       "  </thead>\n",
       "  <tbody>\n",
       "    <tr>\n",
       "      <th>0</th>\n",
       "      <td>GRE</td>\n",
       "      <td>Hey guys, I'll be taking my exam on the 7th of...</td>\n",
       "      <td>GRE in exactly a month. Idk what to do.</td>\n",
       "      <td>1636152899</td>\n",
       "    </tr>\n",
       "    <tr>\n",
       "      <th>1</th>\n",
       "      <td>GRE</td>\n",
       "      <td></td>\n",
       "      <td>Ok I just took the online GRE, and i can’t rem...</td>\n",
       "      <td>1636149295</td>\n",
       "    </tr>\n",
       "    <tr>\n",
       "      <th>2</th>\n",
       "      <td>GRE</td>\n",
       "      <td>Hi,\\n\\nI took my GRE test on October 25. My sc...</td>\n",
       "      <td>ETS GRE Diagnostic Report Deciphering and Prep...</td>\n",
       "      <td>1636147747</td>\n",
       "    </tr>\n",
       "    <tr>\n",
       "      <th>3</th>\n",
       "      <td>GRE</td>\n",
       "      <td>I've just done the ets free test. There's only...</td>\n",
       "      <td>Ets free test</td>\n",
       "      <td>1636145868</td>\n",
       "    </tr>\n",
       "    <tr>\n",
       "      <th>4</th>\n",
       "      <td>GRE</td>\n",
       "      <td>Took the test the day before and got a 156 in ...</td>\n",
       "      <td>Need tips for a jump from 156 Q to 160 Q</td>\n",
       "      <td>1636145473</td>\n",
       "    </tr>\n",
       "  </tbody>\n",
       "</table>\n",
       "</div>"
      ],
      "text/plain": [
       "  subreddit                                           selftext  \\\n",
       "0       GRE  Hey guys, I'll be taking my exam on the 7th of...   \n",
       "1       GRE                                                      \n",
       "2       GRE  Hi,\\n\\nI took my GRE test on October 25. My sc...   \n",
       "3       GRE  I've just done the ets free test. There's only...   \n",
       "4       GRE  Took the test the day before and got a 156 in ...   \n",
       "\n",
       "                                               title  created_utc  \n",
       "0            GRE in exactly a month. Idk what to do.   1636152899  \n",
       "1  Ok I just took the online GRE, and i can’t rem...   1636149295  \n",
       "2  ETS GRE Diagnostic Report Deciphering and Prep...   1636147747  \n",
       "3                                      Ets free test   1636145868  \n",
       "4           Need tips for a jump from 156 Q to 160 Q   1636145473  "
      ]
     },
     "execution_count": 11,
     "metadata": {},
     "output_type": "execute_result"
    }
   ],
   "source": [
    "df[['subreddit','selftext','title', 'created_utc']].head()"
   ]
  },
  {
   "cell_type": "code",
   "execution_count": 12,
   "id": "997bcefd",
   "metadata": {},
   "outputs": [
    {
     "data": {
      "text/html": [
       "<div>\n",
       "<style scoped>\n",
       "    .dataframe tbody tr th:only-of-type {\n",
       "        vertical-align: middle;\n",
       "    }\n",
       "\n",
       "    .dataframe tbody tr th {\n",
       "        vertical-align: top;\n",
       "    }\n",
       "\n",
       "    .dataframe thead th {\n",
       "        text-align: right;\n",
       "    }\n",
       "</style>\n",
       "<table border=\"1\" class=\"dataframe\">\n",
       "  <thead>\n",
       "    <tr style=\"text-align: right;\">\n",
       "      <th></th>\n",
       "      <th>subreddit</th>\n",
       "      <th>selftext</th>\n",
       "      <th>title</th>\n",
       "      <th>created_utc</th>\n",
       "    </tr>\n",
       "  </thead>\n",
       "  <tbody>\n",
       "    <tr>\n",
       "      <th>95</th>\n",
       "      <td>GRE</td>\n",
       "      <td>Hey guys , I took the exam of PPP2 ,PP1 and PP...</td>\n",
       "      <td>Took the PPP2 exam yesterday</td>\n",
       "      <td>1635825636</td>\n",
       "    </tr>\n",
       "    <tr>\n",
       "      <th>96</th>\n",
       "      <td>GRE</td>\n",
       "      <td>Hey, I had recently took my gre and scored 164...</td>\n",
       "      <td>Is AWA important for my admission?</td>\n",
       "      <td>1635825332</td>\n",
       "    </tr>\n",
       "    <tr>\n",
       "      <th>97</th>\n",
       "      <td>GRE</td>\n",
       "      <td>[deleted]</td>\n",
       "      <td>What do think about my score?</td>\n",
       "      <td>1635824525</td>\n",
       "    </tr>\n",
       "    <tr>\n",
       "      <th>98</th>\n",
       "      <td>GRE</td>\n",
       "      <td>Hello, does any one have a Manhattan and Princ...</td>\n",
       "      <td>Manhatt and Princeton Mock Test</td>\n",
       "      <td>1635824412</td>\n",
       "    </tr>\n",
       "    <tr>\n",
       "      <th>99</th>\n",
       "      <td>GRE</td>\n",
       "      <td></td>\n",
       "      <td>Is mask required throughout the on-site test i...</td>\n",
       "      <td>1635822291</td>\n",
       "    </tr>\n",
       "  </tbody>\n",
       "</table>\n",
       "</div>"
      ],
      "text/plain": [
       "   subreddit                                           selftext  \\\n",
       "95       GRE  Hey guys , I took the exam of PPP2 ,PP1 and PP...   \n",
       "96       GRE  Hey, I had recently took my gre and scored 164...   \n",
       "97       GRE                                          [deleted]   \n",
       "98       GRE  Hello, does any one have a Manhattan and Princ...   \n",
       "99       GRE                                                      \n",
       "\n",
       "                                                title  created_utc  \n",
       "95                       Took the PPP2 exam yesterday   1635825636  \n",
       "96                 Is AWA important for my admission?   1635825332  \n",
       "97                      What do think about my score?   1635824525  \n",
       "98                    Manhatt and Princeton Mock Test   1635824412  \n",
       "99  Is mask required throughout the on-site test i...   1635822291  "
      ]
     },
     "execution_count": 12,
     "metadata": {},
     "output_type": "execute_result"
    }
   ],
   "source": [
    "df[['subreddit','selftext','title', 'created_utc']].tail()"
   ]
  },
  {
   "cell_type": "markdown",
   "id": "0e474efa",
   "metadata": {},
   "source": [
    "### Scaling up Data Collection Using While Loop"
   ]
  },
  {
   "cell_type": "code",
   "execution_count": 53,
   "id": "312e7ed8",
   "metadata": {},
   "outputs": [],
   "source": [
    "#function to scrape data from reddit:\n",
    "def get_reddit_data (subreddit, length):\n",
    "    posts_list = []\n",
    "    date = None\n",
    "    while len(posts_list)<length:\n",
    "        temp_url = 'https://api.pushshift.io/reddit/search/submission'\n",
    "        temp_params = {\n",
    "            \"subreddit\": subreddit,\n",
    "            \"size\":100,\n",
    "            \"before\": date\n",
    "        }\n",
    "        temp_res = requests.get(temp_url,temp_params)\n",
    "        data = temp_res.json()\n",
    "        posts = data['data']\n",
    "        \n",
    "        try:\n",
    "            date = posts[99]['created_utc']\n",
    "            posts_list.append(posts)\n",
    "            time.sleep(4)\n",
    "            \n",
    "        except:\n",
    "            break\n",
    "    new_posts_list =[]\n",
    "    for i in posts_list:\n",
    "        new_posts_list += i\n",
    "    subreddit_df = pd.DataFrame(new_posts_list)\n",
    "    subreddit_df =subreddit_df[['subreddit', 'selftext','title']]\n",
    "    return subreddit_df\n",
    "#credit: Chris Johnson https://medium.datadriveninvestor.com/web-scraping-with-python-part-1-a-high-level-explanation-of-what-ive-learned-5401d46fbec2"
   ]
  },
  {
   "cell_type": "code",
   "execution_count": 39,
   "id": "ffa73630",
   "metadata": {},
   "outputs": [],
   "source": [
    "#generating r/GRE data\n",
    "gre_df= get_reddit_data ('GRE', 100)"
   ]
  },
  {
   "cell_type": "code",
   "execution_count": 58,
   "id": "adff1807",
   "metadata": {},
   "outputs": [
    {
     "data": {
      "text/html": [
       "<div>\n",
       "<style scoped>\n",
       "    .dataframe tbody tr th:only-of-type {\n",
       "        vertical-align: middle;\n",
       "    }\n",
       "\n",
       "    .dataframe tbody tr th {\n",
       "        vertical-align: top;\n",
       "    }\n",
       "\n",
       "    .dataframe thead th {\n",
       "        text-align: right;\n",
       "    }\n",
       "</style>\n",
       "<table border=\"1\" class=\"dataframe\">\n",
       "  <thead>\n",
       "    <tr style=\"text-align: right;\">\n",
       "      <th></th>\n",
       "      <th>subreddit</th>\n",
       "      <th>selftext</th>\n",
       "      <th>title</th>\n",
       "    </tr>\n",
       "  </thead>\n",
       "  <tbody>\n",
       "    <tr>\n",
       "      <th>0</th>\n",
       "      <td>GRE</td>\n",
       "      <td>About mid-August I took a manhattan prep GRE t...</td>\n",
       "      <td>Demoralized from Silly Quant Mistakes</td>\n",
       "    </tr>\n",
       "    <tr>\n",
       "      <th>1</th>\n",
       "      <td>GRE</td>\n",
       "      <td>I’ve known so many people cheating in their Gr...</td>\n",
       "      <td>Gre cheating</td>\n",
       "    </tr>\n",
       "    <tr>\n",
       "      <th>2</th>\n",
       "      <td>GRE</td>\n",
       "      <td></td>\n",
       "      <td>Is it true that the GRE now make it alot harde...</td>\n",
       "    </tr>\n",
       "    <tr>\n",
       "      <th>3</th>\n",
       "      <td>GRE</td>\n",
       "      <td>On hollidays those paid tests from greprepclub...</td>\n",
       "      <td>How are the 10 quant tests from greprepclub.co...</td>\n",
       "    </tr>\n",
       "    <tr>\n",
       "      <th>4</th>\n",
       "      <td>GRE</td>\n",
       "      <td>Hi,\\n\\nI have my Gre exam on coming Nov 29th. ...</td>\n",
       "      <td>Help!! Verbal is too difficult for me</td>\n",
       "    </tr>\n",
       "  </tbody>\n",
       "</table>\n",
       "</div>"
      ],
      "text/plain": [
       "  subreddit                                           selftext  \\\n",
       "0       GRE  About mid-August I took a manhattan prep GRE t...   \n",
       "1       GRE  I’ve known so many people cheating in their Gr...   \n",
       "2       GRE                                                      \n",
       "3       GRE  On hollidays those paid tests from greprepclub...   \n",
       "4       GRE  Hi,\\n\\nI have my Gre exam on coming Nov 29th. ...   \n",
       "\n",
       "                                               title  \n",
       "0              Demoralized from Silly Quant Mistakes  \n",
       "1                                       Gre cheating  \n",
       "2  Is it true that the GRE now make it alot harde...  \n",
       "3  How are the 10 quant tests from greprepclub.co...  \n",
       "4              Help!! Verbal is too difficult for me  "
      ]
     },
     "execution_count": 58,
     "metadata": {},
     "output_type": "execute_result"
    }
   ],
   "source": [
    "#checking first 5 rows\n",
    "gre_df.head()"
   ]
  },
  {
   "cell_type": "code",
   "execution_count": 59,
   "id": "73ed5448",
   "metadata": {},
   "outputs": [
    {
     "data": {
      "text/plain": [
       "(10000, 3)"
      ]
     },
     "execution_count": 59,
     "metadata": {},
     "output_type": "execute_result"
    }
   ],
   "source": [
    "#checking dimensions\n",
    "gre_df.shape"
   ]
  },
  {
   "cell_type": "code",
   "execution_count": 44,
   "id": "ab5bf718",
   "metadata": {},
   "outputs": [],
   "source": [
    "#generating r/GMAT data\n",
    "gmat_df= get_reddit_data ('GMAT', 100)"
   ]
  },
  {
   "cell_type": "code",
   "execution_count": 60,
   "id": "5977bd24",
   "metadata": {},
   "outputs": [
    {
     "data": {
      "text/html": [
       "<div>\n",
       "<style scoped>\n",
       "    .dataframe tbody tr th:only-of-type {\n",
       "        vertical-align: middle;\n",
       "    }\n",
       "\n",
       "    .dataframe tbody tr th {\n",
       "        vertical-align: top;\n",
       "    }\n",
       "\n",
       "    .dataframe thead th {\n",
       "        text-align: right;\n",
       "    }\n",
       "</style>\n",
       "<table border=\"1\" class=\"dataframe\">\n",
       "  <thead>\n",
       "    <tr style=\"text-align: right;\">\n",
       "      <th></th>\n",
       "      <th>subreddit</th>\n",
       "      <th>selftext</th>\n",
       "      <th>title</th>\n",
       "    </tr>\n",
       "  </thead>\n",
       "  <tbody>\n",
       "    <tr>\n",
       "      <th>0</th>\n",
       "      <td>GMAT</td>\n",
       "      <td>I may have screwed up big-time. I took the GMA...</td>\n",
       "      <td>No way to look at my unofficial GMAT Online sc...</td>\n",
       "    </tr>\n",
       "    <tr>\n",
       "      <th>1</th>\n",
       "      <td>GMAT</td>\n",
       "      <td>I completed the 5 day free trial and really li...</td>\n",
       "      <td>TTP referral/discount code</td>\n",
       "    </tr>\n",
       "    <tr>\n",
       "      <th>2</th>\n",
       "      <td>GMAT</td>\n",
       "      <td>If *q*, *r*, and *s* are consecutive even inte...</td>\n",
       "      <td>help with question</td>\n",
       "    </tr>\n",
       "    <tr>\n",
       "      <th>3</th>\n",
       "      <td>GMAT</td>\n",
       "      <td>To be clear, this post is for those who have a...</td>\n",
       "      <td>Good at math, but not so much on the Quant? Tr...</td>\n",
       "    </tr>\n",
       "    <tr>\n",
       "      <th>4</th>\n",
       "      <td>GMAT</td>\n",
       "      <td>Twelve days ago, I bought the TTP course. Afte...</td>\n",
       "      <td>Can the TTP test be covered within two months?</td>\n",
       "    </tr>\n",
       "  </tbody>\n",
       "</table>\n",
       "</div>"
      ],
      "text/plain": [
       "  subreddit                                           selftext  \\\n",
       "0      GMAT  I may have screwed up big-time. I took the GMA...   \n",
       "1      GMAT  I completed the 5 day free trial and really li...   \n",
       "2      GMAT  If *q*, *r*, and *s* are consecutive even inte...   \n",
       "3      GMAT  To be clear, this post is for those who have a...   \n",
       "4      GMAT  Twelve days ago, I bought the TTP course. Afte...   \n",
       "\n",
       "                                               title  \n",
       "0  No way to look at my unofficial GMAT Online sc...  \n",
       "1                         TTP referral/discount code  \n",
       "2                                 help with question  \n",
       "3  Good at math, but not so much on the Quant? Tr...  \n",
       "4     Can the TTP test be covered within two months?  "
      ]
     },
     "execution_count": 60,
     "metadata": {},
     "output_type": "execute_result"
    }
   ],
   "source": [
    "#checking first 5 rows\n",
    "gmat_df.head()"
   ]
  },
  {
   "cell_type": "code",
   "execution_count": 61,
   "id": "dc7c40fc",
   "metadata": {},
   "outputs": [
    {
     "data": {
      "text/plain": [
       "(8500, 3)"
      ]
     },
     "execution_count": 61,
     "metadata": {},
     "output_type": "execute_result"
    }
   ],
   "source": [
    "#checking dimensions \n",
    "gmat_df.shape"
   ]
  },
  {
   "cell_type": "code",
   "execution_count": 62,
   "id": "56cb1915",
   "metadata": {},
   "outputs": [],
   "source": [
    "#commented out code to avoid overwriting saved dataframe with re-generated data\n",
    "#saving data to csv file\n",
    "#gmat_df.to_csv('data/rgmat.csv',index=False)\n",
    "    "
   ]
  },
  {
   "cell_type": "code",
   "execution_count": 63,
   "id": "b301284a",
   "metadata": {},
   "outputs": [],
   "source": [
    "#commented out code to avoid overwriting saved dataframe with re-generated data\n",
    "#saving data to csv file\n",
    "#gre_df.to_csv('data/rgre.csv',index=False)"
   ]
  }
 ],
 "metadata": {
  "kernelspec": {
   "display_name": "Python 3",
   "language": "python",
   "name": "python3"
  },
  "language_info": {
   "codemirror_mode": {
    "name": "ipython",
    "version": 3
   },
   "file_extension": ".py",
   "mimetype": "text/x-python",
   "name": "python",
   "nbconvert_exporter": "python",
   "pygments_lexer": "ipython3",
   "version": "3.8.8"
  }
 },
 "nbformat": 4,
 "nbformat_minor": 5
}
