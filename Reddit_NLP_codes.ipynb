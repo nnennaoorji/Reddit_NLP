{
 "cells": [
  {
   "cell_type": "markdown",
   "id": "4afa2d0d",
   "metadata": {},
   "source": [
    "<img src=\"http://imgur.com/1ZcRyrc.png\" style=\"float: left; margin: 20px; height: 55px\">\n",
    "\n",
    "# Project 3: Web APIs & NLP"
   ]
  },
  {
   "cell_type": "markdown",
   "id": "2a12c33b",
   "metadata": {},
   "source": [
    "## Problem Statement\n",
    "\n",
    "In a hypothetical scenario, Manhattan Prep has hired me as a Consultant to build a machine learning model which is able to distinguish between posts which come from the r/GRE subreddit and the r/GMAT subreddit. The company would like to leverage NLP in improving user experience. The aim is to remain a top choice for GRE and GMAT resources. "
   ]
  },
  {
   "cell_type": "markdown",
   "id": "be362d41",
   "metadata": {},
   "source": [
    "## Executive Summary\n",
    "\n",
    "Natural Language Processing is a tool that is increasingly being adopted by organizations in different fields to obtain raw customer feedback to better understand clients needs, and boost user experience. Manhattan Prep, a subsidiary of Kaplan Inc. is a schooling company, which amongst other services, produces top rated test preparation materials for the GRE, GMAT, LSAT and EA assessments. \n",
    "\n",
    "In a hypothetical scenario, the Company has hired me as a consultant to build a machine learning model which is able to accurately distinguish between posts from the GRE (r/GRE) and GMAT (r/GMAT) subreddits. The aim is to leverage this raw data, as potential feedback from its customers on the quality of its products related to both tests, which the Company can use as insights to continue to ensure that it is meeting test takers' needs. Ultimately, Manhattan Prep aims to remain a top choice for GRE and GMAT resources. \n",
    "\n",
    "To gather data for the analysis, a while loop was used to pull data from reddit using [Pushshift's](https://github.com/pushshift/api) API. A total of 10,000 posts and 8,500 posts were scraped from r/GRE and r/GMAT, respectively. Following data cleaning, count of data for r/GRE and r/GMAT were 9,447 posts and 8,072 posts, indicating a baseline accuracy of 54% and 46%, respectively. Titles and Self texts of each post were adopted as explanatory (X) features, while a binarized column indicative of each subreddit was adopted as the target (y) variable. Using scikit-learn's train/test split function, 25% of the dataset was set aside for assessing model performance on \"unseen\" data. \n",
    "\n",
    "Four classification models were estimated to meet the project's objective. These included a Multinomial Naive Bayes (MNB) model, a Random Forest (RF) model, and 2 logistic regression (Logreg) models. The second logistic regression model was estimated on a sub-sample of the dataset labelled \"manhattan\" which captured instances where \"manhattan\" was mentioned at least once in a self text. Utilizing VADER, a Sentiment Analysis was also conducted on this sub-sample to gauge users' overall sentiments about products related to the Manhattan Prep brand. \n",
    "\n",
    "All 4 models were low bias and low variance and recorded high accuracy scores. The MNB, RF and Logreg model (on overall sample) recorded 90% accuracy, while the Logreg model estimated on the Manhattan subsample had an accuracy score of 94%. Sensitivity and Specificity scores were also high across board, ranging from 80% to 98%. Findings from the VADER model were that sentiments associated with Manhattan Prep in both subreddits were neutral on average, and did not differ significantly between both subreddits. \n",
    "\n",
    "Overall, this study recommends the Logistic Regression model specified as the algorithm of choice for distinguishing between posts from r/GRE and r/GMAT. This is due to faster computational speed, higher sensitivity and specificity scores, relative to the other models. The study additionally recommends that deeper analysis be conducted on posts where compound sentiment scores associated with Manhattan Prep were negative, in order to uncover ways to potentially boost user experience. \n",
    "\n"
   ]
  },
  {
   "cell_type": "markdown",
   "id": "44ef510b",
   "metadata": {},
   "source": [
    "## Data\n",
    "\n",
    "Data was obtained using [Pushshift's](https://github.com/pushshift/api) API. A total of 10,000 posts from r/GRE and 8,500 posts from r/GMAT were pulled for this analysis. More details on the method of data collection are contained in the `data collection` notebook in this repo."
   ]
  },
  {
   "cell_type": "code",
   "execution_count": 1,
   "id": "d5cc3248",
   "metadata": {},
   "outputs": [],
   "source": [
    "#imports\n",
    "import pandas as pd\n",
    "import numpy as np\n",
    "import matplotlib.pyplot as plt\n",
    "from sklearn.model_selection import train_test_split,cross_val_score, GridSearchCV\n",
    "from sklearn.linear_model import LogisticRegression\n",
    "from sklearn.metrics import confusion_matrix, plot_confusion_matrix\n",
    "from sklearn.pipeline import Pipeline\n",
    "from sklearn.naive_bayes import MultinomialNB\n",
    "from sklearn.feature_extraction.text import CountVectorizer\n",
    "from nltk.sentiment.vader import SentimentIntensityAnalyzer\n",
    "from nltk.tokenize import sent_tokenize, word_tokenize, RegexpTokenizer\n",
    "from sklearn.ensemble import RandomForestClassifier\n",
    "import time"
   ]
  },
  {
   "cell_type": "code",
   "execution_count": 2,
   "id": "242e5a06",
   "metadata": {},
   "outputs": [
    {
     "data": {
      "text/html": [
       "<div>\n",
       "<style scoped>\n",
       "    .dataframe tbody tr th:only-of-type {\n",
       "        vertical-align: middle;\n",
       "    }\n",
       "\n",
       "    .dataframe tbody tr th {\n",
       "        vertical-align: top;\n",
       "    }\n",
       "\n",
       "    .dataframe thead th {\n",
       "        text-align: right;\n",
       "    }\n",
       "</style>\n",
       "<table border=\"1\" class=\"dataframe\">\n",
       "  <thead>\n",
       "    <tr style=\"text-align: right;\">\n",
       "      <th></th>\n",
       "      <th>subreddit</th>\n",
       "      <th>selftext</th>\n",
       "      <th>title</th>\n",
       "      <th>created_utc</th>\n",
       "    </tr>\n",
       "  </thead>\n",
       "  <tbody>\n",
       "    <tr>\n",
       "      <th>0</th>\n",
       "      <td>GRE</td>\n",
       "      <td>[deleted]</td>\n",
       "      <td>Part-to-Part and Part-to-Whole Ratios</td>\n",
       "      <td>1635799861</td>\n",
       "    </tr>\n",
       "    <tr>\n",
       "      <th>1</th>\n",
       "      <td>GRE</td>\n",
       "      <td>I understand that if you get a Hard second Qua...</td>\n",
       "      <td>Quant Scoring General Question</td>\n",
       "      <td>1635797046</td>\n",
       "    </tr>\n",
       "    <tr>\n",
       "      <th>2</th>\n",
       "      <td>GRE</td>\n",
       "      <td>NaN</td>\n",
       "      <td>hey guys! i’m taking my GRE tomorrow so i’m wo...</td>\n",
       "      <td>1635785347</td>\n",
       "    </tr>\n",
       "    <tr>\n",
       "      <th>3</th>\n",
       "      <td>GRE</td>\n",
       "      <td>Here’s a popular FMO riddle:\\n\\n***If a plane ...</td>\n",
       "      <td>Be sure to tackle these FMO questions before t...</td>\n",
       "      <td>1635784006</td>\n",
       "    </tr>\n",
       "    <tr>\n",
       "      <th>4</th>\n",
       "      <td>GRE</td>\n",
       "      <td>My GRE is on November 15. I have a full-time j...</td>\n",
       "      <td>Exam in 14 days. Need a study partner!</td>\n",
       "      <td>1635783676</td>\n",
       "    </tr>\n",
       "  </tbody>\n",
       "</table>\n",
       "</div>"
      ],
      "text/plain": [
       "  subreddit                                           selftext  \\\n",
       "0       GRE                                          [deleted]   \n",
       "1       GRE  I understand that if you get a Hard second Qua...   \n",
       "2       GRE                                                NaN   \n",
       "3       GRE  Here’s a popular FMO riddle:\\n\\n***If a plane ...   \n",
       "4       GRE  My GRE is on November 15. I have a full-time j...   \n",
       "\n",
       "                                               title  created_utc  \n",
       "0              Part-to-Part and Part-to-Whole Ratios   1635799861  \n",
       "1                     Quant Scoring General Question   1635797046  \n",
       "2  hey guys! i’m taking my GRE tomorrow so i’m wo...   1635785347  \n",
       "3  Be sure to tackle these FMO questions before t...   1635784006  \n",
       "4             Exam in 14 days. Need a study partner!   1635783676  "
      ]
     },
     "execution_count": 2,
     "metadata": {},
     "output_type": "execute_result"
    }
   ],
   "source": [
    "#reading r/gre data\n",
    "gre= pd.read_csv('data/rgre.csv')\n",
    "gre.head()"
   ]
  },
  {
   "cell_type": "code",
   "execution_count": 3,
   "id": "260a49f2",
   "metadata": {},
   "outputs": [
    {
     "data": {
      "text/html": [
       "<div>\n",
       "<style scoped>\n",
       "    .dataframe tbody tr th:only-of-type {\n",
       "        vertical-align: middle;\n",
       "    }\n",
       "\n",
       "    .dataframe tbody tr th {\n",
       "        vertical-align: top;\n",
       "    }\n",
       "\n",
       "    .dataframe thead th {\n",
       "        text-align: right;\n",
       "    }\n",
       "</style>\n",
       "<table border=\"1\" class=\"dataframe\">\n",
       "  <thead>\n",
       "    <tr style=\"text-align: right;\">\n",
       "      <th></th>\n",
       "      <th>subreddit</th>\n",
       "      <th>selftext</th>\n",
       "      <th>title</th>\n",
       "      <th>created_utc</th>\n",
       "    </tr>\n",
       "  </thead>\n",
       "  <tbody>\n",
       "    <tr>\n",
       "      <th>0</th>\n",
       "      <td>GMAT</td>\n",
       "      <td>NaN</td>\n",
       "      <td>Fortune Article | Dartmouth MBA grads going in...</td>\n",
       "      <td>1635798412</td>\n",
       "    </tr>\n",
       "    <tr>\n",
       "      <th>1</th>\n",
       "      <td>GMAT</td>\n",
       "      <td>Just saw some comments from the subreddit sugg...</td>\n",
       "      <td>Got 300 in mocks and I'm depressed</td>\n",
       "      <td>1635796763</td>\n",
       "    </tr>\n",
       "    <tr>\n",
       "      <th>2</th>\n",
       "      <td>GMAT</td>\n",
       "      <td>Hi All! \\n\\nI'm currently prepping through TTP...</td>\n",
       "      <td>TTP Referral</td>\n",
       "      <td>1635791148</td>\n",
       "    </tr>\n",
       "    <tr>\n",
       "      <th>3</th>\n",
       "      <td>GMAT</td>\n",
       "      <td>Attempted my GMAT today at test center. Got a ...</td>\n",
       "      <td>690 Q48 V36. Seeking improvement in 30 days.</td>\n",
       "      <td>1635787715</td>\n",
       "    </tr>\n",
       "    <tr>\n",
       "      <th>4</th>\n",
       "      <td>GMAT</td>\n",
       "      <td>Hi, I've just finished my first Gmat exam and ...</td>\n",
       "      <td>Bad Gmat performance. Need advice</td>\n",
       "      <td>1635787521</td>\n",
       "    </tr>\n",
       "  </tbody>\n",
       "</table>\n",
       "</div>"
      ],
      "text/plain": [
       "  subreddit                                           selftext  \\\n",
       "0      GMAT                                                NaN   \n",
       "1      GMAT  Just saw some comments from the subreddit sugg...   \n",
       "2      GMAT  Hi All! \\n\\nI'm currently prepping through TTP...   \n",
       "3      GMAT  Attempted my GMAT today at test center. Got a ...   \n",
       "4      GMAT  Hi, I've just finished my first Gmat exam and ...   \n",
       "\n",
       "                                               title  created_utc  \n",
       "0  Fortune Article | Dartmouth MBA grads going in...   1635798412  \n",
       "1                 Got 300 in mocks and I'm depressed   1635796763  \n",
       "2                                       TTP Referral   1635791148  \n",
       "3       690 Q48 V36. Seeking improvement in 30 days.   1635787715  \n",
       "4                  Bad Gmat performance. Need advice   1635787521  "
      ]
     },
     "execution_count": 3,
     "metadata": {},
     "output_type": "execute_result"
    }
   ],
   "source": [
    "#reading r/gmat data\n",
    "gmat= pd.read_csv('data/rgmat.csv')\n",
    "gmat.head()"
   ]
  },
  {
   "cell_type": "code",
   "execution_count": 4,
   "id": "9b19447c",
   "metadata": {},
   "outputs": [
    {
     "data": {
      "text/plain": [
       "((10000, 4), (8500, 4))"
      ]
     },
     "execution_count": 4,
     "metadata": {},
     "output_type": "execute_result"
    }
   ],
   "source": [
    "#checking dimensions of each dataframe\n",
    "gre.shape, gmat.shape"
   ]
  },
  {
   "cell_type": "code",
   "execution_count": 5,
   "id": "58e11978",
   "metadata": {},
   "outputs": [],
   "source": [
    "#merging into one dataframe:\n",
    "df= pd.concat([gre,gmat], ignore_index=True)"
   ]
  },
  {
   "cell_type": "code",
   "execution_count": 6,
   "id": "81a3240e",
   "metadata": {},
   "outputs": [
    {
     "data": {
      "text/plain": [
       "(18500, 4)"
      ]
     },
     "execution_count": 6,
     "metadata": {},
     "output_type": "execute_result"
    }
   ],
   "source": [
    "#checking dimensions of data\n",
    "df.shape"
   ]
  },
  {
   "cell_type": "markdown",
   "id": "1b77c008",
   "metadata": {},
   "source": [
    "## Data Cleaning"
   ]
  },
  {
   "cell_type": "code",
   "execution_count": 7,
   "id": "5a295644",
   "metadata": {},
   "outputs": [
    {
     "data": {
      "text/plain": [
       "subreddit         0\n",
       "selftext       2944\n",
       "title             0\n",
       "created_utc       0\n",
       "dtype: int64"
      ]
     },
     "execution_count": 7,
     "metadata": {},
     "output_type": "execute_result"
    }
   ],
   "source": [
    "#checking for nulls.\n",
    "df.isnull().sum()"
   ]
  },
  {
   "cell_type": "markdown",
   "id": "166c3724",
   "metadata": {},
   "source": [
    "There are nulls in the 'self text' column of the concatenated dataframe. My next instinct was to find out if this was an occurence in both the gre and gmat dataframes. "
   ]
  },
  {
   "cell_type": "code",
   "execution_count": 8,
   "id": "f59f1114",
   "metadata": {},
   "outputs": [
    {
     "data": {
      "text/plain": [
       "subreddit         0\n",
       "selftext       1673\n",
       "title             0\n",
       "created_utc       0\n",
       "dtype: int64"
      ]
     },
     "execution_count": 8,
     "metadata": {},
     "output_type": "execute_result"
    }
   ],
   "source": [
    "#checking for nulls:\n",
    "gre.isnull().sum()"
   ]
  },
  {
   "cell_type": "code",
   "execution_count": 9,
   "id": "dc470474",
   "metadata": {},
   "outputs": [
    {
     "data": {
      "text/plain": [
       "subreddit         0\n",
       "selftext       1271\n",
       "title             0\n",
       "created_utc       0\n",
       "dtype: int64"
      ]
     },
     "execution_count": 9,
     "metadata": {},
     "output_type": "execute_result"
    }
   ],
   "source": [
    "#checking for nulls:\n",
    "gmat.isnull().sum()"
   ]
  },
  {
   "cell_type": "markdown",
   "id": "d455893b",
   "metadata": {},
   "source": [
    "There are nulls in the 'self text' columns of the gre and gmat dataframes. According to https://towardsdatascience.com/classifying-reddit-posts-with-natural-language-processing-and-machine-learning-695f9a576ecb, this can be explained by instances when reddit users use only the title field. Hence, I won't be dropping rows containing nulls to avoid losing valuable information."
   ]
  },
  {
   "cell_type": "code",
   "execution_count": 10,
   "id": "f6ba375a",
   "metadata": {},
   "outputs": [
    {
     "data": {
      "text/plain": [
       "True"
      ]
     },
     "execution_count": 10,
     "metadata": {},
     "output_type": "execute_result"
    }
   ],
   "source": [
    "#checking for duplicates in dataframe:\n",
    "df.duplicated().any()"
   ]
  },
  {
   "cell_type": "code",
   "execution_count": 11,
   "id": "942e44c9",
   "metadata": {},
   "outputs": [
    {
     "data": {
      "text/plain": [
       "subreddit          2\n",
       "selftext       14651\n",
       "title          17672\n",
       "created_utc    18437\n",
       "dtype: int64"
      ]
     },
     "execution_count": 11,
     "metadata": {},
     "output_type": "execute_result"
    }
   ],
   "source": [
    "#Confirming number of unique values in dataframe:\n",
    "df.nunique()"
   ]
  },
  {
   "cell_type": "markdown",
   "id": "a897fe34",
   "metadata": {},
   "source": [
    "The query for duplicates in the dataframe returned \"True\". Hence, I proceeded to check for the count of unique entries in each column. Looking at the number of unique values for \"created_utc\", we can see that 18,437 of 18,500 posts are probably unique given the times they were created/posted. \n",
    "\n",
    "However, to avoid, analysing duplicate entries, I will be dropping rows with duplicate **titles**. This is under the assumption that a title gives a definitive summary of each post and subsumes self texts."
   ]
  },
  {
   "cell_type": "code",
   "execution_count": 12,
   "id": "b50fd587",
   "metadata": {},
   "outputs": [],
   "source": [
    "#dropping duplicates\n",
    "df.drop_duplicates(subset=['title'],keep='last',inplace=True)"
   ]
  },
  {
   "cell_type": "code",
   "execution_count": 13,
   "id": "814deb71",
   "metadata": {},
   "outputs": [
    {
     "data": {
      "text/plain": [
       "(17672, 4)"
      ]
     },
     "execution_count": 13,
     "metadata": {},
     "output_type": "execute_result"
    }
   ],
   "source": [
    "#checking new dimensions of dataframe\n",
    "df.shape"
   ]
  },
  {
   "cell_type": "code",
   "execution_count": 14,
   "id": "eb7e1ae3",
   "metadata": {},
   "outputs": [
    {
     "data": {
      "text/plain": [
       "subreddit          2\n",
       "selftext       14239\n",
       "title          17672\n",
       "created_utc    17668\n",
       "dtype: int64"
      ]
     },
     "execution_count": 14,
     "metadata": {},
     "output_type": "execute_result"
    }
   ],
   "source": [
    "#confirming that duplicate titles were dropped\n",
    "df.nunique()"
   ]
  },
  {
   "cell_type": "code",
   "execution_count": 15,
   "id": "5f4d8a38",
   "metadata": {},
   "outputs": [
    {
     "data": {
      "text/plain": [
       "subreddit         1\n",
       "selftext       7572\n",
       "title          9523\n",
       "created_utc    9521\n",
       "dtype: int64"
      ]
     },
     "execution_count": 15,
     "metadata": {},
     "output_type": "execute_result"
    }
   ],
   "source": [
    "#confirming number of unique titles for r/GRE\n",
    "df[df['subreddit']=='GRE'].nunique()"
   ]
  },
  {
   "cell_type": "code",
   "execution_count": 16,
   "id": "8fa30771",
   "metadata": {},
   "outputs": [
    {
     "data": {
      "text/plain": [
       "subreddit         1\n",
       "selftext       6685\n",
       "title          8149\n",
       "created_utc    8148\n",
       "dtype: int64"
      ]
     },
     "execution_count": 16,
     "metadata": {},
     "output_type": "execute_result"
    }
   ],
   "source": [
    "#confirming number of unique titles for r/GMAT\n",
    "df[df['subreddit']=='GMAT'].nunique()"
   ]
  },
  {
   "cell_type": "code",
   "execution_count": 17,
   "id": "33ad8a98",
   "metadata": {},
   "outputs": [
    {
     "data": {
      "text/html": [
       "<div>\n",
       "<style scoped>\n",
       "    .dataframe tbody tr th:only-of-type {\n",
       "        vertical-align: middle;\n",
       "    }\n",
       "\n",
       "    .dataframe tbody tr th {\n",
       "        vertical-align: top;\n",
       "    }\n",
       "\n",
       "    .dataframe thead th {\n",
       "        text-align: right;\n",
       "    }\n",
       "</style>\n",
       "<table border=\"1\" class=\"dataframe\">\n",
       "  <thead>\n",
       "    <tr style=\"text-align: right;\">\n",
       "      <th></th>\n",
       "      <th>subreddit</th>\n",
       "      <th>selftext</th>\n",
       "      <th>title</th>\n",
       "      <th>created_utc</th>\n",
       "    </tr>\n",
       "  </thead>\n",
       "  <tbody>\n",
       "    <tr>\n",
       "      <th>2</th>\n",
       "      <td>GRE</td>\n",
       "      <td>NaN</td>\n",
       "      <td>hey guys! i’m taking my GRE tomorrow so i’m wo...</td>\n",
       "      <td>1635785347</td>\n",
       "    </tr>\n",
       "    <tr>\n",
       "      <th>15</th>\n",
       "      <td>GRE</td>\n",
       "      <td>NaN</td>\n",
       "      <td>May I know how to pay for gregmat. I’m from In...</td>\n",
       "      <td>1635754787</td>\n",
       "    </tr>\n",
       "    <tr>\n",
       "      <th>22</th>\n",
       "      <td>GRE</td>\n",
       "      <td>NaN</td>\n",
       "      <td>Can someone help me with this question?? PPP3 ...</td>\n",
       "      <td>1635746540</td>\n",
       "    </tr>\n",
       "    <tr>\n",
       "      <th>25</th>\n",
       "      <td>GRE</td>\n",
       "      <td>NaN</td>\n",
       "      <td>What do you think of the Gregmat quant vs the ...</td>\n",
       "      <td>1635740356</td>\n",
       "    </tr>\n",
       "    <tr>\n",
       "      <th>29</th>\n",
       "      <td>GRE</td>\n",
       "      <td>NaN</td>\n",
       "      <td>Is it true that the GRE now make it alot harde...</td>\n",
       "      <td>1635701564</td>\n",
       "    </tr>\n",
       "    <tr>\n",
       "      <th>...</th>\n",
       "      <td>...</td>\n",
       "      <td>...</td>\n",
       "      <td>...</td>\n",
       "      <td>...</td>\n",
       "    </tr>\n",
       "    <tr>\n",
       "      <th>18473</th>\n",
       "      <td>GMAT</td>\n",
       "      <td>NaN</td>\n",
       "      <td>What is YOUR strategy for these kind of PS que...</td>\n",
       "      <td>1585583966</td>\n",
       "    </tr>\n",
       "    <tr>\n",
       "      <th>18477</th>\n",
       "      <td>GMAT</td>\n",
       "      <td>NaN</td>\n",
       "      <td>When unemployment surges, the number of grad s...</td>\n",
       "      <td>1585537428</td>\n",
       "    </tr>\n",
       "    <tr>\n",
       "      <th>18492</th>\n",
       "      <td>GMAT</td>\n",
       "      <td>NaN</td>\n",
       "      <td>The At-Home GMAT: What To Expect</td>\n",
       "      <td>1585295390</td>\n",
       "    </tr>\n",
       "    <tr>\n",
       "      <th>18493</th>\n",
       "      <td>GMAT</td>\n",
       "      <td>NaN</td>\n",
       "      <td>Hi friends - I have a lot of students who have...</td>\n",
       "      <td>1585291815</td>\n",
       "    </tr>\n",
       "    <tr>\n",
       "      <th>18495</th>\n",
       "      <td>GMAT</td>\n",
       "      <td>NaN</td>\n",
       "      <td>GMAT can be taken online in March and April du...</td>\n",
       "      <td>1585259049</td>\n",
       "    </tr>\n",
       "  </tbody>\n",
       "</table>\n",
       "<p>2807 rows × 4 columns</p>\n",
       "</div>"
      ],
      "text/plain": [
       "      subreddit selftext                                              title  \\\n",
       "2           GRE      NaN  hey guys! i’m taking my GRE tomorrow so i’m wo...   \n",
       "15          GRE      NaN  May I know how to pay for gregmat. I’m from In...   \n",
       "22          GRE      NaN  Can someone help me with this question?? PPP3 ...   \n",
       "25          GRE      NaN  What do you think of the Gregmat quant vs the ...   \n",
       "29          GRE      NaN  Is it true that the GRE now make it alot harde...   \n",
       "...         ...      ...                                                ...   \n",
       "18473      GMAT      NaN  What is YOUR strategy for these kind of PS que...   \n",
       "18477      GMAT      NaN  When unemployment surges, the number of grad s...   \n",
       "18492      GMAT      NaN                   The At-Home GMAT: What To Expect   \n",
       "18493      GMAT      NaN  Hi friends - I have a lot of students who have...   \n",
       "18495      GMAT      NaN  GMAT can be taken online in March and April du...   \n",
       "\n",
       "       created_utc  \n",
       "2       1635785347  \n",
       "15      1635754787  \n",
       "22      1635746540  \n",
       "25      1635740356  \n",
       "29      1635701564  \n",
       "...            ...  \n",
       "18473   1585583966  \n",
       "18477   1585537428  \n",
       "18492   1585295390  \n",
       "18493   1585291815  \n",
       "18495   1585259049  \n",
       "\n",
       "[2807 rows x 4 columns]"
      ]
     },
     "execution_count": 17,
     "metadata": {},
     "output_type": "execute_result"
    }
   ],
   "source": [
    "#viewing entries where selftext column is NaN\n",
    "df[df['selftext'].isna()]"
   ]
  },
  {
   "cell_type": "code",
   "execution_count": 18,
   "id": "4175f1ac",
   "metadata": {},
   "outputs": [],
   "source": [
    "#filling nulls in the 'selftext' column with the corresponding entry in the 'title' column\n",
    "df[\"selftext\"].fillna (df[\"title\"],inplace=True)"
   ]
  },
  {
   "cell_type": "code",
   "execution_count": 19,
   "id": "d3c8e38c",
   "metadata": {},
   "outputs": [
    {
     "data": {
      "text/plain": [
       "subreddit      0\n",
       "selftext       0\n",
       "title          0\n",
       "created_utc    0\n",
       "dtype: int64"
      ]
     },
     "execution_count": 19,
     "metadata": {},
     "output_type": "execute_result"
    }
   ],
   "source": [
    "#crosschecking that nulls have been filled\n",
    "df.isnull().sum()"
   ]
  },
  {
   "cell_type": "code",
   "execution_count": 20,
   "id": "6c94d003",
   "metadata": {},
   "outputs": [],
   "source": [
    "#removing links from titles\n",
    "df['title'] = df['title'].replace('http\\S+', '', regex=True).replace('www\\S+', '', regex=True).replace('\\n\\n\\S+', '', regex=True)"
   ]
  },
  {
   "cell_type": "code",
   "execution_count": 21,
   "id": "1daa48d4",
   "metadata": {},
   "outputs": [],
   "source": [
    "#removing links from texts\n",
    "df['selftext'] = df['selftext'].replace('http\\S+', '', regex=True).replace('www\\S+', '', regex=True).replace('\\n\\n\\S+', '', regex=True)"
   ]
  },
  {
   "cell_type": "markdown",
   "id": "48829bd3",
   "metadata": {},
   "source": [
    "I decided to fill nulls in the self text column with corresponding values in the title column, because i intend to analyze these columns seperately and there should not be a confounding issue. Secondly, this follows the earlier assumption that the empty selftext entries were from users who decided to use just the title bar in making their entry. "
   ]
  },
  {
   "cell_type": "code",
   "execution_count": 22,
   "id": "847418cc",
   "metadata": {},
   "outputs": [],
   "source": [
    "#Binarizing subreddit column\n",
    "df['subreddit']=df['subreddit'].map({'GRE':1,'GMAT':0})"
   ]
  },
  {
   "cell_type": "code",
   "execution_count": 23,
   "id": "df6c5f56",
   "metadata": {},
   "outputs": [
    {
     "data": {
      "text/plain": [
       "1    0.538875\n",
       "0    0.461125\n",
       "Name: subreddit, dtype: float64"
      ]
     },
     "execution_count": 23,
     "metadata": {},
     "output_type": "execute_result"
    }
   ],
   "source": [
    "#Checking for level of balance in both classes:\n",
    "df['subreddit'].value_counts(normalize=True)"
   ]
  },
  {
   "cell_type": "code",
   "execution_count": 24,
   "id": "4d3a74da",
   "metadata": {},
   "outputs": [],
   "source": [
    "#creating column for title word count\n",
    "df['title_word_count']=df['title'].apply(lambda x:len(word_tokenize(x.lower())))"
   ]
  },
  {
   "cell_type": "code",
   "execution_count": 25,
   "id": "f06dff68",
   "metadata": {},
   "outputs": [],
   "source": [
    "#creating column for selftext word count\n",
    "df['text_word_count']=df['selftext'].apply(lambda x:len(word_tokenize(x.lower())))"
   ]
  },
  {
   "cell_type": "code",
   "execution_count": 26,
   "id": "022ef329",
   "metadata": {},
   "outputs": [
    {
     "data": {
      "image/png": "[encoded data removed]",
      "text/plain": [
       "<Figure size 720x504 with 1 Axes>"
      ]
     },
     "metadata": {
      "needs_background": "light"
     },
     "output_type": "display_data"
    }
   ],
   "source": [
    "plt.figure(figsize=(10,7))\n",
    "df['title_word_count'].hist(bins=50)\n",
    "plt.title(\"Distribution of Word Counts for 'Title' in GRE & GMAT Subreddits\", fontsize=16)\n",
    "plt.savefig(\"Distribution of Word Counts for 'Title' in GRE & GMAT Subreddits\");"
   ]
  },
  {
   "cell_type": "markdown",
   "id": "6dbbbf0c",
   "metadata": {},
   "source": [
    "As can be seen from the histogram above, the distribution of word counts for the title column is heavily skewed to the left due to the presence of extreme outliers."
   ]
  },
  {
   "cell_type": "code",
   "execution_count": 27,
   "id": "1b597824",
   "metadata": {
    "scrolled": false
   },
   "outputs": [
    {
     "data": {
      "image/png": "[encoded data removed]",
      "text/plain": [
       "<Figure size 720x504 with 1 Axes>"
      ]
     },
     "metadata": {
      "needs_background": "light"
     },
     "output_type": "display_data"
    }
   ],
   "source": [
    "plt.figure(figsize=(10,7))\n",
    "df['text_word_count'].hist(bins=50)\n",
    "plt.title(\"Distribution of Word Counts for 'SelfText' in GRE & GMAT Subreddits\",fontsize=16)\n",
    "plt.savefig(\"Distribution of Word Counts for 'SelfText' in GRE & GMAT Subreddits\");"
   ]
  },
  {
   "cell_type": "markdown",
   "id": "b754eeb9",
   "metadata": {},
   "source": [
    "The same is the case, for the self text column. Hence, we will drop entries with extreme outliers to help further analysis."
   ]
  },
  {
   "cell_type": "code",
   "execution_count": 28,
   "id": "345207ed",
   "metadata": {},
   "outputs": [
    {
     "data": {
      "text/html": [
       "<div>\n",
       "<style scoped>\n",
       "    .dataframe tbody tr th:only-of-type {\n",
       "        vertical-align: middle;\n",
       "    }\n",
       "\n",
       "    .dataframe tbody tr th {\n",
       "        vertical-align: top;\n",
       "    }\n",
       "\n",
       "    .dataframe thead th {\n",
       "        text-align: right;\n",
       "    }\n",
       "</style>\n",
       "<table border=\"1\" class=\"dataframe\">\n",
       "  <thead>\n",
       "    <tr style=\"text-align: right;\">\n",
       "      <th></th>\n",
       "      <th>subreddit</th>\n",
       "      <th>selftext</th>\n",
       "      <th>title</th>\n",
       "      <th>created_utc</th>\n",
       "      <th>title_word_count</th>\n",
       "      <th>text_word_count</th>\n",
       "    </tr>\n",
       "  </thead>\n",
       "  <tbody>\n",
       "    <tr>\n",
       "      <th>2</th>\n",
       "      <td>1</td>\n",
       "      <td>hey guys! i’m taking my GRE tomorrow so i’m wo...</td>\n",
       "      <td>hey guys! i’m taking my GRE tomorrow so i’m wo...</td>\n",
       "      <td>1635785347</td>\n",
       "      <td>75</td>\n",
       "      <td>75</td>\n",
       "    </tr>\n",
       "    <tr>\n",
       "      <th>607</th>\n",
       "      <td>1</td>\n",
       "      <td>What is the right solution for this question. ...</td>\n",
       "      <td>What is the right solution for this question. ...</td>\n",
       "      <td>1634043503</td>\n",
       "      <td>64</td>\n",
       "      <td>64</td>\n",
       "    </tr>\n",
       "    <tr>\n",
       "      <th>769</th>\n",
       "      <td>1</td>\n",
       "      <td>Somber &amp;amp; devastated after GRE scores. Took...</td>\n",
       "      <td>Somber &amp;amp; devastated after GRE scores. Took...</td>\n",
       "      <td>1633633570</td>\n",
       "      <td>69</td>\n",
       "      <td>69</td>\n",
       "    </tr>\n",
       "    <tr>\n",
       "      <th>775</th>\n",
       "      <td>1</td>\n",
       "      <td>The answer for #14 of Set 2: Medium Questions ...</td>\n",
       "      <td>The answer for #14 of Set 2: Medium Questions ...</td>\n",
       "      <td>1633626768</td>\n",
       "      <td>72</td>\n",
       "      <td>72</td>\n",
       "    </tr>\n",
       "    <tr>\n",
       "      <th>981</th>\n",
       "      <td>1</td>\n",
       "      <td>&amp;amp;#x200B;\\n\\n</td>\n",
       "      <td>I just took the ETS powerprep free practice te...</td>\n",
       "      <td>1633176787</td>\n",
       "      <td>61</td>\n",
       "      <td>6</td>\n",
       "    </tr>\n",
       "    <tr>\n",
       "      <th>...</th>\n",
       "      <td>...</td>\n",
       "      <td>...</td>\n",
       "      <td>...</td>\n",
       "      <td>...</td>\n",
       "      <td>...</td>\n",
       "      <td>...</td>\n",
       "    </tr>\n",
       "    <tr>\n",
       "      <th>17382</th>\n",
       "      <td>0</td>\n",
       "      <td>THE 700 CLUB: I’m compiling an unofficial, vol...</td>\n",
       "      <td>THE 700 CLUB: I’m compiling an unofficial, vol...</td>\n",
       "      <td>1592247802</td>\n",
       "      <td>64</td>\n",
       "      <td>64</td>\n",
       "    </tr>\n",
       "    <tr>\n",
       "      <th>17515</th>\n",
       "      <td>0</td>\n",
       "      <td>It isn't Christmas but I got a wonderful gift....</td>\n",
       "      <td>It isn't Christmas but I got a wonderful gift....</td>\n",
       "      <td>1591676124</td>\n",
       "      <td>68</td>\n",
       "      <td>68</td>\n",
       "    </tr>\n",
       "    <tr>\n",
       "      <th>18032</th>\n",
       "      <td>0</td>\n",
       "      <td>What am I missing?! Going through Kaplan basic...</td>\n",
       "      <td>What am I missing?! Going through Kaplan basic...</td>\n",
       "      <td>1588813848</td>\n",
       "      <td>62</td>\n",
       "      <td>62</td>\n",
       "    </tr>\n",
       "    <tr>\n",
       "      <th>18085</th>\n",
       "      <td>0</td>\n",
       "      <td>I teach the GMAT in San Diego &amp;amp; I see that...</td>\n",
       "      <td>I teach the GMAT in San Diego &amp;amp; I see that...</td>\n",
       "      <td>1588467397</td>\n",
       "      <td>65</td>\n",
       "      <td>65</td>\n",
       "    </tr>\n",
       "    <tr>\n",
       "      <th>18472</th>\n",
       "      <td>0</td>\n",
       "      <td>[</td>\n",
       "      <td>Read here for an article / press release on th...</td>\n",
       "      <td>1585589064</td>\n",
       "      <td>64</td>\n",
       "      <td>1</td>\n",
       "    </tr>\n",
       "  </tbody>\n",
       "</table>\n",
       "<p>89 rows × 6 columns</p>\n",
       "</div>"
      ],
      "text/plain": [
       "       subreddit                                           selftext  \\\n",
       "2              1  hey guys! i’m taking my GRE tomorrow so i’m wo...   \n",
       "607            1  What is the right solution for this question. ...   \n",
       "769            1  Somber &amp; devastated after GRE scores. Took...   \n",
       "775            1  The answer for #14 of Set 2: Medium Questions ...   \n",
       "981            1                                   &amp;#x200B;\\n\\n   \n",
       "...          ...                                                ...   \n",
       "17382          0  THE 700 CLUB: I’m compiling an unofficial, vol...   \n",
       "17515          0  It isn't Christmas but I got a wonderful gift....   \n",
       "18032          0  What am I missing?! Going through Kaplan basic...   \n",
       "18085          0  I teach the GMAT in San Diego &amp; I see that...   \n",
       "18472          0                                                  [   \n",
       "\n",
       "                                                   title  created_utc  \\\n",
       "2      hey guys! i’m taking my GRE tomorrow so i’m wo...   1635785347   \n",
       "607    What is the right solution for this question. ...   1634043503   \n",
       "769    Somber &amp; devastated after GRE scores. Took...   1633633570   \n",
       "775    The answer for #14 of Set 2: Medium Questions ...   1633626768   \n",
       "981    I just took the ETS powerprep free practice te...   1633176787   \n",
       "...                                                  ...          ...   \n",
       "17382  THE 700 CLUB: I’m compiling an unofficial, vol...   1592247802   \n",
       "17515  It isn't Christmas but I got a wonderful gift....   1591676124   \n",
       "18032  What am I missing?! Going through Kaplan basic...   1588813848   \n",
       "18085  I teach the GMAT in San Diego &amp; I see that...   1588467397   \n",
       "18472  Read here for an article / press release on th...   1585589064   \n",
       "\n",
       "       title_word_count  text_word_count  \n",
       "2                    75               75  \n",
       "607                  64               64  \n",
       "769                  69               69  \n",
       "775                  72               72  \n",
       "981                  61                6  \n",
       "...                 ...              ...  \n",
       "17382                64               64  \n",
       "17515                68               68  \n",
       "18032                62               62  \n",
       "18085                65               65  \n",
       "18472                64                1  \n",
       "\n",
       "[89 rows x 6 columns]"
      ]
     },
     "execution_count": 28,
     "metadata": {},
     "output_type": "execute_result"
    }
   ],
   "source": [
    "#displaying rows where title word count exceeds 45 words\n",
    "df[df['title_word_count']>60]"
   ]
  },
  {
   "cell_type": "code",
   "execution_count": 29,
   "id": "79715b4d",
   "metadata": {},
   "outputs": [],
   "source": [
    "#dropping rows where word count of title exceeds 60 words\n",
    "df.drop(df[df['title_word_count']>60].index,inplace=True)"
   ]
  },
  {
   "cell_type": "code",
   "execution_count": 30,
   "id": "1912b064",
   "metadata": {},
   "outputs": [
    {
     "data": {
      "text/html": [
       "<div>\n",
       "<style scoped>\n",
       "    .dataframe tbody tr th:only-of-type {\n",
       "        vertical-align: middle;\n",
       "    }\n",
       "\n",
       "    .dataframe tbody tr th {\n",
       "        vertical-align: top;\n",
       "    }\n",
       "\n",
       "    .dataframe thead th {\n",
       "        text-align: right;\n",
       "    }\n",
       "</style>\n",
       "<table border=\"1\" class=\"dataframe\">\n",
       "  <thead>\n",
       "    <tr style=\"text-align: right;\">\n",
       "      <th></th>\n",
       "      <th>subreddit</th>\n",
       "      <th>selftext</th>\n",
       "      <th>title</th>\n",
       "      <th>created_utc</th>\n",
       "      <th>title_word_count</th>\n",
       "      <th>text_word_count</th>\n",
       "    </tr>\n",
       "  </thead>\n",
       "  <tbody>\n",
       "    <tr>\n",
       "      <th>9</th>\n",
       "      <td>1</td>\n",
       "      <td>I have had problems with silly mistakes for ye...</td>\n",
       "      <td>Slaying my Silly Mistake Demons: How I confron...</td>\n",
       "      <td>1635776294</td>\n",
       "      <td>26</td>\n",
       "      <td>1869</td>\n",
       "    </tr>\n",
       "    <tr>\n",
       "      <th>1451</th>\n",
       "      <td>1</td>\n",
       "      <td>Just came back from the testing center! And I ...</td>\n",
       "      <td>Done (320, 155V + 165Q unofficial). My entire ...</td>\n",
       "      <td>1632137990</td>\n",
       "      <td>14</td>\n",
       "      <td>3077</td>\n",
       "    </tr>\n",
       "    <tr>\n",
       "      <th>1615</th>\n",
       "      <td>1</td>\n",
       "      <td>&amp;amp;#x200B; Test-Day Tips: 23 Strategies for ...</td>\n",
       "      <td>GRE Test-Day Tips: 23 Strategies for Success</td>\n",
       "      <td>1631792314</td>\n",
       "      <td>8</td>\n",
       "      <td>2120</td>\n",
       "    </tr>\n",
       "    <tr>\n",
       "      <th>1706</th>\n",
       "      <td>1</td>\n",
       "      <td>So I gave my GRE roughly a week ago on the 5th...</td>\n",
       "      <td>V: 159 Q: 164 Ask me anything!</td>\n",
       "      <td>1631613229</td>\n",
       "      <td>10</td>\n",
       "      <td>1986</td>\n",
       "    </tr>\n",
       "    <tr>\n",
       "      <th>1817</th>\n",
       "      <td>1</td>\n",
       "      <td>Disclaimer: Long Post / Short Story - 159V, 16...</td>\n",
       "      <td>My Journey to 325 (without subscriptions or co...</td>\n",
       "      <td>1631384334</td>\n",
       "      <td>10</td>\n",
       "      <td>4149</td>\n",
       "    </tr>\n",
       "    <tr>\n",
       "      <th>...</th>\n",
       "      <td>...</td>\n",
       "      <td>...</td>\n",
       "      <td>...</td>\n",
       "      <td>...</td>\n",
       "      <td>...</td>\n",
       "      <td>...</td>\n",
       "    </tr>\n",
       "    <tr>\n",
       "      <th>16706</th>\n",
       "      <td>0</td>\n",
       "      <td>The sub has grown significantly since I took t...</td>\n",
       "      <td>780: Test Plan, Debrief, &amp;amp; Insights</td>\n",
       "      <td>1595347069</td>\n",
       "      <td>11</td>\n",
       "      <td>1805</td>\n",
       "    </tr>\n",
       "    <tr>\n",
       "      <th>16715</th>\n",
       "      <td>0</td>\n",
       "      <td>Hey Everyone, apologize for this long post, bu...</td>\n",
       "      <td>My 3 year GMAT Journey has ended - 580 to 710 ...</td>\n",
       "      <td>1595300226</td>\n",
       "      <td>14</td>\n",
       "      <td>1977</td>\n",
       "    </tr>\n",
       "    <tr>\n",
       "      <th>17180</th>\n",
       "      <td>0</td>\n",
       "      <td>After finally wrapping up the GMAT last week, ...</td>\n",
       "      <td>From 710 to 770 (50Q/45V/8IR/6AWA): GMAT Study...</td>\n",
       "      <td>1593143833</td>\n",
       "      <td>21</td>\n",
       "      <td>3453</td>\n",
       "    </tr>\n",
       "    <tr>\n",
       "      <th>17455</th>\n",
       "      <td>0</td>\n",
       "      <td>**Summary**    \\nOnline Score: 710 (47/40)    ...</td>\n",
       "      <td>Debrief: 650 to 710 (Q47/V40 Online)</td>\n",
       "      <td>1591969910</td>\n",
       "      <td>9</td>\n",
       "      <td>3381</td>\n",
       "    </tr>\n",
       "    <tr>\n",
       "      <th>17984</th>\n",
       "      <td>0</td>\n",
       "      <td>Hi GMAT-world, wrote a post about 3 months ago...</td>\n",
       "      <td>Finally broke 720 (48Q, 41V). Detailing the lo...</td>\n",
       "      <td>1589206740</td>\n",
       "      <td>16</td>\n",
       "      <td>1954</td>\n",
       "    </tr>\n",
       "  </tbody>\n",
       "</table>\n",
       "<p>64 rows × 6 columns</p>\n",
       "</div>"
      ],
      "text/plain": [
       "       subreddit                                           selftext  \\\n",
       "9              1  I have had problems with silly mistakes for ye...   \n",
       "1451           1  Just came back from the testing center! And I ...   \n",
       "1615           1  &amp;#x200B; Test-Day Tips: 23 Strategies for ...   \n",
       "1706           1  So I gave my GRE roughly a week ago on the 5th...   \n",
       "1817           1  Disclaimer: Long Post / Short Story - 159V, 16...   \n",
       "...          ...                                                ...   \n",
       "16706          0  The sub has grown significantly since I took t...   \n",
       "16715          0  Hey Everyone, apologize for this long post, bu...   \n",
       "17180          0  After finally wrapping up the GMAT last week, ...   \n",
       "17455          0  **Summary**    \\nOnline Score: 710 (47/40)    ...   \n",
       "17984          0  Hi GMAT-world, wrote a post about 3 months ago...   \n",
       "\n",
       "                                                   title  created_utc  \\\n",
       "9      Slaying my Silly Mistake Demons: How I confron...   1635776294   \n",
       "1451   Done (320, 155V + 165Q unofficial). My entire ...   1632137990   \n",
       "1615        GRE Test-Day Tips: 23 Strategies for Success   1631792314   \n",
       "1706                      V: 159 Q: 164 Ask me anything!   1631613229   \n",
       "1817   My Journey to 325 (without subscriptions or co...   1631384334   \n",
       "...                                                  ...          ...   \n",
       "16706            780: Test Plan, Debrief, &amp; Insights   1595347069   \n",
       "16715  My 3 year GMAT Journey has ended - 580 to 710 ...   1595300226   \n",
       "17180  From 710 to 770 (50Q/45V/8IR/6AWA): GMAT Study...   1593143833   \n",
       "17455               Debrief: 650 to 710 (Q47/V40 Online)   1591969910   \n",
       "17984  Finally broke 720 (48Q, 41V). Detailing the lo...   1589206740   \n",
       "\n",
       "       title_word_count  text_word_count  \n",
       "9                    26             1869  \n",
       "1451                 14             3077  \n",
       "1615                  8             2120  \n",
       "1706                 10             1986  \n",
       "1817                 10             4149  \n",
       "...                 ...              ...  \n",
       "16706                11             1805  \n",
       "16715                14             1977  \n",
       "17180                21             3453  \n",
       "17455                 9             3381  \n",
       "17984                16             1954  \n",
       "\n",
       "[64 rows x 6 columns]"
      ]
     },
     "execution_count": 30,
     "metadata": {},
     "output_type": "execute_result"
    }
   ],
   "source": [
    "#displaying rows where word count of self text exceeds 1,700 words\n",
    "df[df['text_word_count']>1700]"
   ]
  },
  {
   "cell_type": "code",
   "execution_count": 31,
   "id": "6ca4df1d",
   "metadata": {},
   "outputs": [],
   "source": [
    "#dropping rows where self text word count exceeds 1,700 words\n",
    "df.drop(df[df['text_word_count']>1700].index,inplace=True)"
   ]
  },
  {
   "cell_type": "code",
   "execution_count": 32,
   "id": "523288bf",
   "metadata": {},
   "outputs": [
    {
     "data": {
      "text/plain": [
       "1    9447\n",
       "0    8072\n",
       "Name: subreddit, dtype: int64"
      ]
     },
     "execution_count": 32,
     "metadata": {},
     "output_type": "execute_result"
    }
   ],
   "source": [
    "#confirming number of entries in both classes \n",
    "df['subreddit'].value_counts()"
   ]
  },
  {
   "cell_type": "code",
   "execution_count": 33,
   "id": "d95423f9",
   "metadata": {},
   "outputs": [
    {
     "data": {
      "text/plain": [
       "(17519, 6)"
      ]
     },
     "execution_count": 33,
     "metadata": {},
     "output_type": "execute_result"
    }
   ],
   "source": [
    "#checking new dataframe dimensions\n",
    "df.shape"
   ]
  },
  {
   "cell_type": "code",
   "execution_count": 34,
   "id": "bf3bf5f6",
   "metadata": {},
   "outputs": [
    {
     "data": {
      "text/plain": [
       "subreddit\n",
       "0    10.393211\n",
       "1    10.541971\n",
       "Name: title_word_count, dtype: float64"
      ]
     },
     "execution_count": 34,
     "metadata": {},
     "output_type": "execute_result"
    }
   ],
   "source": [
    "#mean word count of titles by subreddit\n",
    "df.groupby('subreddit')['title_word_count'].mean()"
   ]
  },
  {
   "cell_type": "markdown",
   "id": "1eb3c564",
   "metadata": {},
   "source": [
    "Mean word count for titles were fairly equal between both subreddits, although titles in r/GRE were slightly longer on average."
   ]
  },
  {
   "cell_type": "code",
   "execution_count": 35,
   "id": "d666a0e6",
   "metadata": {},
   "outputs": [
    {
     "data": {
      "text/plain": [
       "subreddit\n",
       "0    116.977701\n",
       "1    123.665714\n",
       "Name: text_word_count, dtype: float64"
      ]
     },
     "execution_count": 35,
     "metadata": {},
     "output_type": "execute_result"
    }
   ],
   "source": [
    "#mean word count of selftexts by subreddit\n",
    "df.groupby('subreddit')['text_word_count'].mean()"
   ]
  },
  {
   "cell_type": "markdown",
   "id": "dd72e28a",
   "metadata": {},
   "source": [
    "Mean word counts for selftexts in both subreddits did not differ significantly. Like with titles, word count for selftexts in r/GRE were slightly longer on average than r/GMAT."
   ]
  },
  {
   "cell_type": "markdown",
   "id": "c988106e",
   "metadata": {},
   "source": [
    "## Preprocessing"
   ]
  },
  {
   "cell_type": "code",
   "execution_count": 36,
   "id": "037f8d72",
   "metadata": {},
   "outputs": [],
   "source": [
    "#setting up X & y features:\n",
    "X1= df['title']\n",
    "X2=df['selftext']\n",
    "y= df[\"subreddit\"]"
   ]
  },
  {
   "cell_type": "code",
   "execution_count": 37,
   "id": "aa0efcda",
   "metadata": {},
   "outputs": [],
   "source": [
    "#creating train test sets for title feature & specifying random_state=42 for replicability\n",
    "X1_train, X1_test, y_train, y_test = train_test_split(X1,y,stratify=y,random_state=42)"
   ]
  },
  {
   "cell_type": "code",
   "execution_count": 38,
   "id": "c4edf9b0",
   "metadata": {},
   "outputs": [],
   "source": [
    "#creating train test sets for selftext feature & specifying random_state=42 for replicability\n",
    "X2_train, X2_test, y_train, y_test = train_test_split(X2,y,stratify=y,random_state=42)"
   ]
  },
  {
   "cell_type": "code",
   "execution_count": 39,
   "id": "ddb92432",
   "metadata": {},
   "outputs": [],
   "source": [
    "# Instantiate CountVectorizer for title column with params\n",
    "cvec_title = CountVectorizer(stop_words= 'english',ngram_range=(1,3),max_df=0.8,min_df=0.02)"
   ]
  },
  {
   "cell_type": "code",
   "execution_count": 40,
   "id": "360b29ed",
   "metadata": {},
   "outputs": [],
   "source": [
    "# Instantiate CountVectorizer for selftext column with params\n",
    "cvec_text = CountVectorizer(stop_words= 'english',ngram_range=(1,6),max_df=0.8,min_df=0.05)"
   ]
  },
  {
   "cell_type": "code",
   "execution_count": 41,
   "id": "b81eaf52",
   "metadata": {},
   "outputs": [],
   "source": [
    "# Fit & transform the vectorizer on training corpus (title column)\n",
    "Xcvec_title_train = cvec_title.fit_transform(X1_train)"
   ]
  },
  {
   "cell_type": "code",
   "execution_count": 42,
   "id": "16e44e40",
   "metadata": {},
   "outputs": [],
   "source": [
    "# transform the vectorizer on test corpus (title column)\n",
    "Xcvec_title_test = cvec_title.transform(X1_test)"
   ]
  },
  {
   "cell_type": "code",
   "execution_count": 43,
   "id": "b45c5bf7",
   "metadata": {},
   "outputs": [],
   "source": [
    "# Fit & transform the vectorizer on training corpus (selftext column)\n",
    "Xcvec_text_train = cvec_text.fit_transform(X2_train)"
   ]
  },
  {
   "cell_type": "code",
   "execution_count": 44,
   "id": "94bfa489",
   "metadata": {},
   "outputs": [],
   "source": [
    "# transform the vectorizer on test corpus (selftext column)\n",
    "Xcvec_text_test = cvec_text.transform(X2_test)"
   ]
  },
  {
   "cell_type": "code",
   "execution_count": 45,
   "id": "a1f66ae0",
   "metadata": {},
   "outputs": [
    {
     "data": {
      "text/plain": [
       "((13139, 31), (4380, 31), (13139, 102), (4380, 102))"
      ]
     },
     "execution_count": 45,
     "metadata": {},
     "output_type": "execute_result"
    }
   ],
   "source": [
    "#checking dimensions\n",
    "Xcvec_title_train.shape, Xcvec_title_test.shape, Xcvec_text_train.shape, Xcvec_text_test.shape"
   ]
  },
  {
   "cell_type": "code",
   "execution_count": 46,
   "id": "6e104420",
   "metadata": {},
   "outputs": [],
   "source": [
    "#1) storing in dataframe\n",
    "Xcvec_title_train_df = pd.DataFrame(Xcvec_title_train.todense(),\n",
    "                              columns=cvec_title.get_feature_names())"
   ]
  },
  {
   "cell_type": "code",
   "execution_count": 47,
   "id": "b4ab9a03",
   "metadata": {},
   "outputs": [],
   "source": [
    "#2) storing in dataframe\n",
    "Xcvec_title_test_df = pd.DataFrame(Xcvec_title_test.todense(),\n",
    "                              columns=cvec_title.get_feature_names())"
   ]
  },
  {
   "cell_type": "code",
   "execution_count": 48,
   "id": "54b9afb4",
   "metadata": {},
   "outputs": [],
   "source": [
    "#3) storing in dataframe\n",
    "Xcvec_text_train_df = pd.DataFrame(Xcvec_text_train.todense(),\n",
    "                              columns=cvec_text.get_feature_names())"
   ]
  },
  {
   "cell_type": "code",
   "execution_count": 49,
   "id": "956545a2",
   "metadata": {},
   "outputs": [],
   "source": [
    "#4) storing in dataframe\n",
    "Xcvec_text_test_df = pd.DataFrame(Xcvec_text_test.todense(),\n",
    "                              columns=cvec_text.get_feature_names())"
   ]
  },
  {
   "cell_type": "code",
   "execution_count": 50,
   "id": "784387fa",
   "metadata": {},
   "outputs": [
    {
     "name": "stdout",
     "output_type": "stream",
     "text": [
      "(13139, 31)\n",
      "(4380, 31)\n",
      "(13139, 102)\n",
      "(4380, 102)\n"
     ]
    }
   ],
   "source": [
    "#cheking dimensions of dataframes\n",
    "print(Xcvec_title_train_df.shape)\n",
    "print(Xcvec_title_test_df.shape)\n",
    "print(Xcvec_text_train_df.shape) \n",
    "print(Xcvec_text_test_df.shape)"
   ]
  },
  {
   "cell_type": "code",
   "execution_count": 51,
   "id": "2f810593",
   "metadata": {},
   "outputs": [
    {
     "data": {
      "text/plain": [
       "(13139, 133)"
      ]
     },
     "execution_count": 51,
     "metadata": {},
     "output_type": "execute_result"
    }
   ],
   "source": [
    "#concactenating count vectorized X features (training set) & checking dimensions\n",
    "Xcvec_train_df = pd.concat([Xcvec_title_train_df,Xcvec_text_train_df],axis=1)\n",
    "Xcvec_train_df.shape"
   ]
  },
  {
   "cell_type": "code",
   "execution_count": 52,
   "id": "7e8bba57",
   "metadata": {},
   "outputs": [
    {
     "data": {
      "text/plain": [
       "(4380, 133)"
      ]
     },
     "execution_count": 52,
     "metadata": {},
     "output_type": "execute_result"
    }
   ],
   "source": [
    "#concactenating count vectorized X features (test set) &checking dimensions\n",
    "Xcvec_test_df = pd.concat([Xcvec_title_test_df,Xcvec_text_test_df],axis=1)\n",
    "Xcvec_test_df.shape"
   ]
  },
  {
   "cell_type": "code",
   "execution_count": 53,
   "id": "f3e62441",
   "metadata": {},
   "outputs": [
    {
     "data": {
      "text/plain": [
       "((13139,), (4380,))"
      ]
     },
     "execution_count": 53,
     "metadata": {},
     "output_type": "execute_result"
    }
   ],
   "source": [
    "y_train.shape, y_test.shape"
   ]
  },
  {
   "cell_type": "markdown",
   "id": "b21ea58b",
   "metadata": {},
   "source": [
    "## EDA"
   ]
  },
  {
   "cell_type": "code",
   "execution_count": 54,
   "id": "d8ef7a85",
   "metadata": {},
   "outputs": [
    {
     "data": {
      "text/html": [
       "<div>\n",
       "<style scoped>\n",
       "    .dataframe tbody tr th:only-of-type {\n",
       "        vertical-align: middle;\n",
       "    }\n",
       "\n",
       "    .dataframe tbody tr th {\n",
       "        vertical-align: top;\n",
       "    }\n",
       "\n",
       "    .dataframe thead th {\n",
       "        text-align: right;\n",
       "    }\n",
       "</style>\n",
       "<table border=\"1\" class=\"dataframe\">\n",
       "  <thead>\n",
       "    <tr style=\"text-align: right;\">\n",
       "      <th></th>\n",
       "      <th>advice</th>\n",
       "      <th>best</th>\n",
       "      <th>days</th>\n",
       "      <th>essay</th>\n",
       "      <th>ets</th>\n",
       "      <th>exam</th>\n",
       "      <th>gmat</th>\n",
       "      <th>gmat online</th>\n",
       "      <th>got</th>\n",
       "      <th>gre</th>\n",
       "      <th>...</th>\n",
       "      <th>ve</th>\n",
       "      <th>verbal</th>\n",
       "      <th>want</th>\n",
       "      <th>wanted</th>\n",
       "      <th>way</th>\n",
       "      <th>week</th>\n",
       "      <th>weeks</th>\n",
       "      <th>work</th>\n",
       "      <th>wrong</th>\n",
       "      <th>year</th>\n",
       "    </tr>\n",
       "  </thead>\n",
       "  <tbody>\n",
       "    <tr>\n",
       "      <th>count</th>\n",
       "      <td>13139.000000</td>\n",
       "      <td>13139.000000</td>\n",
       "      <td>13139.000000</td>\n",
       "      <td>13139.000000</td>\n",
       "      <td>13139.000000</td>\n",
       "      <td>13139.000000</td>\n",
       "      <td>13139.000000</td>\n",
       "      <td>13139.000000</td>\n",
       "      <td>13139.000000</td>\n",
       "      <td>13139.000000</td>\n",
       "      <td>...</td>\n",
       "      <td>13139.000000</td>\n",
       "      <td>13139.000000</td>\n",
       "      <td>13139.000000</td>\n",
       "      <td>13139.000000</td>\n",
       "      <td>13139.000000</td>\n",
       "      <td>13139.000000</td>\n",
       "      <td>13139.000000</td>\n",
       "      <td>13139.000000</td>\n",
       "      <td>13139.000000</td>\n",
       "      <td>13139.000000</td>\n",
       "    </tr>\n",
       "    <tr>\n",
       "      <th>mean</th>\n",
       "      <td>0.028389</td>\n",
       "      <td>0.020321</td>\n",
       "      <td>0.022072</td>\n",
       "      <td>0.023366</td>\n",
       "      <td>0.023289</td>\n",
       "      <td>0.039653</td>\n",
       "      <td>0.190958</td>\n",
       "      <td>0.025192</td>\n",
       "      <td>0.020702</td>\n",
       "      <td>0.203136</td>\n",
       "      <td>...</td>\n",
       "      <td>0.192404</td>\n",
       "      <td>0.404293</td>\n",
       "      <td>0.140422</td>\n",
       "      <td>0.060279</td>\n",
       "      <td>0.105487</td>\n",
       "      <td>0.093462</td>\n",
       "      <td>0.085242</td>\n",
       "      <td>0.113403</td>\n",
       "      <td>0.075348</td>\n",
       "      <td>0.081741</td>\n",
       "    </tr>\n",
       "    <tr>\n",
       "      <th>std</th>\n",
       "      <td>0.167001</td>\n",
       "      <td>0.142177</td>\n",
       "      <td>0.154498</td>\n",
       "      <td>0.156024</td>\n",
       "      <td>0.153825</td>\n",
       "      <td>0.203550</td>\n",
       "      <td>0.412903</td>\n",
       "      <td>0.161498</td>\n",
       "      <td>0.146603</td>\n",
       "      <td>0.417572</td>\n",
       "      <td>...</td>\n",
       "      <td>0.595538</td>\n",
       "      <td>1.179582</td>\n",
       "      <td>0.438128</td>\n",
       "      <td>0.273710</td>\n",
       "      <td>0.412341</td>\n",
       "      <td>0.391455</td>\n",
       "      <td>0.359560</td>\n",
       "      <td>0.499736</td>\n",
       "      <td>0.381427</td>\n",
       "      <td>0.429025</td>\n",
       "    </tr>\n",
       "    <tr>\n",
       "      <th>min</th>\n",
       "      <td>0.000000</td>\n",
       "      <td>0.000000</td>\n",
       "      <td>0.000000</td>\n",
       "      <td>0.000000</td>\n",
       "      <td>0.000000</td>\n",
       "      <td>0.000000</td>\n",
       "      <td>0.000000</td>\n",
       "      <td>0.000000</td>\n",
       "      <td>0.000000</td>\n",
       "      <td>0.000000</td>\n",
       "      <td>...</td>\n",
       "      <td>0.000000</td>\n",
       "      <td>0.000000</td>\n",
       "      <td>0.000000</td>\n",
       "      <td>0.000000</td>\n",
       "      <td>0.000000</td>\n",
       "      <td>0.000000</td>\n",
       "      <td>0.000000</td>\n",
       "      <td>0.000000</td>\n",
       "      <td>0.000000</td>\n",
       "      <td>0.000000</td>\n",
       "    </tr>\n",
       "    <tr>\n",
       "      <th>25%</th>\n",
       "      <td>0.000000</td>\n",
       "      <td>0.000000</td>\n",
       "      <td>0.000000</td>\n",
       "      <td>0.000000</td>\n",
       "      <td>0.000000</td>\n",
       "      <td>0.000000</td>\n",
       "      <td>0.000000</td>\n",
       "      <td>0.000000</td>\n",
       "      <td>0.000000</td>\n",
       "      <td>0.000000</td>\n",
       "      <td>...</td>\n",
       "      <td>0.000000</td>\n",
       "      <td>0.000000</td>\n",
       "      <td>0.000000</td>\n",
       "      <td>0.000000</td>\n",
       "      <td>0.000000</td>\n",
       "      <td>0.000000</td>\n",
       "      <td>0.000000</td>\n",
       "      <td>0.000000</td>\n",
       "      <td>0.000000</td>\n",
       "      <td>0.000000</td>\n",
       "    </tr>\n",
       "    <tr>\n",
       "      <th>50%</th>\n",
       "      <td>0.000000</td>\n",
       "      <td>0.000000</td>\n",
       "      <td>0.000000</td>\n",
       "      <td>0.000000</td>\n",
       "      <td>0.000000</td>\n",
       "      <td>0.000000</td>\n",
       "      <td>0.000000</td>\n",
       "      <td>0.000000</td>\n",
       "      <td>0.000000</td>\n",
       "      <td>0.000000</td>\n",
       "      <td>...</td>\n",
       "      <td>0.000000</td>\n",
       "      <td>0.000000</td>\n",
       "      <td>0.000000</td>\n",
       "      <td>0.000000</td>\n",
       "      <td>0.000000</td>\n",
       "      <td>0.000000</td>\n",
       "      <td>0.000000</td>\n",
       "      <td>0.000000</td>\n",
       "      <td>0.000000</td>\n",
       "      <td>0.000000</td>\n",
       "    </tr>\n",
       "    <tr>\n",
       "      <th>75%</th>\n",
       "      <td>0.000000</td>\n",
       "      <td>0.000000</td>\n",
       "      <td>0.000000</td>\n",
       "      <td>0.000000</td>\n",
       "      <td>0.000000</td>\n",
       "      <td>0.000000</td>\n",
       "      <td>0.000000</td>\n",
       "      <td>0.000000</td>\n",
       "      <td>0.000000</td>\n",
       "      <td>0.000000</td>\n",
       "      <td>...</td>\n",
       "      <td>0.000000</td>\n",
       "      <td>0.000000</td>\n",
       "      <td>0.000000</td>\n",
       "      <td>0.000000</td>\n",
       "      <td>0.000000</td>\n",
       "      <td>0.000000</td>\n",
       "      <td>0.000000</td>\n",
       "      <td>0.000000</td>\n",
       "      <td>0.000000</td>\n",
       "      <td>0.000000</td>\n",
       "    </tr>\n",
       "    <tr>\n",
       "      <th>max</th>\n",
       "      <td>2.000000</td>\n",
       "      <td>2.000000</td>\n",
       "      <td>3.000000</td>\n",
       "      <td>2.000000</td>\n",
       "      <td>2.000000</td>\n",
       "      <td>2.000000</td>\n",
       "      <td>3.000000</td>\n",
       "      <td>2.000000</td>\n",
       "      <td>2.000000</td>\n",
       "      <td>3.000000</td>\n",
       "      <td>...</td>\n",
       "      <td>15.000000</td>\n",
       "      <td>41.000000</td>\n",
       "      <td>7.000000</td>\n",
       "      <td>4.000000</td>\n",
       "      <td>8.000000</td>\n",
       "      <td>12.000000</td>\n",
       "      <td>6.000000</td>\n",
       "      <td>13.000000</td>\n",
       "      <td>9.000000</td>\n",
       "      <td>11.000000</td>\n",
       "    </tr>\n",
       "  </tbody>\n",
       "</table>\n",
       "<p>8 rows × 133 columns</p>\n",
       "</div>"
      ],
      "text/plain": [
       "             advice          best          days         essay           ets  \\\n",
       "count  13139.000000  13139.000000  13139.000000  13139.000000  13139.000000   \n",
       "mean       0.028389      0.020321      0.022072      0.023366      0.023289   \n",
       "std        0.167001      0.142177      0.154498      0.156024      0.153825   \n",
       "min        0.000000      0.000000      0.000000      0.000000      0.000000   \n",
       "25%        0.000000      0.000000      0.000000      0.000000      0.000000   \n",
       "50%        0.000000      0.000000      0.000000      0.000000      0.000000   \n",
       "75%        0.000000      0.000000      0.000000      0.000000      0.000000   \n",
       "max        2.000000      2.000000      3.000000      2.000000      2.000000   \n",
       "\n",
       "               exam          gmat   gmat online           got           gre  \\\n",
       "count  13139.000000  13139.000000  13139.000000  13139.000000  13139.000000   \n",
       "mean       0.039653      0.190958      0.025192      0.020702      0.203136   \n",
       "std        0.203550      0.412903      0.161498      0.146603      0.417572   \n",
       "min        0.000000      0.000000      0.000000      0.000000      0.000000   \n",
       "25%        0.000000      0.000000      0.000000      0.000000      0.000000   \n",
       "50%        0.000000      0.000000      0.000000      0.000000      0.000000   \n",
       "75%        0.000000      0.000000      0.000000      0.000000      0.000000   \n",
       "max        2.000000      3.000000      2.000000      2.000000      3.000000   \n",
       "\n",
       "       ...            ve        verbal          want        wanted  \\\n",
       "count  ...  13139.000000  13139.000000  13139.000000  13139.000000   \n",
       "mean   ...      0.192404      0.404293      0.140422      0.060279   \n",
       "std    ...      0.595538      1.179582      0.438128      0.273710   \n",
       "min    ...      0.000000      0.000000      0.000000      0.000000   \n",
       "25%    ...      0.000000      0.000000      0.000000      0.000000   \n",
       "50%    ...      0.000000      0.000000      0.000000      0.000000   \n",
       "75%    ...      0.000000      0.000000      0.000000      0.000000   \n",
       "max    ...     15.000000     41.000000      7.000000      4.000000   \n",
       "\n",
       "                way          week         weeks          work         wrong  \\\n",
       "count  13139.000000  13139.000000  13139.000000  13139.000000  13139.000000   \n",
       "mean       0.105487      0.093462      0.085242      0.113403      0.075348   \n",
       "std        0.412341      0.391455      0.359560      0.499736      0.381427   \n",
       "min        0.000000      0.000000      0.000000      0.000000      0.000000   \n",
       "25%        0.000000      0.000000      0.000000      0.000000      0.000000   \n",
       "50%        0.000000      0.000000      0.000000      0.000000      0.000000   \n",
       "75%        0.000000      0.000000      0.000000      0.000000      0.000000   \n",
       "max        8.000000     12.000000      6.000000     13.000000      9.000000   \n",
       "\n",
       "               year  \n",
       "count  13139.000000  \n",
       "mean       0.081741  \n",
       "std        0.429025  \n",
       "min        0.000000  \n",
       "25%        0.000000  \n",
       "50%        0.000000  \n",
       "75%        0.000000  \n",
       "max       11.000000  \n",
       "\n",
       "[8 rows x 133 columns]"
      ]
     },
     "execution_count": 54,
     "metadata": {},
     "output_type": "execute_result"
    }
   ],
   "source": [
    "#descriptive statistics\n",
    "Xcvec_train_df.describe()"
   ]
  },
  {
   "cell_type": "code",
   "execution_count": 55,
   "id": "dca40ed7",
   "metadata": {},
   "outputs": [
    {
     "data": {
      "text/plain": [
       "(13139, 134)"
      ]
     },
     "execution_count": 55,
     "metadata": {},
     "output_type": "execute_result"
    }
   ],
   "source": [
    "#creating dataframe to merge count vectorized X features with target variable to facilitate EDA\n",
    "Xcvec_train_df.reset_index(drop=True,inplace=True)\n",
    "y_train.reset_index(drop=True,inplace=True)\n",
    "all_features= pd.concat([y_train,Xcvec_train_df], axis=1)\n",
    "all_features.shape"
   ]
  },
  {
   "cell_type": "code",
   "execution_count": 56,
   "id": "e277d3f8",
   "metadata": {},
   "outputs": [
    {
     "data": {
      "image/png": "[encoded data removed]",
      "text/plain": [
       "<Figure size 1080x1080 with 1 Axes>"
      ]
     },
     "metadata": {
      "needs_background": "light"
     },
     "output_type": "display_data"
    }
   ],
   "source": [
    "plt.figure(figsize=(15,15))\n",
    "Xcvec_train_df.sum().sort_values(ascending=False).head(30).plot(kind='barh')\n",
    "plt.xlabel(\"Number of Occurrences\",fontsize=16)\n",
    "plt.ylabel(\"Words\",fontsize=16)\n",
    "plt.title(\"Top 30 Most Frequently Occuring Words in rGMAT & rGRE\", fontsize=20)\n",
    "plt.savefig(\"Top 30 Most Frequently Occuring Words in rGMAT & rGRE\");"
   ]
  },
  {
   "cell_type": "markdown",
   "id": "7a734d81",
   "metadata": {},
   "source": [
    "Test was the most frequently reoccuring word in both subreddits, with a count of over 8,000 occurences, next were the test names themselves, GMAT, and GRE, respectively. This was followed by more generic words 'score'and 'questions'. The Quantitative section on the GRE is often referred to as 'quant'. However the math section on the GMAT could also be referred to as quant by users. Both tests have a verbal section. "
   ]
  },
  {
   "cell_type": "code",
   "execution_count": 57,
   "id": "984cf838",
   "metadata": {},
   "outputs": [],
   "source": [
    "#setting option to display max number of columns\n",
    "pd.set_option(\"display.max_columns\",500)"
   ]
  },
  {
   "cell_type": "code",
   "execution_count": 58,
   "id": "f753c6a0",
   "metadata": {},
   "outputs": [
    {
     "data": {
      "image/png": "[encoded data removed]",
      "text/plain": [
       "<Figure size 720x864 with 1 Axes>"
      ]
     },
     "metadata": {
      "needs_background": "light"
     },
     "output_type": "display_data"
    }
   ],
   "source": [
    "plt.figure(figsize=(10,12))\n",
    "all_features[all_features[\"subreddit\"]==1].iloc[:,1:].sum().sort_values(ascending=False).head(25).plot(kind='barh',color=\"purple\");\n",
    "plt.xlabel(\"Number of Occurences\",fontsize=16)\n",
    "plt.ylabel(\"Words\",fontsize=16)\n",
    "plt.title(\"Top 25 Most Frequently Occuring Words in rGRE\",fontsize=18)\n",
    "plt.savefig(\"Top 25 Most Frequently Occuring Words in rGRE\");"
   ]
  },
  {
   "cell_type": "code",
   "execution_count": 59,
   "id": "8360c37d",
   "metadata": {},
   "outputs": [
    {
     "data": {
      "image/png": "[encoded data removed]",
      "text/plain": [
       "<Figure size 720x864 with 1 Axes>"
      ]
     },
     "metadata": {
      "needs_background": "light"
     },
     "output_type": "display_data"
    }
   ],
   "source": [
    "plt.figure(figsize=(10,12))\n",
    "all_features[all_features[\"subreddit\"]==0].iloc[:,1:].sum().sort_values(ascending=False).head(25).plot(kind='barh', color='black')\n",
    "plt.xlabel(\"Number of Occurences\",fontsize=16)\n",
    "plt.ylabel(\"Words\",fontsize=16)\n",
    "plt.title(\"Top 25 Most Frequently Occuring Words in rGMAT\",fontsize=18)\n",
    "plt.savefig(\"Top 25 Most Frequently Occuring Words in rGMAT\");"
   ]
  },
  {
   "cell_type": "markdown",
   "id": "b6801b4d",
   "metadata": {},
   "source": [
    "The most frequently occuring words in both the GRE and GMAT subreddits,as can be seen in the plots above, are quite similar. In fact, many of these words do not help in improving predictive power of the model. As such, I will be including some of these words as 'stop words' in the model in order to reduce \"noise\" in the model, and improve predictive power. "
   ]
  },
  {
   "cell_type": "code",
   "execution_count": 60,
   "id": "4dd0f569",
   "metadata": {},
   "outputs": [],
   "source": [
    "#customizing list of stop words\n",
    "my_words= ['test','score','scores','question','questions','time','verbal','just','tests','exam','practice','got','know','like','section',\n",
    "          'did','really','study','https', \"prep\", \"online\",\"took\"]\n"
   ]
  },
  {
   "cell_type": "code",
   "execution_count": 61,
   "id": "b0b68fe1",
   "metadata": {},
   "outputs": [
    {
     "data": {
      "text/plain": [
       "frozenset({'a',\n",
       "           'about',\n",
       "           'above',\n",
       "           'across',\n",
       "           'after',\n",
       "           'afterwards',\n",
       "           'again',\n",
       "           'against',\n",
       "           'all',\n",
       "           'almost',\n",
       "           'alone',\n",
       "           'along',\n",
       "           'already',\n",
       "           'also',\n",
       "           'although',\n",
       "           'always',\n",
       "           'am',\n",
       "           'among',\n",
       "           'amongst',\n",
       "           'amoungst',\n",
       "           'amount',\n",
       "           'an',\n",
       "           'and',\n",
       "           'another',\n",
       "           'any',\n",
       "           'anyhow',\n",
       "           'anyone',\n",
       "           'anything',\n",
       "           'anyway',\n",
       "           'anywhere',\n",
       "           'are',\n",
       "           'around',\n",
       "           'as',\n",
       "           'at',\n",
       "           'back',\n",
       "           'be',\n",
       "           'became',\n",
       "           'because',\n",
       "           'become',\n",
       "           'becomes',\n",
       "           'becoming',\n",
       "           'been',\n",
       "           'before',\n",
       "           'beforehand',\n",
       "           'behind',\n",
       "           'being',\n",
       "           'below',\n",
       "           'beside',\n",
       "           'besides',\n",
       "           'between',\n",
       "           'beyond',\n",
       "           'bill',\n",
       "           'both',\n",
       "           'bottom',\n",
       "           'but',\n",
       "           'by',\n",
       "           'call',\n",
       "           'can',\n",
       "           'cannot',\n",
       "           'cant',\n",
       "           'co',\n",
       "           'con',\n",
       "           'could',\n",
       "           'couldnt',\n",
       "           'cry',\n",
       "           'de',\n",
       "           'describe',\n",
       "           'detail',\n",
       "           'did',\n",
       "           'do',\n",
       "           'done',\n",
       "           'down',\n",
       "           'due',\n",
       "           'during',\n",
       "           'each',\n",
       "           'eg',\n",
       "           'eight',\n",
       "           'either',\n",
       "           'eleven',\n",
       "           'else',\n",
       "           'elsewhere',\n",
       "           'empty',\n",
       "           'enough',\n",
       "           'etc',\n",
       "           'even',\n",
       "           'ever',\n",
       "           'every',\n",
       "           'everyone',\n",
       "           'everything',\n",
       "           'everywhere',\n",
       "           'exam',\n",
       "           'except',\n",
       "           'few',\n",
       "           'fifteen',\n",
       "           'fifty',\n",
       "           'fill',\n",
       "           'find',\n",
       "           'fire',\n",
       "           'first',\n",
       "           'five',\n",
       "           'for',\n",
       "           'former',\n",
       "           'formerly',\n",
       "           'forty',\n",
       "           'found',\n",
       "           'four',\n",
       "           'from',\n",
       "           'front',\n",
       "           'full',\n",
       "           'further',\n",
       "           'get',\n",
       "           'give',\n",
       "           'go',\n",
       "           'got',\n",
       "           'had',\n",
       "           'has',\n",
       "           'hasnt',\n",
       "           'have',\n",
       "           'he',\n",
       "           'hence',\n",
       "           'her',\n",
       "           'here',\n",
       "           'hereafter',\n",
       "           'hereby',\n",
       "           'herein',\n",
       "           'hereupon',\n",
       "           'hers',\n",
       "           'herself',\n",
       "           'him',\n",
       "           'himself',\n",
       "           'his',\n",
       "           'how',\n",
       "           'however',\n",
       "           'https',\n",
       "           'hundred',\n",
       "           'i',\n",
       "           'ie',\n",
       "           'if',\n",
       "           'in',\n",
       "           'inc',\n",
       "           'indeed',\n",
       "           'interest',\n",
       "           'into',\n",
       "           'is',\n",
       "           'it',\n",
       "           'its',\n",
       "           'itself',\n",
       "           'just',\n",
       "           'keep',\n",
       "           'know',\n",
       "           'last',\n",
       "           'latter',\n",
       "           'latterly',\n",
       "           'least',\n",
       "           'less',\n",
       "           'like',\n",
       "           'ltd',\n",
       "           'made',\n",
       "           'many',\n",
       "           'may',\n",
       "           'me',\n",
       "           'meanwhile',\n",
       "           'might',\n",
       "           'mill',\n",
       "           'mine',\n",
       "           'more',\n",
       "           'moreover',\n",
       "           'most',\n",
       "           'mostly',\n",
       "           'move',\n",
       "           'much',\n",
       "           'must',\n",
       "           'my',\n",
       "           'myself',\n",
       "           'name',\n",
       "           'namely',\n",
       "           'neither',\n",
       "           'never',\n",
       "           'nevertheless',\n",
       "           'next',\n",
       "           'nine',\n",
       "           'no',\n",
       "           'nobody',\n",
       "           'none',\n",
       "           'noone',\n",
       "           'nor',\n",
       "           'not',\n",
       "           'nothing',\n",
       "           'now',\n",
       "           'nowhere',\n",
       "           'of',\n",
       "           'off',\n",
       "           'often',\n",
       "           'on',\n",
       "           'once',\n",
       "           'one',\n",
       "           'online',\n",
       "           'only',\n",
       "           'onto',\n",
       "           'or',\n",
       "           'other',\n",
       "           'others',\n",
       "           'otherwise',\n",
       "           'our',\n",
       "           'ours',\n",
       "           'ourselves',\n",
       "           'out',\n",
       "           'over',\n",
       "           'own',\n",
       "           'part',\n",
       "           'per',\n",
       "           'perhaps',\n",
       "           'please',\n",
       "           'practice',\n",
       "           'prep',\n",
       "           'put',\n",
       "           'question',\n",
       "           'questions',\n",
       "           'rather',\n",
       "           're',\n",
       "           'really',\n",
       "           'same',\n",
       "           'score',\n",
       "           'scores',\n",
       "           'section',\n",
       "           'see',\n",
       "           'seem',\n",
       "           'seemed',\n",
       "           'seeming',\n",
       "           'seems',\n",
       "           'serious',\n",
       "           'several',\n",
       "           'she',\n",
       "           'should',\n",
       "           'show',\n",
       "           'side',\n",
       "           'since',\n",
       "           'sincere',\n",
       "           'six',\n",
       "           'sixty',\n",
       "           'so',\n",
       "           'some',\n",
       "           'somehow',\n",
       "           'someone',\n",
       "           'something',\n",
       "           'sometime',\n",
       "           'sometimes',\n",
       "           'somewhere',\n",
       "           'still',\n",
       "           'study',\n",
       "           'such',\n",
       "           'system',\n",
       "           'take',\n",
       "           'ten',\n",
       "           'test',\n",
       "           'tests',\n",
       "           'than',\n",
       "           'that',\n",
       "           'the',\n",
       "           'their',\n",
       "           'them',\n",
       "           'themselves',\n",
       "           'then',\n",
       "           'thence',\n",
       "           'there',\n",
       "           'thereafter',\n",
       "           'thereby',\n",
       "           'therefore',\n",
       "           'therein',\n",
       "           'thereupon',\n",
       "           'these',\n",
       "           'they',\n",
       "           'thick',\n",
       "           'thin',\n",
       "           'third',\n",
       "           'this',\n",
       "           'those',\n",
       "           'though',\n",
       "           'three',\n",
       "           'through',\n",
       "           'throughout',\n",
       "           'thru',\n",
       "           'thus',\n",
       "           'time',\n",
       "           'to',\n",
       "           'together',\n",
       "           'too',\n",
       "           'took',\n",
       "           'top',\n",
       "           'toward',\n",
       "           'towards',\n",
       "           'twelve',\n",
       "           'twenty',\n",
       "           'two',\n",
       "           'un',\n",
       "           'under',\n",
       "           'until',\n",
       "           'up',\n",
       "           'upon',\n",
       "           'us',\n",
       "           'verbal',\n",
       "           'very',\n",
       "           'via',\n",
       "           'was',\n",
       "           'we',\n",
       "           'well',\n",
       "           'were',\n",
       "           'what',\n",
       "           'whatever',\n",
       "           'when',\n",
       "           'whence',\n",
       "           'whenever',\n",
       "           'where',\n",
       "           'whereafter',\n",
       "           'whereas',\n",
       "           'whereby',\n",
       "           'wherein',\n",
       "           'whereupon',\n",
       "           'wherever',\n",
       "           'whether',\n",
       "           'which',\n",
       "           'while',\n",
       "           'whither',\n",
       "           'who',\n",
       "           'whoever',\n",
       "           'whole',\n",
       "           'whom',\n",
       "           'whose',\n",
       "           'why',\n",
       "           'will',\n",
       "           'with',\n",
       "           'within',\n",
       "           'without',\n",
       "           'would',\n",
       "           'yet',\n",
       "           'you',\n",
       "           'your',\n",
       "           'yours',\n",
       "           'yourself',\n",
       "           'yourselves'})"
      ]
     },
     "execution_count": 61,
     "metadata": {},
     "output_type": "execute_result"
    }
   ],
   "source": [
    "#Merging with list of english stop words\n",
    "from sklearn.feature_extraction import text \n",
    "\n",
    "stop_words = text.ENGLISH_STOP_WORDS.union(my_words)\n",
    "stop_words"
   ]
  },
  {
   "cell_type": "code",
   "execution_count": 62,
   "id": "2849ec50",
   "metadata": {},
   "outputs": [],
   "source": [
    "# Re- Instantiate CountVectorizer for title column with params, including customized stop words\n",
    "cvec_title2 = CountVectorizer(stop_words= stop_words, ngram_range=(1,3),max_df=0.8,min_df=0.02)"
   ]
  },
  {
   "cell_type": "code",
   "execution_count": 63,
   "id": "fdda6ebc",
   "metadata": {},
   "outputs": [],
   "source": [
    "# Re- Instantiate CountVectorizer for textcolumn with params, including customized stop words\n",
    "cvec_text2 = CountVectorizer(stop_words= stop_words, ngram_range=(1,6),max_df=0.8,min_df=0.02)"
   ]
  },
  {
   "cell_type": "code",
   "execution_count": 64,
   "id": "def8f596",
   "metadata": {},
   "outputs": [],
   "source": [
    "# Fit & transform the vectorizer on training corpus (title column)\n",
    "Xcvec_title_train2 = cvec_title2.fit_transform(X1_train)"
   ]
  },
  {
   "cell_type": "code",
   "execution_count": 65,
   "id": "3a08d3bc",
   "metadata": {},
   "outputs": [],
   "source": [
    "#Transform the vectorizer on test corpus (title column)\n",
    "Xcvec_title_test2 = cvec_title2.transform(X1_test)"
   ]
  },
  {
   "cell_type": "code",
   "execution_count": 66,
   "id": "8dc89076",
   "metadata": {},
   "outputs": [],
   "source": [
    "# Fit & transform the vectorizer on training corpus (selftext column)\n",
    "Xcvec_text_train2 = cvec_text2.fit_transform(X2_train)"
   ]
  },
  {
   "cell_type": "code",
   "execution_count": 67,
   "id": "89c60bba",
   "metadata": {},
   "outputs": [],
   "source": [
    "#Transform the vectorizer on test corpus (selftext column)\n",
    "Xcvec_text_test2 = cvec_text2.transform(X2_test)"
   ]
  },
  {
   "cell_type": "code",
   "execution_count": 68,
   "id": "192eaeaa",
   "metadata": {},
   "outputs": [
    {
     "name": "stdout",
     "output_type": "stream",
     "text": [
      "(13139, 15)\n",
      "(4380, 15)\n",
      "(13139, 332)\n",
      "(4380, 332)\n"
     ]
    }
   ],
   "source": [
    "#checking dimensions\n",
    "print(Xcvec_title_train2.shape)\n",
    "print(Xcvec_title_test2.shape)\n",
    "print(Xcvec_text_train2.shape)\n",
    "print(Xcvec_text_test2.shape)"
   ]
  },
  {
   "cell_type": "code",
   "execution_count": 69,
   "id": "81600e05",
   "metadata": {},
   "outputs": [],
   "source": [
    "#1) storing in dataframe\n",
    "Xcvec_title_train_df2 = pd.DataFrame(Xcvec_title_train2.todense(),\n",
    "                              columns=cvec_title2.get_feature_names())"
   ]
  },
  {
   "cell_type": "code",
   "execution_count": 70,
   "id": "351dbcf4",
   "metadata": {},
   "outputs": [],
   "source": [
    "#2) storing in dataframe\n",
    "Xcvec_title_test_df2 = pd.DataFrame(Xcvec_title_test2.todense(),\n",
    "                              columns=cvec_title2.get_feature_names())"
   ]
  },
  {
   "cell_type": "code",
   "execution_count": 71,
   "id": "11e8d4c5",
   "metadata": {},
   "outputs": [],
   "source": [
    "#3) storing in dataframe\n",
    "Xcvec_text_train_df2 = pd.DataFrame(Xcvec_text_train2.todense(),\n",
    "                              columns=cvec_text2.get_feature_names())"
   ]
  },
  {
   "cell_type": "code",
   "execution_count": 72,
   "id": "cd2cfb6e",
   "metadata": {},
   "outputs": [],
   "source": [
    "#4) storing in dataframe\n",
    "Xcvec_text_test_df2 = pd.DataFrame(Xcvec_text_test2.todense(),\n",
    "                              columns=cvec_text2.get_feature_names())"
   ]
  },
  {
   "cell_type": "code",
   "execution_count": 73,
   "id": "e01289f3",
   "metadata": {},
   "outputs": [
    {
     "name": "stdout",
     "output_type": "stream",
     "text": [
      "(13139, 15)\n",
      "(4380, 15)\n",
      "(13139, 332)\n",
      "(4380, 332)\n"
     ]
    }
   ],
   "source": [
    "#crosschecking dimensions\n",
    "print(Xcvec_title_train_df2.shape)\n",
    "print(Xcvec_title_test_df2.shape)\n",
    "print(Xcvec_text_train_df2.shape)\n",
    "print(Xcvec_text_test_df2.shape)"
   ]
  },
  {
   "cell_type": "code",
   "execution_count": 74,
   "id": "ba33ea3c",
   "metadata": {},
   "outputs": [],
   "source": [
    "#concatenating to one dataframe\n",
    "Xcv_train = pd.concat([Xcvec_title_train_df2,Xcvec_text_train_df2], axis=1)\n",
    "Xcv_test= pd.concat([Xcvec_title_test_df2,Xcvec_text_test_df2], axis=1)"
   ]
  },
  {
   "cell_type": "code",
   "execution_count": 75,
   "id": "81e0b375",
   "metadata": {},
   "outputs": [
    {
     "name": "stdout",
     "output_type": "stream",
     "text": [
      "(13139, 347)\n",
      "(4380, 347)\n",
      "(13139,) (4380,)\n"
     ]
    }
   ],
   "source": [
    "#crosschecking dimensions\n",
    "print(Xcv_train.shape)\n",
    "print(Xcv_test.shape)\n",
    "print(y_train.shape, y_test.shape)"
   ]
  },
  {
   "cell_type": "code",
   "execution_count": 76,
   "id": "9c529d36",
   "metadata": {},
   "outputs": [],
   "source": [
    "#saving as csv files\n",
    "Xcv_train.to_csv('data/cvec_training_data.csv',index=False)\n",
    "Xcv_test.to_csv('data/cvec_test_data.csv', index=False)\n",
    "df.to_csv('data/data_post_cleaning.csv',index=False)"
   ]
  },
  {
   "cell_type": "code",
   "execution_count": 77,
   "id": "ac0168d9",
   "metadata": {},
   "outputs": [
    {
     "data": {
      "text/plain": [
       "(13139, 348)"
      ]
     },
     "execution_count": 77,
     "metadata": {},
     "output_type": "execute_result"
    }
   ],
   "source": [
    "#creating dataframe to merge newly count vectorized X features with target variable to facilitate EDA\n",
    "Xcv_train.reset_index(drop=True,inplace=True)\n",
    "y_train.reset_index(drop=True,inplace=True)\n",
    "all_features2= pd.concat([y_train,Xcv_train], axis=1)\n",
    "all_features2.shape"
   ]
  },
  {
   "cell_type": "code",
   "execution_count": 78,
   "id": "4a5da32c",
   "metadata": {},
   "outputs": [
    {
     "data": {
      "image/png": "[encoded data removed]",
      "text/plain": [
       "<Figure size 720x864 with 1 Axes>"
      ]
     },
     "metadata": {
      "needs_background": "light"
     },
     "output_type": "display_data"
    }
   ],
   "source": [
    "#displaying Top 25 Most Frequently Occuring Words in rGRE (post-cleaning)\n",
    "plt.figure(figsize=(10,12))\n",
    "all_features2[all_features2[\"subreddit\"]==1].iloc[:,1:].sum().sort_values(ascending=False).head(25).plot(kind='barh',color=\"purple\");\n",
    "plt.xlabel(\"Number of Occurences\",fontsize=16)\n",
    "plt.ylabel(\"Words\",fontsize=16)\n",
    "plt.title(\"Top 25 Most Frequently Occuring Words in rGRE (post-cleaning)\",fontsize=18)\n",
    "plt.savefig(\"Top 25 Most Frequently Occuring Words in rGRE (post-cleaning)\");"
   ]
  },
  {
   "cell_type": "code",
   "execution_count": 79,
   "id": "48b0b3cf",
   "metadata": {},
   "outputs": [
    {
     "data": {
      "image/png": "[encoded data removed]",
      "text/plain": [
       "<Figure size 720x864 with 1 Axes>"
      ]
     },
     "metadata": {
      "needs_background": "light"
     },
     "output_type": "display_data"
    }
   ],
   "source": [
    "#displaying Top 25 Most Frequently Occuring Words in rGRE (post-cleaning)\n",
    "plt.figure(figsize=(10,12))\n",
    "all_features2[all_features2[\"subreddit\"]==0].iloc[:,1:].sum().sort_values(ascending=False).head(25).plot(kind='barh',color=\"black\");\n",
    "plt.xlabel(\"Number of Occurences\",fontsize=16)\n",
    "plt.ylabel(\"Words\",fontsize=16)\n",
    "plt.title(\"Top 25 Most Frequently Occuring Words in rGMAT (post-cleaning)\",fontsize=18)\n",
    "plt.savefig(\"Top 25 Most Frequently Occuring Words in rGMAT(post-cleaning)\");"
   ]
  },
  {
   "cell_type": "markdown",
   "id": "5d8f436a",
   "metadata": {},
   "source": [
    "## Modeling"
   ]
  },
  {
   "cell_type": "code",
   "execution_count": 80,
   "id": "d72c2617",
   "metadata": {},
   "outputs": [
    {
     "data": {
      "text/plain": [
       "1    0.539234\n",
       "0    0.460766\n",
       "Name: subreddit, dtype: float64"
      ]
     },
     "execution_count": 80,
     "metadata": {},
     "output_type": "execute_result"
    }
   ],
   "source": [
    "#estimate of baseline accuracy\n",
    "y_train.value_counts(normalize=True)"
   ]
  },
  {
   "cell_type": "markdown",
   "id": "c18e1a11",
   "metadata": {},
   "source": [
    "### Model 1: Multinomial Naive Bayes (MNB) Model"
   ]
  },
  {
   "cell_type": "code",
   "execution_count": 81,
   "id": "d089d8da",
   "metadata": {},
   "outputs": [],
   "source": [
    "#instantiating MNB model\n",
    "mnb = MultinomialNB()"
   ]
  },
  {
   "cell_type": "code",
   "execution_count": 82,
   "id": "b2bdec44",
   "metadata": {},
   "outputs": [
    {
     "data": {
      "text/plain": [
       "MultinomialNB()"
      ]
     },
     "execution_count": 82,
     "metadata": {},
     "output_type": "execute_result"
    }
   ],
   "source": [
    "#fitting model on training data\n",
    "mnb.fit(Xcv_train,y_train)"
   ]
  },
  {
   "cell_type": "code",
   "execution_count": 83,
   "id": "ea890046",
   "metadata": {},
   "outputs": [
    {
     "data": {
      "text/plain": [
       "(0.891163711089124, 0.895662100456621)"
      ]
     },
     "execution_count": 83,
     "metadata": {},
     "output_type": "execute_result"
    }
   ],
   "source": [
    "#Evaluating accuracy\n",
    "mnb.score(Xcv_train, y_train), mnb.score(Xcv_test, y_test)"
   ]
  },
  {
   "cell_type": "markdown",
   "id": "492737ab",
   "metadata": {},
   "source": [
    "From the accuracy scores above, we can see that the model outperformed the baseline instance. The model is also low bias and low variance."
   ]
  },
  {
   "cell_type": "code",
   "execution_count": 84,
   "id": "5b59acb0",
   "metadata": {},
   "outputs": [],
   "source": [
    "#generating predictions\n",
    "mnb_preds= mnb.predict(Xcv_test)"
   ]
  },
  {
   "cell_type": "code",
   "execution_count": 85,
   "id": "ce198d76",
   "metadata": {},
   "outputs": [
    {
     "name": "stdout",
     "output_type": "stream",
     "text": [
      "Specificity: 0.8473736372646185\n",
      "Sensitivity: 0.936917866215072\n"
     ]
    }
   ],
   "source": [
    "#saving confusion matrix values for predictions made using title column\n",
    "tn, fp, fn, tp = confusion_matrix(y_test, mnb_preds).ravel()\n",
    "\n",
    "#calculating specificity & sensitivity\n",
    "spec_mnb = tn / (tn + fp)\n",
    "sens_mnb = tp/ (tp + fn)\n",
    "\n",
    "print('Specificity:', spec_mnb)\n",
    "print ('Sensitivity:',sens_mnb)\n"
   ]
  },
  {
   "cell_type": "markdown",
   "id": "2de6b37a",
   "metadata": {},
   "source": [
    "Specificity & Sensitivity scores are also high."
   ]
  },
  {
   "cell_type": "markdown",
   "id": "fe3395ad",
   "metadata": {},
   "source": [
    "### Model 2: Random Forest Model"
   ]
  },
  {
   "cell_type": "code",
   "execution_count": 86,
   "id": "d8d73474",
   "metadata": {},
   "outputs": [],
   "source": [
    "#instantiate RandomForest Classifier\n",
    "rf = RandomForestClassifier()"
   ]
  },
  {
   "cell_type": "code",
   "execution_count": 87,
   "id": "d45b8975",
   "metadata": {},
   "outputs": [],
   "source": [
    "params = {'n_estimators': [750, 1000],\n",
    "          'max_depth': [17, 19],\n",
    "         'min_samples_split': [4, 5],\n",
    "         'min_samples_leaf': [2, 3],\n",
    "         'max_features': ['auto']}"
   ]
  },
  {
   "cell_type": "code",
   "execution_count": 88,
   "id": "349809f4",
   "metadata": {},
   "outputs": [],
   "source": [
    "#Instantiating grid search\n",
    "gs = GridSearchCV(rf, params, cv=3)"
   ]
  },
  {
   "cell_type": "code",
   "execution_count": 91,
   "id": "ea5f86c6",
   "metadata": {},
   "outputs": [
    {
     "name": "stdout",
     "output_type": "stream",
     "text": [
      "CPU times: user 11min 17s, sys: 9.44 s, total: 11min 26s\n",
      "Wall time: 12min 3s\n"
     ]
    },
    {
     "data": {
      "text/plain": [
       "GridSearchCV(cv=3, estimator=RandomForestClassifier(),\n",
       "             param_grid={'max_depth': [17, 19], 'max_features': ['auto'],\n",
       "                         'min_samples_leaf': [2, 3],\n",
       "                         'min_samples_split': [4, 5],\n",
       "                         'n_estimators': [750, 1000]})"
      ]
     },
     "execution_count": 91,
     "metadata": {},
     "output_type": "execute_result"
    }
   ],
   "source": [
    "%%time\n",
    "\n",
    "#fitting the models\n",
    "gs.fit(Xcv_train, y_train)"
   ]
  },
  {
   "cell_type": "code",
   "execution_count": 92,
   "id": "c2ac6286",
   "metadata": {},
   "outputs": [
    {
     "data": {
      "text/plain": [
       "(0.8971763452317528, 0.8922374429223744)"
      ]
     },
     "execution_count": 92,
     "metadata": {},
     "output_type": "execute_result"
    }
   ],
   "source": [
    "#Evaluating model accuracy\n",
    "gs.score(Xcv_train, y_train),gs.score(Xcv_test, y_test)"
   ]
  },
  {
   "cell_type": "markdown",
   "id": "23aee912",
   "metadata": {},
   "source": [
    "From the accuracy scores above, we can see that the model outperformed the baseline instance. The model is also low bias and low variance."
   ]
  },
  {
   "cell_type": "code",
   "execution_count": 93,
   "id": "7df5221c",
   "metadata": {},
   "outputs": [],
   "source": [
    "rf_preds = gs.predict(Xcv_test)"
   ]
  },
  {
   "cell_type": "code",
   "execution_count": 94,
   "id": "2736ddd4",
   "metadata": {},
   "outputs": [
    {
     "name": "stdout",
     "output_type": "stream",
     "text": [
      "Specificity: 0.7874132804757186\n",
      "Sensitivity: 0.9817950889077053\n"
     ]
    }
   ],
   "source": [
    "#saving confusion matrix values for predictions\n",
    "tn, fp, fn, tp = confusion_matrix(y_test, rf_preds).ravel()\n",
    "\n",
    "#calculating specificity & sensitivity\n",
    "spec_rf = tn / (tn + fp)\n",
    "sens_rf = tp/ (tp + fn)\n",
    "\n",
    "print('Specificity:', spec_rf)\n",
    "print ('Sensitivity:',sens_rf)\n"
   ]
  },
  {
   "cell_type": "code",
   "execution_count": 95,
   "id": "ffba2b19",
   "metadata": {},
   "outputs": [
    {
     "data": {
      "text/plain": [
       "{'max_depth': 19,\n",
       " 'max_features': 'auto',\n",
       " 'min_samples_leaf': 3,\n",
       " 'min_samples_split': 4,\n",
       " 'n_estimators': 750}"
      ]
     },
     "execution_count": 95,
     "metadata": {},
     "output_type": "execute_result"
    }
   ],
   "source": [
    "#obtaining the best hyperparameters\n",
    "gs.best_params_"
   ]
  },
  {
   "cell_type": "code",
   "execution_count": 96,
   "id": "b99025dc",
   "metadata": {
    "scrolled": true
   },
   "outputs": [
    {
     "data": {
      "text/plain": [
       "array([1.10933770e-04, 1.85515808e-04, 1.14094650e-04, 6.33358251e-03,\n",
       "       7.78750557e-03, 1.48638001e-01, 1.05230345e-01, 6.00749122e-03,\n",
       "       1.67293702e-03, 6.30582533e-03, 1.68384441e-04, 6.90347790e-04,\n",
       "       1.08399783e-04, 2.35901852e-04, 2.00069369e-02, 1.51328528e-04,\n",
       "       5.49750942e-05, 7.15421458e-05, 5.68118680e-03, 1.27700920e-04,\n",
       "       8.25730681e-04, 2.85538003e-04, 1.73016245e-04, 6.04366411e-04,\n",
       "       7.00899122e-03, 2.15432493e-02, 5.35750041e-03, 5.76030299e-03,\n",
       "       1.64444217e-04, 7.13017575e-05, 1.51516176e-04, 9.84723261e-05,\n",
       "       7.75121967e-05, 2.62309232e-04, 1.40383320e-04, 5.06455992e-05,\n",
       "       1.73636772e-04, 6.54696543e-04, 9.85613085e-05, 8.90787720e-05,\n",
       "       1.43738193e-04, 3.61384179e-04, 6.45833071e-05, 9.82774830e-05,\n",
       "       1.03722292e-04, 1.49295367e-03, 7.93837233e-05, 1.49725026e-04,\n",
       "       4.84376625e-05, 4.66076191e-05, 7.56124301e-05, 6.64483277e-04,\n",
       "       3.34915898e-05, 1.01010239e-04, 1.27093421e-04, 1.16197381e-04,\n",
       "       9.92201947e-05, 3.84516515e-04, 2.74600507e-04, 1.48084166e-03,\n",
       "       3.92905930e-03, 1.31830910e-04, 2.60677739e-03, 1.66516128e-04,\n",
       "       6.12541088e-05, 3.57353381e-04, 6.22537953e-05, 1.39869091e-04,\n",
       "       7.73169239e-05, 6.95622473e-05, 1.66044586e-04, 8.86274242e-05,\n",
       "       1.08990937e-04, 6.97536489e-05, 4.84211975e-05, 1.21043668e-04,\n",
       "       7.17000984e-05, 2.61902790e-04, 4.32329712e-05, 8.10010096e-05,\n",
       "       9.01358728e-04, 1.09537392e-02, 1.44706349e-04, 1.04433384e-04,\n",
       "       4.58583288e-05, 2.79971574e-04, 4.93127304e-04, 1.16985182e-04,\n",
       "       5.04349185e-05, 2.81243775e-04, 1.74626381e-04, 7.79550520e-05,\n",
       "       7.34553583e-05, 2.06784141e-04, 6.77878324e-05, 3.85321478e-04,\n",
       "       4.14515095e-04, 5.81886891e-05, 2.26039332e-04, 1.42711661e-04,\n",
       "       1.58901343e-04, 5.13380346e-05, 7.34550882e-05, 7.72404184e-05,\n",
       "       1.94104954e-03, 4.34941838e-02, 3.28132426e-04, 1.11899194e-03,\n",
       "       2.25824762e-04, 3.05831072e-03, 9.48451907e-05, 8.68868027e-05,\n",
       "       7.29410770e-05, 2.09167806e-04, 1.06873952e-04, 1.27183194e-04,\n",
       "       1.28458013e-04, 3.21618610e-04, 1.99994640e-04, 2.56682290e-04,\n",
       "       1.26400370e-04, 1.99811821e-04, 2.02919095e-04, 7.34854352e-05,\n",
       "       1.13018851e-02, 1.95253948e-01, 9.08877251e-05, 2.14027659e-04,\n",
       "       3.67066305e-04, 1.44926074e-01, 2.61475407e-03, 1.17724999e-04,\n",
       "       3.20089080e-02, 6.07622288e-05, 4.42117539e-04, 2.22744045e-04,\n",
       "       8.18459365e-05, 2.11519648e-04, 1.25542279e-04, 7.99787259e-05,\n",
       "       7.53210509e-05, 1.09967805e-04, 1.94015512e-04, 5.05713809e-04,\n",
       "       5.76553113e-05, 9.00834098e-05, 1.46471087e-04, 5.20730226e-05,\n",
       "       3.15382873e-03, 1.37478098e-04, 1.00432737e-04, 5.77332905e-03,\n",
       "       7.51760917e-05, 5.80912510e-05, 1.71908000e-04, 6.64164804e-05,\n",
       "       2.86778415e-04, 1.16849201e-04, 1.44876029e-04, 7.69824032e-05,\n",
       "       1.45410645e-04, 6.44505418e-05, 7.29324404e-03, 6.96518213e-05,\n",
       "       5.16235999e-04, 5.50427125e-05, 5.19665807e-05, 8.63492791e-05,\n",
       "       6.26064970e-05, 5.22394741e-05, 7.99724363e-05, 6.60242757e-05,\n",
       "       6.87776218e-05, 1.58605402e-04, 9.61081215e-05, 8.98347160e-05,\n",
       "       6.62980085e-04, 1.30341879e-04, 3.45621557e-04, 1.27948280e-04,\n",
       "       8.64523609e-05, 2.87298112e-04, 2.27408493e-04, 5.48604776e-05,\n",
       "       8.01650534e-04, 2.22286578e-04, 7.55798114e-05, 2.56689044e-04,\n",
       "       2.41195047e-04, 6.86298129e-05, 8.95808090e-04, 7.71867076e-05,\n",
       "       1.43650550e-02, 5.27397450e-05, 5.37990889e-05, 1.46469040e-04,\n",
       "       8.87272903e-05, 7.06991669e-04, 2.01318972e-03, 3.64440313e-04,\n",
       "       1.67044004e-03, 6.19507749e-04, 5.98066055e-05, 3.72792421e-04,\n",
       "       6.25730106e-05, 1.24149815e-04, 5.72144445e-05, 8.91376385e-05,\n",
       "       6.56731850e-03, 1.39050817e-04, 2.00578084e-02, 5.98123335e-05,\n",
       "       4.33195350e-05, 1.14356782e-04, 6.88993459e-05, 7.07915990e-05,\n",
       "       7.16059604e-04, 5.45406449e-04, 3.06883398e-04, 1.92147045e-04,\n",
       "       2.03316265e-04, 6.32466332e-05, 1.97349961e-04, 1.04952859e-04,\n",
       "       4.51115844e-03, 4.93371443e-03, 1.13025395e-04, 1.31413660e-04,\n",
       "       1.29662663e-04, 1.61609635e-04, 1.00115172e-04, 1.46756724e-04,\n",
       "       1.31255214e-04, 8.88444491e-05, 1.29336144e-04, 1.45737249e-04,\n",
       "       3.02548281e-04, 1.07185475e-04, 1.34987050e-03, 1.04935847e-04,\n",
       "       7.38766731e-04, 8.84723900e-05, 2.53915015e-04, 1.45260949e-04,\n",
       "       1.55439568e-04, 1.19031694e-04, 9.66021453e-05, 1.82436671e-04,\n",
       "       3.64642396e-05, 4.50633830e-05, 6.30972790e-05, 1.96928704e-04,\n",
       "       1.55044572e-04, 2.79433801e-03, 5.33705208e-05, 7.41270394e-05,\n",
       "       1.12445754e-04, 1.70705322e-04, 9.15964070e-05, 2.86233296e-05,\n",
       "       1.06561735e-04, 3.67876093e-05, 1.19383162e-02, 1.63524339e-04,\n",
       "       3.12690719e-04, 2.76632435e-04, 6.86004891e-04, 8.36390444e-05,\n",
       "       3.70714444e-04, 4.74565191e-04, 4.54059321e-05, 5.97958487e-05,\n",
       "       1.21733630e-04, 7.57516579e-05, 4.92750928e-05, 8.88268274e-05,\n",
       "       1.44639402e-04, 7.08494837e-05, 9.05734760e-05, 4.44462519e-05,\n",
       "       6.80262478e-05, 4.83664977e-04, 3.98673034e-04, 1.71519595e-04,\n",
       "       1.08251080e-04, 1.01945889e-04, 6.87563255e-05, 3.44443165e-04,\n",
       "       1.16804201e-04, 1.28750184e-03, 6.13754179e-05, 1.76499568e-04,\n",
       "       6.47247062e-05, 3.29616511e-05, 2.47930825e-04, 1.94655363e-04,\n",
       "       3.99858921e-04, 1.76649546e-03, 7.45929195e-05, 1.44352561e-04,\n",
       "       1.35026456e-04, 1.68412882e-04, 1.39338315e-04, 1.04370925e-04,\n",
       "       2.93392145e-04, 1.43491401e-04, 1.03630071e-04, 8.64960734e-05,\n",
       "       1.46668447e-04, 1.60048002e-04, 9.17339263e-05, 6.56371138e-05,\n",
       "       2.36393497e-04, 1.61809485e-04, 1.13861919e-04, 4.17223554e-02,\n",
       "       1.41786727e-04, 1.30299902e-04, 2.02173020e-04, 2.60762772e-04,\n",
       "       2.03506182e-04, 1.28004960e-03, 1.17557364e-04, 4.28676085e-04,\n",
       "       6.92018514e-03, 3.83381802e-04, 1.17099890e-04, 6.86020210e-05,\n",
       "       2.28061942e-04, 1.43468775e-04, 3.05804205e-04, 2.96458034e-04,\n",
       "       1.22045304e-04, 3.04186438e-05, 1.41029614e-04, 2.56534778e-04,\n",
       "       3.76029974e-03, 2.45232712e-04, 1.14841997e-04, 5.46465395e-05,\n",
       "       6.89715112e-05, 4.32071587e-05, 5.08290463e-04, 1.60302070e-04,\n",
       "       2.28131167e-04, 2.36097205e-04, 4.07783162e-05])"
      ]
     },
     "execution_count": 96,
     "metadata": {},
     "output_type": "execute_result"
    }
   ],
   "source": [
    "#estimating feature importances\n",
    "gs.best_estimator_.feature_importances_"
   ]
  },
  {
   "cell_type": "code",
   "execution_count": 97,
   "id": "b253e197",
   "metadata": {},
   "outputs": [
    {
     "data": {
      "text/html": [
       "<div>\n",
       "<style scoped>\n",
       "    .dataframe tbody tr th:only-of-type {\n",
       "        vertical-align: middle;\n",
       "    }\n",
       "\n",
       "    .dataframe tbody tr th {\n",
       "        vertical-align: top;\n",
       "    }\n",
       "\n",
       "    .dataframe thead th {\n",
       "        text-align: right;\n",
       "    }\n",
       "</style>\n",
       "<table border=\"1\" class=\"dataframe\">\n",
       "  <thead>\n",
       "    <tr style=\"text-align: right;\">\n",
       "      <th></th>\n",
       "      <th>Column Name</th>\n",
       "      <th>Feature Importance</th>\n",
       "    </tr>\n",
       "  </thead>\n",
       "  <tbody>\n",
       "    <tr>\n",
       "      <th>0</th>\n",
       "      <td>advice</td>\n",
       "      <td>0.000111</td>\n",
       "    </tr>\n",
       "    <tr>\n",
       "      <th>1</th>\n",
       "      <td>best</td>\n",
       "      <td>0.000186</td>\n",
       "    </tr>\n",
       "    <tr>\n",
       "      <th>2</th>\n",
       "      <td>days</td>\n",
       "      <td>0.000114</td>\n",
       "    </tr>\n",
       "    <tr>\n",
       "      <th>3</th>\n",
       "      <td>essay</td>\n",
       "      <td>0.006334</td>\n",
       "    </tr>\n",
       "    <tr>\n",
       "      <th>4</th>\n",
       "      <td>ets</td>\n",
       "      <td>0.007788</td>\n",
       "    </tr>\n",
       "  </tbody>\n",
       "</table>\n",
       "</div>"
      ],
      "text/plain": [
       "  Column Name  Feature Importance\n",
       "0      advice            0.000111\n",
       "1        best            0.000186\n",
       "2        days            0.000114\n",
       "3       essay            0.006334\n",
       "4         ets            0.007788"
      ]
     },
     "execution_count": 97,
     "metadata": {},
     "output_type": "execute_result"
    }
   ],
   "source": [
    "#transformaing to datafram\n",
    "important_features = {'Column Name':Xcv_train.columns,'Feature Importance':gs.best_estimator_.feature_importances_}\n",
    "fi = pd.DataFrame(important_features)\n",
    "\n",
    "fi.head()"
   ]
  },
  {
   "cell_type": "code",
   "execution_count": 98,
   "id": "76ebae83",
   "metadata": {
    "scrolled": true
   },
   "outputs": [
    {
     "data": {
      "text/html": [
       "<div>\n",
       "<style scoped>\n",
       "    .dataframe tbody tr th:only-of-type {\n",
       "        vertical-align: middle;\n",
       "    }\n",
       "\n",
       "    .dataframe tbody tr th {\n",
       "        vertical-align: top;\n",
       "    }\n",
       "\n",
       "    .dataframe thead th {\n",
       "        text-align: right;\n",
       "    }\n",
       "</style>\n",
       "<table border=\"1\" class=\"dataframe\">\n",
       "  <thead>\n",
       "    <tr style=\"text-align: right;\">\n",
       "      <th></th>\n",
       "      <th>Column Name</th>\n",
       "      <th>Feature Importance</th>\n",
       "    </tr>\n",
       "  </thead>\n",
       "  <tbody>\n",
       "    <tr>\n",
       "      <th>125</th>\n",
       "      <td>gmat</td>\n",
       "      <td>0.195254</td>\n",
       "    </tr>\n",
       "    <tr>\n",
       "      <th>5</th>\n",
       "      <td>gmat</td>\n",
       "      <td>0.148638</td>\n",
       "    </tr>\n",
       "    <tr>\n",
       "      <th>129</th>\n",
       "      <td>gre</td>\n",
       "      <td>0.144926</td>\n",
       "    </tr>\n",
       "    <tr>\n",
       "      <th>6</th>\n",
       "      <td>gre</td>\n",
       "      <td>0.105230</td>\n",
       "    </tr>\n",
       "    <tr>\n",
       "      <th>105</th>\n",
       "      <td>ets</td>\n",
       "      <td>0.043494</td>\n",
       "    </tr>\n",
       "    <tr>\n",
       "      <th>315</th>\n",
       "      <td>ttp</td>\n",
       "      <td>0.041722</td>\n",
       "    </tr>\n",
       "    <tr>\n",
       "      <th>132</th>\n",
       "      <td>gregmat</td>\n",
       "      <td>0.032009</td>\n",
       "    </tr>\n",
       "    <tr>\n",
       "      <th>25</th>\n",
       "      <td>700</td>\n",
       "      <td>0.021543</td>\n",
       "    </tr>\n",
       "    <tr>\n",
       "      <th>210</th>\n",
       "      <td>og</td>\n",
       "      <td>0.020058</td>\n",
       "    </tr>\n",
       "    <tr>\n",
       "      <th>14</th>\n",
       "      <td>ttp</td>\n",
       "      <td>0.020007</td>\n",
       "    </tr>\n",
       "    <tr>\n",
       "      <th>192</th>\n",
       "      <td>mba</td>\n",
       "      <td>0.014365</td>\n",
       "    </tr>\n",
       "    <tr>\n",
       "      <th>262</th>\n",
       "      <td>sc</td>\n",
       "      <td>0.011938</td>\n",
       "    </tr>\n",
       "    <tr>\n",
       "      <th>124</th>\n",
       "      <td>gmac</td>\n",
       "      <td>0.011302</td>\n",
       "    </tr>\n",
       "    <tr>\n",
       "      <th>81</th>\n",
       "      <td>cr</td>\n",
       "      <td>0.010954</td>\n",
       "    </tr>\n",
       "    <tr>\n",
       "      <th>4</th>\n",
       "      <td>ets</td>\n",
       "      <td>0.007788</td>\n",
       "    </tr>\n",
       "    <tr>\n",
       "      <th>162</th>\n",
       "      <td>ir</td>\n",
       "      <td>0.007293</td>\n",
       "    </tr>\n",
       "    <tr>\n",
       "      <th>24</th>\n",
       "      <td>5lb</td>\n",
       "      <td>0.007009</td>\n",
       "    </tr>\n",
       "    <tr>\n",
       "      <th>324</th>\n",
       "      <td>vocab</td>\n",
       "      <td>0.006920</td>\n",
       "    </tr>\n",
       "    <tr>\n",
       "      <th>208</th>\n",
       "      <td>official</td>\n",
       "      <td>0.006567</td>\n",
       "    </tr>\n",
       "    <tr>\n",
       "      <th>3</th>\n",
       "      <td>essay</td>\n",
       "      <td>0.006334</td>\n",
       "    </tr>\n",
       "    <tr>\n",
       "      <th>9</th>\n",
       "      <td>home</td>\n",
       "      <td>0.006306</td>\n",
       "    </tr>\n",
       "    <tr>\n",
       "      <th>7</th>\n",
       "      <td>gregmat</td>\n",
       "      <td>0.006007</td>\n",
       "    </tr>\n",
       "    <tr>\n",
       "      <th>151</th>\n",
       "      <td>home</td>\n",
       "      <td>0.005773</td>\n",
       "    </tr>\n",
       "    <tr>\n",
       "      <th>27</th>\n",
       "      <td>730</td>\n",
       "      <td>0.005760</td>\n",
       "    </tr>\n",
       "    <tr>\n",
       "      <th>18</th>\n",
       "      <td>160</td>\n",
       "      <td>0.005681</td>\n",
       "    </tr>\n",
       "    <tr>\n",
       "      <th>26</th>\n",
       "      <td>710</td>\n",
       "      <td>0.005358</td>\n",
       "    </tr>\n",
       "    <tr>\n",
       "      <th>225</th>\n",
       "      <td>pp1</td>\n",
       "      <td>0.004934</td>\n",
       "    </tr>\n",
       "    <tr>\n",
       "      <th>224</th>\n",
       "      <td>powerprep</td>\n",
       "      <td>0.004511</td>\n",
       "    </tr>\n",
       "    <tr>\n",
       "      <th>60</th>\n",
       "      <td>big book</td>\n",
       "      <td>0.003929</td>\n",
       "    </tr>\n",
       "    <tr>\n",
       "      <th>336</th>\n",
       "      <td>words</td>\n",
       "      <td>0.003760</td>\n",
       "    </tr>\n",
       "    <tr>\n",
       "      <th>148</th>\n",
       "      <td>hi</td>\n",
       "      <td>0.003154</td>\n",
       "    </tr>\n",
       "    <tr>\n",
       "      <th>109</th>\n",
       "      <td>explain</td>\n",
       "      <td>0.003058</td>\n",
       "    </tr>\n",
       "    <tr>\n",
       "      <th>253</th>\n",
       "      <td>response</td>\n",
       "      <td>0.002794</td>\n",
       "    </tr>\n",
       "    <tr>\n",
       "      <th>130</th>\n",
       "      <td>gre home</td>\n",
       "      <td>0.002615</td>\n",
       "    </tr>\n",
       "    <tr>\n",
       "      <th>62</th>\n",
       "      <td>book</td>\n",
       "      <td>0.002607</td>\n",
       "    </tr>\n",
       "    <tr>\n",
       "      <th>198</th>\n",
       "      <td>mocks</td>\n",
       "      <td>0.002013</td>\n",
       "    </tr>\n",
       "    <tr>\n",
       "      <th>104</th>\n",
       "      <td>essay</td>\n",
       "      <td>0.001941</td>\n",
       "    </tr>\n",
       "    <tr>\n",
       "      <th>297</th>\n",
       "      <td>target</td>\n",
       "      <td>0.001766</td>\n",
       "    </tr>\n",
       "    <tr>\n",
       "      <th>8</th>\n",
       "      <td>help</td>\n",
       "      <td>0.001673</td>\n",
       "    </tr>\n",
       "    <tr>\n",
       "      <th>200</th>\n",
       "      <td>month plan</td>\n",
       "      <td>0.001670</td>\n",
       "    </tr>\n",
       "    <tr>\n",
       "      <th>45</th>\n",
       "      <td>argument</td>\n",
       "      <td>0.001493</td>\n",
       "    </tr>\n",
       "    <tr>\n",
       "      <th>59</th>\n",
       "      <td>big</td>\n",
       "      <td>0.001481</td>\n",
       "    </tr>\n",
       "    <tr>\n",
       "      <th>238</th>\n",
       "      <td>quant</td>\n",
       "      <td>0.001350</td>\n",
       "    </tr>\n",
       "    <tr>\n",
       "      <th>289</th>\n",
       "      <td>studying</td>\n",
       "      <td>0.001288</td>\n",
       "    </tr>\n",
       "    <tr>\n",
       "      <th>321</th>\n",
       "      <td>ve</td>\n",
       "      <td>0.001280</td>\n",
       "    </tr>\n",
       "    <tr>\n",
       "      <th>107</th>\n",
       "      <td>exams</td>\n",
       "      <td>0.001119</td>\n",
       "    </tr>\n",
       "    <tr>\n",
       "      <th>80</th>\n",
       "      <td>course</td>\n",
       "      <td>0.000901</td>\n",
       "    </tr>\n",
       "    <tr>\n",
       "      <th>190</th>\n",
       "      <td>math</td>\n",
       "      <td>0.000896</td>\n",
       "    </tr>\n",
       "    <tr>\n",
       "      <th>20</th>\n",
       "      <td>2020</td>\n",
       "      <td>0.000826</td>\n",
       "    </tr>\n",
       "    <tr>\n",
       "      <th>184</th>\n",
       "      <td>magoosh</td>\n",
       "      <td>0.000802</td>\n",
       "    </tr>\n",
       "  </tbody>\n",
       "</table>\n",
       "</div>"
      ],
      "text/plain": [
       "    Column Name  Feature Importance\n",
       "125        gmat            0.195254\n",
       "5          gmat            0.148638\n",
       "129         gre            0.144926\n",
       "6           gre            0.105230\n",
       "105         ets            0.043494\n",
       "315         ttp            0.041722\n",
       "132     gregmat            0.032009\n",
       "25          700            0.021543\n",
       "210          og            0.020058\n",
       "14          ttp            0.020007\n",
       "192         mba            0.014365\n",
       "262          sc            0.011938\n",
       "124        gmac            0.011302\n",
       "81           cr            0.010954\n",
       "4           ets            0.007788\n",
       "162          ir            0.007293\n",
       "24          5lb            0.007009\n",
       "324       vocab            0.006920\n",
       "208    official            0.006567\n",
       "3         essay            0.006334\n",
       "9          home            0.006306\n",
       "7       gregmat            0.006007\n",
       "151        home            0.005773\n",
       "27          730            0.005760\n",
       "18          160            0.005681\n",
       "26          710            0.005358\n",
       "225         pp1            0.004934\n",
       "224   powerprep            0.004511\n",
       "60     big book            0.003929\n",
       "336       words            0.003760\n",
       "148          hi            0.003154\n",
       "109     explain            0.003058\n",
       "253    response            0.002794\n",
       "130    gre home            0.002615\n",
       "62         book            0.002607\n",
       "198       mocks            0.002013\n",
       "104       essay            0.001941\n",
       "297      target            0.001766\n",
       "8          help            0.001673\n",
       "200  month plan            0.001670\n",
       "45     argument            0.001493\n",
       "59          big            0.001481\n",
       "238       quant            0.001350\n",
       "289    studying            0.001288\n",
       "321          ve            0.001280\n",
       "107       exams            0.001119\n",
       "80       course            0.000901\n",
       "190        math            0.000896\n",
       "20         2020            0.000826\n",
       "184     magoosh            0.000802"
      ]
     },
     "execution_count": 98,
     "metadata": {},
     "output_type": "execute_result"
    }
   ],
   "source": [
    "#viewing top 50 most important features\n",
    "fi.sort_values(by=['Feature Importance'], ascending = False).head(50)"
   ]
  },
  {
   "cell_type": "markdown",
   "id": "3de7e00f",
   "metadata": {},
   "source": [
    "### Model 3: Logistic Regression"
   ]
  },
  {
   "cell_type": "code",
   "execution_count": 99,
   "id": "705ae3cd",
   "metadata": {},
   "outputs": [],
   "source": [
    "#instantiating logistic regression\n",
    "logr = LogisticRegression(max_iter=20_000)"
   ]
  },
  {
   "cell_type": "code",
   "execution_count": 100,
   "id": "f27de7c4",
   "metadata": {},
   "outputs": [
    {
     "data": {
      "text/plain": [
       "LogisticRegression(max_iter=20000)"
      ]
     },
     "execution_count": 100,
     "metadata": {},
     "output_type": "execute_result"
    }
   ],
   "source": [
    "#fitting model\n",
    "logr.fit(Xcv_train,y_train)"
   ]
  },
  {
   "cell_type": "code",
   "execution_count": 101,
   "id": "82739572",
   "metadata": {},
   "outputs": [
    {
     "data": {
      "text/plain": [
       "(0.9061572417992236, 0.8981735159817351)"
      ]
     },
     "execution_count": 101,
     "metadata": {},
     "output_type": "execute_result"
    }
   ],
   "source": [
    "#evaluating accuracy of model\n",
    "logr.score(Xcv_train, y_train), logr.score(Xcv_test, y_test)"
   ]
  },
  {
   "cell_type": "markdown",
   "id": "ad352822",
   "metadata": {},
   "source": [
    "From the accuracy scores above, we can see that the model outperformed the baseline instance. The model is also low bias and low variance."
   ]
  },
  {
   "cell_type": "code",
   "execution_count": 102,
   "id": "4a362c40",
   "metadata": {},
   "outputs": [],
   "source": [
    "#generating predections\n",
    "logr_preds= logr.predict(Xcv_test)"
   ]
  },
  {
   "cell_type": "code",
   "execution_count": 103,
   "id": "fa1c1dbf",
   "metadata": {},
   "outputs": [
    {
     "name": "stdout",
     "output_type": "stream",
     "text": [
      "Specificity: 0.8478691774033696\n",
      "Sensitivity: 0.941151566469094\n"
     ]
    }
   ],
   "source": [
    "#saving confusion matrix values for predictions\n",
    "tn, fp, fn, tp = confusion_matrix(y_test, logr_preds).ravel()\n",
    "\n",
    "#calculating specificity & sensitivity\n",
    "spec_logr = tn / (tn + fp)\n",
    "sens_logr = tp/ (tp + fn)\n",
    "\n",
    "print('Specificity:', spec_logr)\n",
    "print ('Sensitivity:',sens_logr)\n"
   ]
  },
  {
   "cell_type": "markdown",
   "id": "59c74483",
   "metadata": {},
   "source": [
    "## Sentiment Analysis - VADER"
   ]
  },
  {
   "cell_type": "markdown",
   "id": "ed31464c",
   "metadata": {},
   "source": [
    "I am conducting a sentiment analysis using VADER to gauge users' sentiments regarding Manhatten Prep's products."
   ]
  },
  {
   "cell_type": "code",
   "execution_count": 104,
   "id": "cad82ced",
   "metadata": {},
   "outputs": [],
   "source": [
    "#creating column to identify selftexts where manhattan is \"mentioned\"\n",
    "df['manhattan'] = df['selftext'].apply(lambda x: 1 if 'manhattan' in word_tokenize(x.lower()) else 0)"
   ]
  },
  {
   "cell_type": "code",
   "execution_count": 105,
   "id": "0230df22",
   "metadata": {},
   "outputs": [
    {
     "data": {
      "text/plain": [
       "0    16231\n",
       "1     1288\n",
       "Name: manhattan, dtype: int64"
      ]
     },
     "execution_count": 105,
     "metadata": {},
     "output_type": "execute_result"
    }
   ],
   "source": [
    "#confirming\n",
    "df['manhattan'].value_counts()"
   ]
  },
  {
   "cell_type": "code",
   "execution_count": 106,
   "id": "f5655d21",
   "metadata": {},
   "outputs": [
    {
     "data": {
      "text/html": [
       "<div>\n",
       "<style scoped>\n",
       "    .dataframe tbody tr th:only-of-type {\n",
       "        vertical-align: middle;\n",
       "    }\n",
       "\n",
       "    .dataframe tbody tr th {\n",
       "        vertical-align: top;\n",
       "    }\n",
       "\n",
       "    .dataframe thead th {\n",
       "        text-align: right;\n",
       "    }\n",
       "</style>\n",
       "<table border=\"1\" class=\"dataframe\">\n",
       "  <thead>\n",
       "    <tr style=\"text-align: right;\">\n",
       "      <th></th>\n",
       "      <th>subreddit</th>\n",
       "      <th>selftext</th>\n",
       "      <th>title</th>\n",
       "      <th>created_utc</th>\n",
       "      <th>title_word_count</th>\n",
       "      <th>text_word_count</th>\n",
       "      <th>manhattan</th>\n",
       "    </tr>\n",
       "  </thead>\n",
       "  <tbody>\n",
       "    <tr>\n",
       "      <th>10</th>\n",
       "      <td>1</td>\n",
       "      <td>Can someone please send me Manhattan 5LB Editi...</td>\n",
       "      <td>Does anyone have Manhattan 5LB Edition 2?</td>\n",
       "      <td>1635771957</td>\n",
       "      <td>8</td>\n",
       "      <td>12</td>\n",
       "      <td>1</td>\n",
       "    </tr>\n",
       "    <tr>\n",
       "      <th>27</th>\n",
       "      <td>1</td>\n",
       "      <td>About mid-August I took a manhattan prep GRE t...</td>\n",
       "      <td>Demoralized from Silly Quant Mistakes</td>\n",
       "      <td>1635726552</td>\n",
       "      <td>5</td>\n",
       "      <td>203</td>\n",
       "      <td>1</td>\n",
       "    </tr>\n",
       "    <tr>\n",
       "      <th>56</th>\n",
       "      <td>1</td>\n",
       "      <td>Well I wanted to give my GRE at 2nd November b...</td>\n",
       "      <td>Very anxious and panicking</td>\n",
       "      <td>1635626492</td>\n",
       "      <td>4</td>\n",
       "      <td>181</td>\n",
       "      <td>1</td>\n",
       "    </tr>\n",
       "    <tr>\n",
       "      <th>61</th>\n",
       "      <td>1</td>\n",
       "      <td>First time taking it, it went alright I suppos...</td>\n",
       "      <td>Done for now - 166Q 161V 4.5AWA</td>\n",
       "      <td>1635608638</td>\n",
       "      <td>7</td>\n",
       "      <td>160</td>\n",
       "      <td>1</td>\n",
       "    </tr>\n",
       "    <tr>\n",
       "      <th>90</th>\n",
       "      <td>1</td>\n",
       "      <td>Took the GRE yesterday, and the unofficial sco...</td>\n",
       "      <td>Done with the GRE - 170Q 157V</td>\n",
       "      <td>1635496590</td>\n",
       "      <td>7</td>\n",
       "      <td>1206</td>\n",
       "      <td>1</td>\n",
       "    </tr>\n",
       "  </tbody>\n",
       "</table>\n",
       "</div>"
      ],
      "text/plain": [
       "    subreddit                                           selftext  \\\n",
       "10          1  Can someone please send me Manhattan 5LB Editi...   \n",
       "27          1  About mid-August I took a manhattan prep GRE t...   \n",
       "56          1  Well I wanted to give my GRE at 2nd November b...   \n",
       "61          1  First time taking it, it went alright I suppos...   \n",
       "90          1  Took the GRE yesterday, and the unofficial sco...   \n",
       "\n",
       "                                        title  created_utc  title_word_count  \\\n",
       "10  Does anyone have Manhattan 5LB Edition 2?   1635771957                 8   \n",
       "27      Demoralized from Silly Quant Mistakes   1635726552                 5   \n",
       "56                 Very anxious and panicking   1635626492                 4   \n",
       "61            Done for now - 166Q 161V 4.5AWA   1635608638                 7   \n",
       "90              Done with the GRE - 170Q 157V   1635496590                 7   \n",
       "\n",
       "    text_word_count  manhattan  \n",
       "10               12          1  \n",
       "27              203          1  \n",
       "56              181          1  \n",
       "61              160          1  \n",
       "90             1206          1  "
      ]
     },
     "execution_count": 106,
     "metadata": {},
     "output_type": "execute_result"
    }
   ],
   "source": [
    "#creating dataframe containing selftexts where manhattan is mentioned\n",
    "manhattan = df[df['manhattan']==1]\n",
    "manhattan.head()"
   ]
  },
  {
   "cell_type": "code",
   "execution_count": 107,
   "id": "138a3c1e",
   "metadata": {},
   "outputs": [
    {
     "data": {
      "text/plain": [
       "(1288, 7)"
      ]
     },
     "execution_count": 107,
     "metadata": {},
     "output_type": "execute_result"
    }
   ],
   "source": [
    "#checking dimensions of dataframe\n",
    "manhattan.shape"
   ]
  },
  {
   "cell_type": "code",
   "execution_count": 108,
   "id": "8ef47629",
   "metadata": {},
   "outputs": [
    {
     "data": {
      "text/plain": [
       "0"
      ]
     },
     "execution_count": 108,
     "metadata": {},
     "output_type": "execute_result"
    }
   ],
   "source": [
    "#confirming that there are no nulls \n",
    "manhattan.isnull().sum().sum()"
   ]
  },
  {
   "cell_type": "code",
   "execution_count": 109,
   "id": "e9114f98",
   "metadata": {},
   "outputs": [],
   "source": [
    "#converting self text column to list of strings\n",
    "corpus= list(manhattan['selftext'])"
   ]
  },
  {
   "cell_type": "code",
   "execution_count": 110,
   "id": "9eff2b28",
   "metadata": {},
   "outputs": [],
   "source": [
    "#saving dataframe slice to csv\n",
    "manhattan.to_csv('data/posts_which_mention_manhattan.csv', index=False)"
   ]
  },
  {
   "cell_type": "code",
   "execution_count": 111,
   "id": "fd6bd319",
   "metadata": {},
   "outputs": [],
   "source": [
    "#instantiating SIA\n",
    "sia = SentimentIntensityAnalyzer()"
   ]
  },
  {
   "cell_type": "code",
   "execution_count": 112,
   "id": "3f62c384",
   "metadata": {},
   "outputs": [
    {
     "data": {
      "text/html": [
       "<div>\n",
       "<style scoped>\n",
       "    .dataframe tbody tr th:only-of-type {\n",
       "        vertical-align: middle;\n",
       "    }\n",
       "\n",
       "    .dataframe tbody tr th {\n",
       "        vertical-align: top;\n",
       "    }\n",
       "\n",
       "    .dataframe thead th {\n",
       "        text-align: right;\n",
       "    }\n",
       "</style>\n",
       "<table border=\"1\" class=\"dataframe\">\n",
       "  <thead>\n",
       "    <tr style=\"text-align: right;\">\n",
       "      <th></th>\n",
       "      <th>neg</th>\n",
       "      <th>neu</th>\n",
       "      <th>pos</th>\n",
       "      <th>compound</th>\n",
       "      <th>selftext</th>\n",
       "    </tr>\n",
       "  </thead>\n",
       "  <tbody>\n",
       "    <tr>\n",
       "      <th>0</th>\n",
       "      <td>0.000</td>\n",
       "      <td>0.796</td>\n",
       "      <td>0.204</td>\n",
       "      <td>0.3182</td>\n",
       "      <td>Can someone please send me Manhattan 5LB Editi...</td>\n",
       "    </tr>\n",
       "    <tr>\n",
       "      <th>1</th>\n",
       "      <td>0.235</td>\n",
       "      <td>0.667</td>\n",
       "      <td>0.098</td>\n",
       "      <td>-0.9801</td>\n",
       "      <td>About mid-August I took a manhattan prep GRE t...</td>\n",
       "    </tr>\n",
       "    <tr>\n",
       "      <th>2</th>\n",
       "      <td>0.223</td>\n",
       "      <td>0.712</td>\n",
       "      <td>0.065</td>\n",
       "      <td>-0.9815</td>\n",
       "      <td>Well I wanted to give my GRE at 2nd November b...</td>\n",
       "    </tr>\n",
       "    <tr>\n",
       "      <th>3</th>\n",
       "      <td>0.000</td>\n",
       "      <td>0.873</td>\n",
       "      <td>0.127</td>\n",
       "      <td>0.9501</td>\n",
       "      <td>First time taking it, it went alright I suppos...</td>\n",
       "    </tr>\n",
       "    <tr>\n",
       "      <th>4</th>\n",
       "      <td>0.040</td>\n",
       "      <td>0.833</td>\n",
       "      <td>0.127</td>\n",
       "      <td>0.9983</td>\n",
       "      <td>Took the GRE yesterday, and the unofficial sco...</td>\n",
       "    </tr>\n",
       "  </tbody>\n",
       "</table>\n",
       "</div>"
      ],
      "text/plain": [
       "     neg    neu    pos  compound  \\\n",
       "0  0.000  0.796  0.204    0.3182   \n",
       "1  0.235  0.667  0.098   -0.9801   \n",
       "2  0.223  0.712  0.065   -0.9815   \n",
       "3  0.000  0.873  0.127    0.9501   \n",
       "4  0.040  0.833  0.127    0.9983   \n",
       "\n",
       "                                            selftext  \n",
       "0  Can someone please send me Manhattan 5LB Editi...  \n",
       "1  About mid-August I took a manhattan prep GRE t...  \n",
       "2  Well I wanted to give my GRE at 2nd November b...  \n",
       "3  First time taking it, it went alright I suppos...  \n",
       "4  Took the GRE yesterday, and the unofficial sco...  "
      ]
     },
     "execution_count": 112,
     "metadata": {},
     "output_type": "execute_result"
    }
   ],
   "source": [
    "#creating dataframe which has SIA scores for each selftext\n",
    "sentiment = []    \n",
    "\n",
    "for post in corpus:\n",
    "    scores = sia.polarity_scores(post)\n",
    "    scores['selftext'] = post\n",
    "    sentiment.append(scores)\n",
    "\n",
    "manhattan_sent = pd.DataFrame(sentiment)\n",
    "manhattan_sent.head()"
   ]
  },
  {
   "cell_type": "code",
   "execution_count": 113,
   "id": "df19b10e",
   "metadata": {},
   "outputs": [
    {
     "data": {
      "text/html": [
       "<div>\n",
       "<style scoped>\n",
       "    .dataframe tbody tr th:only-of-type {\n",
       "        vertical-align: middle;\n",
       "    }\n",
       "\n",
       "    .dataframe tbody tr th {\n",
       "        vertical-align: top;\n",
       "    }\n",
       "\n",
       "    .dataframe thead th {\n",
       "        text-align: right;\n",
       "    }\n",
       "</style>\n",
       "<table border=\"1\" class=\"dataframe\">\n",
       "  <thead>\n",
       "    <tr style=\"text-align: right;\">\n",
       "      <th></th>\n",
       "      <th>subreddit</th>\n",
       "      <th>selftext</th>\n",
       "      <th>title</th>\n",
       "      <th>created_utc</th>\n",
       "      <th>title_word_count</th>\n",
       "      <th>text_word_count</th>\n",
       "      <th>manhattan</th>\n",
       "    </tr>\n",
       "  </thead>\n",
       "  <tbody>\n",
       "    <tr>\n",
       "      <th>0</th>\n",
       "      <td>1</td>\n",
       "      <td>Can someone please send me Manhattan 5LB Editi...</td>\n",
       "      <td>Does anyone have Manhattan 5LB Edition 2?</td>\n",
       "      <td>1635771957</td>\n",
       "      <td>8</td>\n",
       "      <td>12</td>\n",
       "      <td>1</td>\n",
       "    </tr>\n",
       "    <tr>\n",
       "      <th>1</th>\n",
       "      <td>1</td>\n",
       "      <td>About mid-August I took a manhattan prep GRE t...</td>\n",
       "      <td>Demoralized from Silly Quant Mistakes</td>\n",
       "      <td>1635726552</td>\n",
       "      <td>5</td>\n",
       "      <td>203</td>\n",
       "      <td>1</td>\n",
       "    </tr>\n",
       "    <tr>\n",
       "      <th>2</th>\n",
       "      <td>1</td>\n",
       "      <td>Well I wanted to give my GRE at 2nd November b...</td>\n",
       "      <td>Very anxious and panicking</td>\n",
       "      <td>1635626492</td>\n",
       "      <td>4</td>\n",
       "      <td>181</td>\n",
       "      <td>1</td>\n",
       "    </tr>\n",
       "    <tr>\n",
       "      <th>3</th>\n",
       "      <td>1</td>\n",
       "      <td>First time taking it, it went alright I suppos...</td>\n",
       "      <td>Done for now - 166Q 161V 4.5AWA</td>\n",
       "      <td>1635608638</td>\n",
       "      <td>7</td>\n",
       "      <td>160</td>\n",
       "      <td>1</td>\n",
       "    </tr>\n",
       "    <tr>\n",
       "      <th>4</th>\n",
       "      <td>1</td>\n",
       "      <td>Took the GRE yesterday, and the unofficial sco...</td>\n",
       "      <td>Done with the GRE - 170Q 157V</td>\n",
       "      <td>1635496590</td>\n",
       "      <td>7</td>\n",
       "      <td>1206</td>\n",
       "      <td>1</td>\n",
       "    </tr>\n",
       "  </tbody>\n",
       "</table>\n",
       "</div>"
      ],
      "text/plain": [
       "   subreddit                                           selftext  \\\n",
       "0          1  Can someone please send me Manhattan 5LB Editi...   \n",
       "1          1  About mid-August I took a manhattan prep GRE t...   \n",
       "2          1  Well I wanted to give my GRE at 2nd November b...   \n",
       "3          1  First time taking it, it went alright I suppos...   \n",
       "4          1  Took the GRE yesterday, and the unofficial sco...   \n",
       "\n",
       "                                       title  created_utc  title_word_count  \\\n",
       "0  Does anyone have Manhattan 5LB Edition 2?   1635771957                 8   \n",
       "1      Demoralized from Silly Quant Mistakes   1635726552                 5   \n",
       "2                 Very anxious and panicking   1635626492                 4   \n",
       "3            Done for now - 166Q 161V 4.5AWA   1635608638                 7   \n",
       "4              Done with the GRE - 170Q 157V   1635496590                 7   \n",
       "\n",
       "   text_word_count  manhattan  \n",
       "0               12          1  \n",
       "1              203          1  \n",
       "2              181          1  \n",
       "3              160          1  \n",
       "4             1206          1  "
      ]
     },
     "execution_count": 113,
     "metadata": {},
     "output_type": "execute_result"
    }
   ],
   "source": [
    "#reading data\n",
    "manhattan_csv= pd.read_csv('data/posts_which_mention_manhattan.csv')\n",
    "manhattan_csv.head()"
   ]
  },
  {
   "cell_type": "code",
   "execution_count": 114,
   "id": "0e6945f3",
   "metadata": {},
   "outputs": [],
   "source": [
    "#adding subreddit column to newly created SIA dataframe\n",
    "manhattan_sent['subreddit']= manhattan_csv['subreddit']"
   ]
  },
  {
   "cell_type": "code",
   "execution_count": 115,
   "id": "d1d486fa",
   "metadata": {},
   "outputs": [
    {
     "data": {
      "text/html": [
       "<div>\n",
       "<style scoped>\n",
       "    .dataframe tbody tr th:only-of-type {\n",
       "        vertical-align: middle;\n",
       "    }\n",
       "\n",
       "    .dataframe tbody tr th {\n",
       "        vertical-align: top;\n",
       "    }\n",
       "\n",
       "    .dataframe thead th {\n",
       "        text-align: right;\n",
       "    }\n",
       "</style>\n",
       "<table border=\"1\" class=\"dataframe\">\n",
       "  <thead>\n",
       "    <tr style=\"text-align: right;\">\n",
       "      <th></th>\n",
       "      <th>neg</th>\n",
       "      <th>neu</th>\n",
       "      <th>pos</th>\n",
       "      <th>compound</th>\n",
       "      <th>selftext</th>\n",
       "      <th>subreddit</th>\n",
       "    </tr>\n",
       "  </thead>\n",
       "  <tbody>\n",
       "    <tr>\n",
       "      <th>0</th>\n",
       "      <td>0.000</td>\n",
       "      <td>0.796</td>\n",
       "      <td>0.204</td>\n",
       "      <td>0.3182</td>\n",
       "      <td>Can someone please send me Manhattan 5LB Editi...</td>\n",
       "      <td>1</td>\n",
       "    </tr>\n",
       "    <tr>\n",
       "      <th>1</th>\n",
       "      <td>0.235</td>\n",
       "      <td>0.667</td>\n",
       "      <td>0.098</td>\n",
       "      <td>-0.9801</td>\n",
       "      <td>About mid-August I took a manhattan prep GRE t...</td>\n",
       "      <td>1</td>\n",
       "    </tr>\n",
       "    <tr>\n",
       "      <th>2</th>\n",
       "      <td>0.223</td>\n",
       "      <td>0.712</td>\n",
       "      <td>0.065</td>\n",
       "      <td>-0.9815</td>\n",
       "      <td>Well I wanted to give my GRE at 2nd November b...</td>\n",
       "      <td>1</td>\n",
       "    </tr>\n",
       "    <tr>\n",
       "      <th>3</th>\n",
       "      <td>0.000</td>\n",
       "      <td>0.873</td>\n",
       "      <td>0.127</td>\n",
       "      <td>0.9501</td>\n",
       "      <td>First time taking it, it went alright I suppos...</td>\n",
       "      <td>1</td>\n",
       "    </tr>\n",
       "    <tr>\n",
       "      <th>4</th>\n",
       "      <td>0.040</td>\n",
       "      <td>0.833</td>\n",
       "      <td>0.127</td>\n",
       "      <td>0.9983</td>\n",
       "      <td>Took the GRE yesterday, and the unofficial sco...</td>\n",
       "      <td>1</td>\n",
       "    </tr>\n",
       "  </tbody>\n",
       "</table>\n",
       "</div>"
      ],
      "text/plain": [
       "     neg    neu    pos  compound  \\\n",
       "0  0.000  0.796  0.204    0.3182   \n",
       "1  0.235  0.667  0.098   -0.9801   \n",
       "2  0.223  0.712  0.065   -0.9815   \n",
       "3  0.000  0.873  0.127    0.9501   \n",
       "4  0.040  0.833  0.127    0.9983   \n",
       "\n",
       "                                            selftext  subreddit  \n",
       "0  Can someone please send me Manhattan 5LB Editi...          1  \n",
       "1  About mid-August I took a manhattan prep GRE t...          1  \n",
       "2  Well I wanted to give my GRE at 2nd November b...          1  \n",
       "3  First time taking it, it went alright I suppos...          1  \n",
       "4  Took the GRE yesterday, and the unofficial sco...          1  "
      ]
     },
     "execution_count": 115,
     "metadata": {},
     "output_type": "execute_result"
    }
   ],
   "source": [
    "#checking first 5 rows\n",
    "manhattan_sent.head()"
   ]
  },
  {
   "cell_type": "code",
   "execution_count": 116,
   "id": "3f51ee3b",
   "metadata": {},
   "outputs": [
    {
     "data": {
      "text/plain": [
       "1    0.551242\n",
       "0    0.448758\n",
       "Name: subreddit, dtype: float64"
      ]
     },
     "execution_count": 116,
     "metadata": {},
     "output_type": "execute_result"
    }
   ],
   "source": [
    "#checking for balance in classes\n",
    "manhattan_sent['subreddit'].value_counts(normalize=True)"
   ]
  },
  {
   "cell_type": "code",
   "execution_count": 117,
   "id": "ffb7f31b",
   "metadata": {},
   "outputs": [
    {
     "data": {
      "text/plain": [
       "subreddit\n",
       "0    0.372744\n",
       "1    0.417690\n",
       "Name: compound, dtype: float64"
      ]
     },
     "execution_count": 117,
     "metadata": {},
     "output_type": "execute_result"
    }
   ],
   "source": [
    "#Computing mean normalized weighted composite (compound) score for each class \n",
    "manhattan_sent.groupby(\"subreddit\")[\"compound\"].mean()"
   ]
  },
  {
   "cell_type": "markdown",
   "id": "29f3bac0",
   "metadata": {},
   "source": [
    "In both the GRE and GMAT subreddits, \"sentiments\" associated with Manhattan Prep, are neutral on average. This is because the mean compound score in both categories are within the range of -0.05 to 0.05."
   ]
  },
  {
   "cell_type": "code",
   "execution_count": 118,
   "id": "b0bd6b35",
   "metadata": {},
   "outputs": [
    {
     "data": {
      "text/plain": [
       "<Figure size 720x720 with 0 Axes>"
      ]
     },
     "metadata": {},
     "output_type": "display_data"
    },
    {
     "data": {
      "image/png": "[encoded data removed]",
      "text/plain": [
       "<Figure size 720x504 with 1 Axes>"
      ]
     },
     "metadata": {
      "needs_background": "light"
     },
     "output_type": "display_data"
    }
   ],
   "source": [
    "#Displaying Average Positive, Negative & Compound Sentiment Scores\n",
    "plt.figure(figsize=(10,10))\n",
    "\n",
    "manhattan_sent.groupby('subreddit').mean()[['pos', 'neg', 'compound']].plot(kind='barh', cmap='Accent', figsize=(10,7))\n",
    "plt.title('Average Positive, Negative & Compound Sentiment Scores',fontsize=16)\n",
    "plt.xlabel('Score', fontsize=14)\n",
    "plt.ylabel('Subreddit', fontsize=14)\n",
    "plt.savefig('Average Positive, Negative & Compound Sentiment Scores');"
   ]
  },
  {
   "cell_type": "code",
   "execution_count": 119,
   "id": "131d20d1",
   "metadata": {},
   "outputs": [],
   "source": [
    "pd.set_option(\"display.max_colwidth\",None)"
   ]
  },
  {
   "cell_type": "code",
   "execution_count": 120,
   "id": "36e76087",
   "metadata": {
    "scrolled": true
   },
   "outputs": [
    {
     "data": {
      "text/html": [
       "<div>\n",
       "<style scoped>\n",
       "    .dataframe tbody tr th:only-of-type {\n",
       "        vertical-align: middle;\n",
       "    }\n",
       "\n",
       "    .dataframe tbody tr th {\n",
       "        vertical-align: top;\n",
       "    }\n",
       "\n",
       "    .dataframe thead th {\n",
       "        text-align: right;\n",
       "    }\n",
       "</style>\n",
       "<table border=\"1\" class=\"dataframe\">\n",
       "  <thead>\n",
       "    <tr style=\"text-align: right;\">\n",
       "      <th></th>\n",
       "      <th>neg</th>\n",
       "      <th>neu</th>\n",
       "      <th>pos</th>\n",
       "      <th>compound</th>\n",
       "      <th>selftext</th>\n",
       "      <th>subreddit</th>\n",
       "    </tr>\n",
       "  </thead>\n",
       "  <tbody>\n",
       "    <tr>\n",
       "      <th>1</th>\n",
       "      <td>0.235</td>\n",
       "      <td>0.667</td>\n",
       "      <td>0.098</td>\n",
       "      <td>-0.9801</td>\n",
       "      <td>About mid-August I took a manhattan prep GRE test as got 161 Q. Since then I've worked through the whole 5lb book, repeating sections/problems I did poorly on until I felt I had the concepts down. I took the Power Prep 1 test, and got a 162 Q, missing 3 problems in both quant sections. I felt like I did better both on time and knowing the material (didn't encounter any problems that stumped me, just a few I was unsure about) than my earlier test, but I only managed to improve by 1 point. Even worse, the questions I missed weren't ones I was iffy about, I just made really stupid errors on problems I felt confident about. not sure how to approach this...I feel like I've tapped out the 5lb book, and dumb errors wasn't something I really struggled with during practice. I'm worried I'm going to run out of practice problems before I can get the score I want. else have this issue? Any way you approached it besides just drilling more problems?</td>\n",
       "      <td>1</td>\n",
       "    </tr>\n",
       "    <tr>\n",
       "      <th>2</th>\n",
       "      <td>0.223</td>\n",
       "      <td>0.712</td>\n",
       "      <td>0.065</td>\n",
       "      <td>-0.9815</td>\n",
       "      <td>Well I wanted to give my GRE at 2nd November but unfortunately due to some reasons I wasn't prepared enough to give it so I decided to postpone the date , so Today I logged onto the ets website to postpone my date for another 2 weeks then I got to know that I can't postpone the date 4 days prior to exam , there's literally just 2 days remaining for the exam and I can't reach 300 for my mocks , my first Kaplan mock : 153Q 142V ,my second Kaplan mock : 155Q 144V , I am very scared about tanking my first GRE attempt I know you can give more attempts but I am scared that it might hinder my application process , and can someone suggest me ways to improve quants : I solved Manhattan 5lb book , I am aiming for the score of 310 , according to me that's the most I can do , my verbal section is very weak idk what shall I do to improve it</td>\n",
       "      <td>1</td>\n",
       "    </tr>\n",
       "    <tr>\n",
       "      <th>5</th>\n",
       "      <td>0.151</td>\n",
       "      <td>0.738</td>\n",
       "      <td>0.111</td>\n",
       "      <td>-0.4860</td>\n",
       "      <td>I feel more comfortable with most quant topics, but by far these three areas are my weakest, especially probability. I have the 5lb Manhattan book and the complete ETS OG. I was wondering where I might find practice problems online that can help me in these areas.</td>\n",
       "      <td>1</td>\n",
       "    </tr>\n",
       "    <tr>\n",
       "      <th>8</th>\n",
       "      <td>0.122</td>\n",
       "      <td>0.774</td>\n",
       "      <td>0.103</td>\n",
       "      <td>-0.3463</td>\n",
       "      <td>I've solved Manhattan 5lb as well as quant section of Gregmat, watched Greg's concept videos wherever I was weak and saw all of his tips and tricks videos. Inspite of that my quant score is consistently low in mocks. Verbal 152 Quant 154\\nPP2- Verbal 153 Quant 159 test 1- Verbal 157 Quant 153 also maintaining an error log and keep solving sections which are harder for me. But my quant score seems to be stuck and I need to get to at least 162-164 for getting into the universities I'm aiming for. I haven't booked the GRE yet, I'm intending to take it early December. I be doing more timed tests? Is it worth solving big book quant at this point? Which material should I use now? suggestion regarding this will be appreciated because the low quant score is really hurting my self esteem and I need to get better at it somehow before I run out of ETS mock tests.</td>\n",
       "      <td>1</td>\n",
       "    </tr>\n",
       "    <tr>\n",
       "      <th>9</th>\n",
       "      <td>0.122</td>\n",
       "      <td>0.878</td>\n",
       "      <td>0.000</td>\n",
       "      <td>-0.8168</td>\n",
       "      <td>I have my GRE in 10 days and right now i am exhausted with verbal material  \\ndone with every section in ETS verbal book and ETS OG book and also done with manhattan RC and Text completion ( but i saw on GregMat's video Manhattan and Kaplan's verbal aint that good like GRE level)  \\nSO ANY VERBAL MATERIAL OF GRE LEVEL OTHER THAN ETS OG AND VERBAL BOOK????</td>\n",
       "      <td>1</td>\n",
       "    </tr>\n",
       "    <tr>\n",
       "      <th>...</th>\n",
       "      <td>...</td>\n",
       "      <td>...</td>\n",
       "      <td>...</td>\n",
       "      <td>...</td>\n",
       "      <td>...</td>\n",
       "      <td>...</td>\n",
       "    </tr>\n",
       "    <tr>\n",
       "      <th>692</th>\n",
       "      <td>0.110</td>\n",
       "      <td>0.822</td>\n",
       "      <td>0.068</td>\n",
       "      <td>-0.5994</td>\n",
       "      <td>Hello, I took up the GRE Test and managed to score 152 in Quants and 148 in Verbal. Despite referring to Manhattan 5LB, Official ETS Guides, Greg Mat Strategies, ended up with a low score far from what I planned to achieve(320). I need to restructure my approaches and carefully drill areas of weakness. As of now, I am clueless as to how I should devise a study plan. Also, the mocks provided by Princeton, Manhattan, and Kaplan are not even close to what I experienced in the actual GRE Test. Please help.</td>\n",
       "      <td>1</td>\n",
       "    </tr>\n",
       "    <tr>\n",
       "      <th>693</th>\n",
       "      <td>0.133</td>\n",
       "      <td>0.778</td>\n",
       "      <td>0.089</td>\n",
       "      <td>-0.6933</td>\n",
       "      <td>So, I'm getting a bit discouraged. Wrapping up the second day of  Vince Kotchian's 1 Month Study plan and I feel like Quant is going to be the end of me. I have been doing the ETS Power Pack Math Review and Manhattan Quant Practice in the 5 Lb. Book and I can't help but feel like I am missing way too many. I try to do as many questions as I can (about halfway through Chapter 11 on Fractions/Decimals) but I honestly just feel hopeless now if I am struggling with such simple stuff (relatively). Is this typical for studying for the GRE? Should I be reviewing the Math Review more closely? I am also watching Gregmat if I struggle a lot on a particular question in the review. Maybe my non-math background is why, I don't know. Any help or advice would be appreciated.</td>\n",
       "      <td>1</td>\n",
       "    </tr>\n",
       "    <tr>\n",
       "      <th>695</th>\n",
       "      <td>0.098</td>\n",
       "      <td>0.822</td>\n",
       "      <td>0.080</td>\n",
       "      <td>-0.4419</td>\n",
       "      <td>So I am about to start Vince Kotchian's 1 Month Study Plan for the GRE. I am terrible at math so I plan to go through the entirety of the GRE Math Review in my Super Power Pack and then do problems in the Manhattan 5 lb. Book. Is there a specific time in my study plan I should have the Math Review done by? Is there a certain way to do Math Review? Should I take notes or just read? I am terrible at math, so I really need to knock the review out of the park. Any help and advice would be greatly appreciated!!!!</td>\n",
       "      <td>1</td>\n",
       "    </tr>\n",
       "    <tr>\n",
       "      <th>707</th>\n",
       "      <td>0.047</td>\n",
       "      <td>0.903</td>\n",
       "      <td>0.050</td>\n",
       "      <td>-0.1061</td>\n",
       "      <td>Hello! I first took the GRE at a testing facility on 09/21, and while my scores weren't abysmal, I was disappointed given that my Quant score isn't ideal for the programs I'm applying for. The following are the results of my practice tests prior to the test.  PP1:  Verbal - 157, Quant - 164\\n* PP2:  Verbal - 158, Quant - 161 \\n* PPPlus 1:  Verbal - 159, Quant - 160, AW - 5.0  these three mock tests, it was finally time for my actual test, where I received the following scores.  Actual GRE:  Verbal - 159, Quant - 160, AW - 5.0 decided to retake the test and am scheduled for the at-home version on 11/15, so I have roughly 4 weeks to prepare. Today I took the free Manhattan Prep test and received the following score.  Manhattan:  Verbal - 160, Quant - 159.  a clear pattern among all my scores:  both my Verbal and Quant scores have little variance and hover right at the 160 mark. I'm aiming for 165 or above on the Quant section, and I'm not too worried for Verbal and AW as I'm a native English speaker and writing has always been a favorite of mine.  noticed my biggest weakness for Quant is time management. For example, in all my tests, I ace the first Quant section, only to then struggle in the harder second section where I run out of time. I'm subscribed to GregMat+ and I have employed his Quant strategies, e.g. Choosing Numbers, Back-solving, B-D method, in all my tests. But again, my weakness is time management.  have about 4 weeks left until I retake the test, and I average roughly 3 hours of study per day, which I feel is adequate. I usually study both Verbal and Quant each study session, but I'm pondering whether I should abandon that study plan and instead focus solely on Quant so as to improve my time management skills in that area. Any advice on how to move forward?</td>\n",
       "      <td>1</td>\n",
       "    </tr>\n",
       "    <tr>\n",
       "      <th>708</th>\n",
       "      <td>0.056</td>\n",
       "      <td>0.920</td>\n",
       "      <td>0.024</td>\n",
       "      <td>-0.4137</td>\n",
       "      <td>This is a problem from the manhattan 5lbs about ratios. I'm not quite understanding their reasoning. They added all the variables had an equation y= x+ 2x+ 0.5x = 3.5x. They say the answer is 7 and 63. When I multiple the 7 into the equation I get a decimal, is that right? To get a partial number of cans? \\n\\n</td>\n",
       "      <td>1</td>\n",
       "    </tr>\n",
       "  </tbody>\n",
       "</table>\n",
       "<p>164 rows × 6 columns</p>\n",
       "</div>"
      ],
      "text/plain": [
       "       neg    neu    pos  compound  \\\n",
       "1    0.235  0.667  0.098   -0.9801   \n",
       "2    0.223  0.712  0.065   -0.9815   \n",
       "5    0.151  0.738  0.111   -0.4860   \n",
       "8    0.122  0.774  0.103   -0.3463   \n",
       "9    0.122  0.878  0.000   -0.8168   \n",
       "..     ...    ...    ...       ...   \n",
       "692  0.110  0.822  0.068   -0.5994   \n",
       "693  0.133  0.778  0.089   -0.6933   \n",
       "695  0.098  0.822  0.080   -0.4419   \n",
       "707  0.047  0.903  0.050   -0.1061   \n",
       "708  0.056  0.920  0.024   -0.4137   \n",
       "\n",
       "                                                                                                                                                                                                                                                                                                                                                                                                                                                                                                                                                                                                                                                                                                                                                                                                                                                                                                                                                                                                                                                                                                                                                                                                                                                                                                                                                                                                                                                                                                                                                                                                                                                                                                                                                                                                                                                                      selftext  \\\n",
       "1                                                                                                                                                                                                                                                                                                                                                                                                                                                                                                                                                                                                                                                                                                                                                                                                                                                                                        About mid-August I took a manhattan prep GRE test as got 161 Q. Since then I've worked through the whole 5lb book, repeating sections/problems I did poorly on until I felt I had the concepts down. I took the Power Prep 1 test, and got a 162 Q, missing 3 problems in both quant sections. I felt like I did better both on time and knowing the material (didn't encounter any problems that stumped me, just a few I was unsure about) than my earlier test, but I only managed to improve by 1 point. Even worse, the questions I missed weren't ones I was iffy about, I just made really stupid errors on problems I felt confident about. not sure how to approach this...I feel like I've tapped out the 5lb book, and dumb errors wasn't something I really struggled with during practice. I'm worried I'm going to run out of practice problems before I can get the score I want. else have this issue? Any way you approached it besides just drilling more problems?   \n",
       "2                                                                                                                                                                                                                                                                                                                                                                                                                                                                                                                                                                                                                                                                                                                                                                                                                                                                                                                                                                                                      Well I wanted to give my GRE at 2nd November but unfortunately due to some reasons I wasn't prepared enough to give it so I decided to postpone the date , so Today I logged onto the ets website to postpone my date for another 2 weeks then I got to know that I can't postpone the date 4 days prior to exam , there's literally just 2 days remaining for the exam and I can't reach 300 for my mocks , my first Kaplan mock : 153Q 142V ,my second Kaplan mock : 155Q 144V , I am very scared about tanking my first GRE attempt I know you can give more attempts but I am scared that it might hinder my application process , and can someone suggest me ways to improve quants : I solved Manhattan 5lb book , I am aiming for the score of 310 , according to me that's the most I can do , my verbal section is very weak idk what shall I do to improve it   \n",
       "5                                                                                                                                                                                                                                                                                                                                                                                                                                                                                                                                                                                                                                                                                                                                                                                                                                                                                                                                                                                                                                                                                                                                                                                                                                                                                                                                                                                                                                                                                                                                                                                                     I feel more comfortable with most quant topics, but by far these three areas are my weakest, especially probability. I have the 5lb Manhattan book and the complete ETS OG. I was wondering where I might find practice problems online that can help me in these areas.   \n",
       "8                                                                                                                                                                                                                                                                                                                                                                                                                                                                                                                                                                                                                                                                                                                                                                                                                                                                                                                                                                             I've solved Manhattan 5lb as well as quant section of Gregmat, watched Greg's concept videos wherever I was weak and saw all of his tips and tricks videos. Inspite of that my quant score is consistently low in mocks. Verbal 152 Quant 154\\nPP2- Verbal 153 Quant 159 test 1- Verbal 157 Quant 153 also maintaining an error log and keep solving sections which are harder for me. But my quant score seems to be stuck and I need to get to at least 162-164 for getting into the universities I'm aiming for. I haven't booked the GRE yet, I'm intending to take it early December. I be doing more timed tests? Is it worth solving big book quant at this point? Which material should I use now? suggestion regarding this will be appreciated because the low quant score is really hurting my self esteem and I need to get better at it somehow before I run out of ETS mock tests.   \n",
       "9                                                                                                                                                                                                                                                                                                                                                                                                                                                                                                                                                                                                                                                                                                                                                                                                                                                                                                                                                                                                                                                                                                                                                                                                                                                                                                                                                                                                                                                                                                        I have my GRE in 10 days and right now i am exhausted with verbal material  \\ndone with every section in ETS verbal book and ETS OG book and also done with manhattan RC and Text completion ( but i saw on GregMat's video Manhattan and Kaplan's verbal aint that good like GRE level)  \\nSO ANY VERBAL MATERIAL OF GRE LEVEL OTHER THAN ETS OG AND VERBAL BOOK????   \n",
       "..                                                                                                                                                                                                                                                                                                                                                                                                                                                                                                                                                                                                                                                                                                                                                                                                                                                                                                                                                                                                                                                                                                                                                                                                                                                                                                                                                                                                                                                                                                                                                                                                                                                                                                                                                                                                                                                                         ...   \n",
       "692                                                                                                                                                                                                                                                                                                                                                                                                                                                                                                                                                                                                                                                                                                                                                                                                                                                                                                                                                                                                                                                                                                                                                                                                                                                                                                                                                Hello, I took up the GRE Test and managed to score 152 in Quants and 148 in Verbal. Despite referring to Manhattan 5LB, Official ETS Guides, Greg Mat Strategies, ended up with a low score far from what I planned to achieve(320). I need to restructure my approaches and carefully drill areas of weakness. As of now, I am clueless as to how I should devise a study plan. Also, the mocks provided by Princeton, Manhattan, and Kaplan are not even close to what I experienced in the actual GRE Test. Please help.   \n",
       "693                                                                                                                                                                                                                                                                                                                                                                                                                                                                                                                                                                                                                                                                                                                                                                                                                                                                                                                                                                                                                                                                         So, I'm getting a bit discouraged. Wrapping up the second day of  Vince Kotchian's 1 Month Study plan and I feel like Quant is going to be the end of me. I have been doing the ETS Power Pack Math Review and Manhattan Quant Practice in the 5 Lb. Book and I can't help but feel like I am missing way too many. I try to do as many questions as I can (about halfway through Chapter 11 on Fractions/Decimals) but I honestly just feel hopeless now if I am struggling with such simple stuff (relatively). Is this typical for studying for the GRE? Should I be reviewing the Math Review more closely? I am also watching Gregmat if I struggle a lot on a particular question in the review. Maybe my non-math background is why, I don't know. Any help or advice would be appreciated.   \n",
       "695                                                                                                                                                                                                                                                                                                                                                                                                                                                                                                                                                                                                                                                                                                                                                                                                                                                                                                                                                                                                                                                                                                                                                                                                                                                                                                                                          So I am about to start Vince Kotchian's 1 Month Study Plan for the GRE. I am terrible at math so I plan to go through the entirety of the GRE Math Review in my Super Power Pack and then do problems in the Manhattan 5 lb. Book. Is there a specific time in my study plan I should have the Math Review done by? Is there a certain way to do Math Review? Should I take notes or just read? I am terrible at math, so I really need to knock the review out of the park. Any help and advice would be greatly appreciated!!!!   \n",
       "707  Hello! I first took the GRE at a testing facility on 09/21, and while my scores weren't abysmal, I was disappointed given that my Quant score isn't ideal for the programs I'm applying for. The following are the results of my practice tests prior to the test.  PP1:  Verbal - 157, Quant - 164\\n* PP2:  Verbal - 158, Quant - 161 \\n* PPPlus 1:  Verbal - 159, Quant - 160, AW - 5.0  these three mock tests, it was finally time for my actual test, where I received the following scores.  Actual GRE:  Verbal - 159, Quant - 160, AW - 5.0 decided to retake the test and am scheduled for the at-home version on 11/15, so I have roughly 4 weeks to prepare. Today I took the free Manhattan Prep test and received the following score.  Manhattan:  Verbal - 160, Quant - 159.  a clear pattern among all my scores:  both my Verbal and Quant scores have little variance and hover right at the 160 mark. I'm aiming for 165 or above on the Quant section, and I'm not too worried for Verbal and AW as I'm a native English speaker and writing has always been a favorite of mine.  noticed my biggest weakness for Quant is time management. For example, in all my tests, I ace the first Quant section, only to then struggle in the harder second section where I run out of time. I'm subscribed to GregMat+ and I have employed his Quant strategies, e.g. Choosing Numbers, Back-solving, B-D method, in all my tests. But again, my weakness is time management.  have about 4 weeks left until I retake the test, and I average roughly 3 hours of study per day, which I feel is adequate. I usually study both Verbal and Quant each study session, but I'm pondering whether I should abandon that study plan and instead focus solely on Quant so as to improve my time management skills in that area. Any advice on how to move forward?   \n",
       "708                                                                                                                                                                                                                                                                                                                                                                                                                                                                                                                                                                                                                                                                                                                                                                                                                                                                                                                                                                                                                                                                                                                                                                                                                                                                                                                                                                                                                                                                                                                                                    This is a problem from the manhattan 5lbs about ratios. I'm not quite understanding their reasoning. They added all the variables had an equation y= x+ 2x+ 0.5x = 3.5x. They say the answer is 7 and 63. When I multiple the 7 into the equation I get a decimal, is that right? To get a partial number of cans? \\n\\n   \n",
       "\n",
       "     subreddit  \n",
       "1            1  \n",
       "2            1  \n",
       "5            1  \n",
       "8            1  \n",
       "9            1  \n",
       "..         ...  \n",
       "692          1  \n",
       "693          1  \n",
       "695          1  \n",
       "707          1  \n",
       "708          1  \n",
       "\n",
       "[164 rows x 6 columns]"
      ]
     },
     "execution_count": 120,
     "metadata": {},
     "output_type": "execute_result"
    }
   ],
   "source": [
    "#displaying 164 entries in r/GRE where sentiments associated with Manhattan Prep were negative\n",
    "manhattan_sent[(manhattan_sent[\"compound\"]<= -0.05) & (manhattan_sent['subreddit']==1)]"
   ]
  },
  {
   "cell_type": "code",
   "execution_count": 121,
   "id": "a0cb768e",
   "metadata": {},
   "outputs": [
    {
     "data": {
      "text/html": [
       "<div>\n",
       "<style scoped>\n",
       "    .dataframe tbody tr th:only-of-type {\n",
       "        vertical-align: middle;\n",
       "    }\n",
       "\n",
       "    .dataframe tbody tr th {\n",
       "        vertical-align: top;\n",
       "    }\n",
       "\n",
       "    .dataframe thead th {\n",
       "        text-align: right;\n",
       "    }\n",
       "</style>\n",
       "<table border=\"1\" class=\"dataframe\">\n",
       "  <thead>\n",
       "    <tr style=\"text-align: right;\">\n",
       "      <th></th>\n",
       "      <th>neg</th>\n",
       "      <th>neu</th>\n",
       "      <th>pos</th>\n",
       "      <th>compound</th>\n",
       "      <th>selftext</th>\n",
       "      <th>subreddit</th>\n",
       "    </tr>\n",
       "  </thead>\n",
       "  <tbody>\n",
       "    <tr>\n",
       "      <th>0</th>\n",
       "      <td>0.000</td>\n",
       "      <td>0.796</td>\n",
       "      <td>0.204</td>\n",
       "      <td>0.3182</td>\n",
       "      <td>Can someone please send me Manhattan 5LB Edition 2 Practice book?</td>\n",
       "      <td>1</td>\n",
       "    </tr>\n",
       "    <tr>\n",
       "      <th>3</th>\n",
       "      <td>0.000</td>\n",
       "      <td>0.873</td>\n",
       "      <td>0.127</td>\n",
       "      <td>0.9501</td>\n",
       "      <td>First time taking it, it went alright I suppose. months of prep\\n5lb Manhattan prep book\\nOfficial GRE guidebooks (two paper test and those two computer-based tests) the AWA, I literally winged it and it somehow flew. I googled \"GRE AWA structure\" and some webpages gave pretty good tips on how to make stuff logically flow. If you're aware of current events and history then there's a good to fair chance that you'll have content on the fly to fill paragraphs with. the quant section, my brain froze on the last two questions so 170 went out the window 😞. Beware of questions dealing with factorials and powers. the verbal section, I made peace with the fact that there will always be some words and passages that do not make sense in my head, even after the jankiest of elimination tactics.</td>\n",
       "      <td>1</td>\n",
       "    </tr>\n",
       "    <tr>\n",
       "      <th>4</th>\n",
       "      <td>0.040</td>\n",
       "      <td>0.833</td>\n",
       "      <td>0.127</td>\n",
       "      <td>0.9983</td>\n",
       "      <td>Took the GRE yesterday, and the unofficial scores are 170Q and 157V. This subreddit has been very helpful for me, keeping me right on track, and making me switch my decision from the 'At Home GRE' to the 'Test Center based GRE'.  some background, I am from a STEM background from India, so the Quant was not much of an issue, but being a non-native speaker, Verbal was just too hard for me. August, I started researching about what are the requirements for MS applications and came to know about the GRE. Took a diagnostic test, and the projected score was 164Q and 146V. Then in September, I took the GregMat plus and started the one-month plan, but due to internship review periods and online sem exams(DAMN), I could not complete it in a month. So instead I took some extra days but due to my final year project that began around October, I still could not complete it fully. I scheduled my GRE for the 28th of October, and just the night before, I was reading Gregmat's list and watched the Critical Reasoning videos(which was indeed very helpful).  only had some revision to do for the Data Analysis portion, so I did that from the Math review, and then I followed GregMat's plan, doing the exercises mentioned in his plan from the OG, Big book, and Quant Reasoning book. Also, some of GregMat's strategies are gold for solving questions faster, like the 'choosing numbers' strategy, instead of going through the traditional Algebra route, which we are very inclined towards. Later, I only did the Advanced Quant part of the Manhattan 5lb. I was constantly getting 170Q in the PP and PPP tests, and also in the Kaplan and Princeton free tests which I gave later, so I was confident about that part. My advice is, if you are from an Engineering background in India, you can easily score a 170 in Quant. My most feared and dreaded section. I was not very strong in English ever and was only scoring 145-148 (quite consistently XD) in all of my practice tests before starting GregMat. Within one week of starting though, when I took PP1, my score shot up to 151! My first 150! rigorously went through all of his SC and TE videos, solving exercises from the OG, Big Book, and Verbal Reasoning book. I did not follow any third-party test prep, only the official ETS material as suggested by Greg. Towards the end, I went through the Reading videos just 3 days before my test. For vocab, I followed Greg's list and managed to get up to like Group 15 I think (450 words), and that was it. After that, when I gave PP1 again, I got a 160 in Verbal, though I admit I remembered some of the questions. Then I gave PP2 and PPP3 and got 159 and 158 respectively, and I could not believe it myself!   \\nSo all I did was follow GregMat and in a month, my score shot up from a 146 to a 158! Test Scores:  \\nPP1(Attempt 1): 169Q, 151V Free Test: 170Q, 154V 2): 170Q, 160V 170Q, 159V Review Test 3: 170Q, 155V 169Q, 158V (Very Close to my actual score) Day: a small story before we get into the test. I was assigned a computer with system number 13, and I do not particularly like that number, but once I reached the system, the administrator said that this system was not working, so they shifted me to system number 24. Kobe! I was elated! I took a moment to remember the Mamba mentality and then started my test.\\n\\n  \\nThe two essays were fine, I had watched Greg's videos and followed his structure, and was able to organize and complete them well within the timeframe. Then, got a QVQVQ.  first Quant section was pretty straightforward and did not cause any trouble. Between the second and third sections, I could not figure out which one was the experimental section, as both had some tricky questions. One question particularly took me like 5-6 minutes to find the answer as I could not figure out any shortcuts to the question. Apart from that, I was making sure to double-check every comparison question as I used to commit silly mistakes in those questions during my practice. Before submitting I just hoped that I had not made any silly mistakes, and seeing 170 made me quite happy! the verbal sections, both the first and second sections worried me. The passages were a bit confusing and had I not seen the Critical Reasoning videos from Greg the night before, I might not have been able to figure out the statement that most strengthens the author's argument XD. I finished the first section with only 3 seconds left on the timer, but the second section was okayish and I had some time left over to review some questions. In both sections, the SE questions were simple and did not have any hard vocab words, and I was easily using the pairing strategy for each of them. As per the TC questions, the two blankers and three blankers were a bit challenging. Overall, as I was submitting, I expected to see a score of about 150-153, but 157 surprised me! was a moment at the test center when everyone's test disconnected due to some server issue, but the administrators were prompt at resolving the issue and helping the students get back to the test at the earliest.  the test was over, the score surprised me very much, especially the Verbal. I proceeded towards selecting the score recipients and spent about 15 minutes there because I only had remembered the University name because, in TOEFL, I was able to find the universities with their names only. Here, I had to search through each state carefully to find my choice of university, and I could not even find two of those to which I intended to send my scores.   \\nI thank u/gregmat! GregMat plus is literally the best platform for GRE! The techniques that he teaches us, as well as the rigorous practice with his detailed solutions, help you immensely! I am currently watching his TOEFL videos for my TOEFL tomorrow XD. you for reading about my experience!</td>\n",
       "      <td>1</td>\n",
       "    </tr>\n",
       "    <tr>\n",
       "      <th>6</th>\n",
       "      <td>0.084</td>\n",
       "      <td>0.746</td>\n",
       "      <td>0.170</td>\n",
       "      <td>0.9779</td>\n",
       "      <td>Took the test last Friday (22-Oct) and got an unofficial score of 159 for quant. It was QVQVQ. During my prep, I watched a decent amount of material on the math fundamentals required. Had a solid grasp on everything (kinda doubting myself now) and could solve just about any problem that I came across. I didn't really care much about timing (big mistake) cuz I managed to finish all my practice tests well within the stipulated time. I took the 2 PP tests, and about 4 other quant tests, from the OG book, Manhattan, etc. I averaged 169 over all these tests, with 168 for PP1 and 170 for PP2. I have no clue what happened during the test, Q1 was fine. P sure I scored ok. Q2 and especially Q3 were brutal. Didn't have time for about 8 questions in Q3. I just couldn't see the shortcuts. Been thinking about them at home and figured them all out, ofc, but it's the pressure and the time constraints ig. Verbal was pretty accurate PP1 was 157, PP2 was 164, unofficial GRE Verbal was also 164. That quant tho. I wanna take it again asap. I need 138+ and I'm just broken mentally rn, super worried that it'll be the same pitfalls again. If anyone has any tips, I'll be super grateful. Thanks and best of luck to everyone. Hope no one else has to deal with this sorta experience.</td>\n",
       "      <td>1</td>\n",
       "    </tr>\n",
       "    <tr>\n",
       "      <th>7</th>\n",
       "      <td>0.070</td>\n",
       "      <td>0.844</td>\n",
       "      <td>0.086</td>\n",
       "      <td>0.4773</td>\n",
       "      <td>I've been studying for two and a half months, casually through Aug-Sept and pretty rigorously (like 2-3 hours per day of combo of GregMat, Manhattan 5lb, Powerprep package, and flashcards) this past month.  my first practice test just over a month ago, I scored a V163/Q155 with the second sessions both being medium, which was honestly higher than expected. Just now I took the second practice test and scored a V159/Q149, which was way worse than expected. The second verbal was the hard version and second quant was the medium version.  just feeling really discouraged because I take the real test tomorrow and am now concerned I won't perform as well. Now, granted, I realized midway through the practice exam that I hadn't eaten in \\~5 hours and that my Adderall XR (for ADHD) was wearing off. Luckily tomorrow I will be taking the test at 11am and will hopefully be in peak performance mode, but I don't want to get my hopes too high.  have experience doing worse on the second practice test? What did your test scores end up being? What should I expect/do at this point?</td>\n",
       "      <td>1</td>\n",
       "    </tr>\n",
       "    <tr>\n",
       "      <th>...</th>\n",
       "      <td>...</td>\n",
       "      <td>...</td>\n",
       "      <td>...</td>\n",
       "      <td>...</td>\n",
       "      <td>...</td>\n",
       "      <td>...</td>\n",
       "    </tr>\n",
       "    <tr>\n",
       "      <th>703</th>\n",
       "      <td>0.016</td>\n",
       "      <td>0.871</td>\n",
       "      <td>0.113</td>\n",
       "      <td>0.9892</td>\n",
       "      <td>I gave my GRE test on 3rd Oct at a nearby testing centre. A major reason behind choosing a test centre rather than home based test was the unreliable internet connectivity at my place. The centre was well maintained. There were not many students at the time of the test, hence there were not many distractions. The invigilators were cooperative.  my prep:  did most of the prep in a 1.5-2 month period just before the test. I had a Magoosh 6 month subscription which I had purchased about 1.5 years before the exam. I had kept it frozen for most of the time. Although, Magoosh team extended my subscription for free when I mentioned my concerns.  solved all the practice questions in the Magoosh prep (about 1200 good quality questions). For vocabulary I used their flashcard app and learnt about 450 words from it. Other than Magoosh, I used Manhattan 5Lb book to practice weak topics in Maths and used the Offical GRE guide for making myself comfortable with actual test questions.  writing, I kept a Word file in which I used to collect all my practice essays. I always practiced them in a timed manner. I chose essay questions from different topics, ranging from education and technology to arts and government. In the end, I distributed the collected essays in separate files and emailed them to my friends who were already done with their GRE test. They graded my essays critically and even mentioned some common mistakes that I make.  the actual test, I gave 8 full length tests from different sources including Magoosh, Manhattan Prep, Kaplan and Princeton Review. I kept an excel sheet in which I noted all the practice test scores with remarks. The average score of all the practice tests was about 320 with 165+ in Q and about 155 in V. The highest score was in PP2 which was 326. I had expected a score about 320 on the actual test, but to my surprise I score better than that.  imp things to keep in mind:  sequence in which you get your sections affects your performance and mental state. For example, if a person finds Verbal difficult, then a VVQQV or VQVQV sequence would be tiring and demotivating. So make sure that you practice enough number of tests to encounter all sorts of section sequences and improve your endurance.  Review offers essay grading, so use that free test wisely after substantial practice of AWA section.  hope this helps anyone who is taking the GRE in the upcoming days.</td>\n",
       "      <td>1</td>\n",
       "    </tr>\n",
       "    <tr>\n",
       "      <th>704</th>\n",
       "      <td>0.053</td>\n",
       "      <td>0.862</td>\n",
       "      <td>0.085</td>\n",
       "      <td>0.2918</td>\n",
       "      <td>Hi Everyone!  \\nTo the people who have taken the manhattan 6 practice tests, is it worth it?   \\nI am inclined towards buying the Powerprep plus but for $10 more I can get 6 more tests with manhattan. I know quality over quantity, but for me taking a lot of mock tests has helped a lot in the past. If anyone can shed some light on this, it'll be really helpful.</td>\n",
       "      <td>1</td>\n",
       "    </tr>\n",
       "    <tr>\n",
       "      <th>705</th>\n",
       "      <td>0.055</td>\n",
       "      <td>0.828</td>\n",
       "      <td>0.117</td>\n",
       "      <td>0.9604</td>\n",
       "      <td>Hi everyone! got my official scores. I am terrible at standardized tests and I only had a month/month-and-a-half to study for the GRE. I was working full-time and studied for a couple of hours every evening (I missed several days in between). I am incredibly happy with my score. Oddly, my actual score is better than the scores I got on my practice exams! A day before the test I took PPP2 and scored 157V 161Q 4.5AW. EXPERIENCE: I dive into my GRE prep, I wanted to briefly discuss my testing experience. I took the test at a testing center. The proctors followed the CDC guidelines, the test-takers sat 6 feet apart, and we were required to wear masks throughout the exam. I glad I took the GRE at a testing center because I need to be in a 'testing environment' to take an exam and because my center did a great job at making us feel safe.  PREP: haven't studied Math in 6/7 years (last time I studied Math was in early high school) and I was never particularly good at it. I revised all concepts from Magoosh and practiced from the Manhattan 5 lb book. I would say I finished nearly 10% of the 5lb book but definitely not more than that. I attempted the last 5 to 10 questions of almost every section but didn't even look at the Advanced Quant section.  isn't ideal for the programs I am applying to. However, it meets the average of all my programs so I am satisfied. I used Gregmats videos for essay-writing and Verbal. I also memorized about 200-300 words from Magoosh/Repeat Offenders Vocabulary. Used ETS material to practice my RC skills.  not a perfect score but still very proud of it! Good luck everyone!</td>\n",
       "      <td>1</td>\n",
       "    </tr>\n",
       "    <tr>\n",
       "      <th>706</th>\n",
       "      <td>0.083</td>\n",
       "      <td>0.825</td>\n",
       "      <td>0.092</td>\n",
       "      <td>0.8493</td>\n",
       "      <td>Hey guys, I took the GREs last week and I just got my score back: 165V/169Q/5AW. benefited a lot from lurking around here and thought I'd share my own study experience and strategies, which was a lot more relaxed than a lot of others' on this sub but, in my opinion, way more effective. total, I spent 40 hours preparing for the GRE, leisurely spread out over a span of 2 months. I think this was a perfect amount of time, considering how I was also balancing school and part-time jobs. I imagine there are others in my position too where it's just unfeasible to spend 4 hours a day for 2 months grinding for the GRE. A lot of the advice I came across was basically that you have to spend a lot of time practicing or else you're screwed! It's true that you can game the GRE if you practice enough, but it's also inefficient and not realistic to spend that much time and effort on it.  was my study schedule: [ broke up my preparation into 3 phases: familiarization, practice, and review. I also used Notion and Toggl to track my study time and record my study sessions. I spent the bare minimum on test prep (basically only paid for the GRE test) -- you can find most GRE prep books (ETS, Manhattan, Kaplan) on libgen, and tools like Quizlet are free.  In this stage, I focused on getting a sense of the GRE and the content tested. This was to prepare me for a diagnostic test so that I could identify the gaps in my knowledge and spend the next stage building up those weak areas.  I read through the ETS math review and watched a couple of Khan Academy videos on quant topics that I wasn't certain about.\\n* I browsed through the entire list of issue and argument topics, and watched Gregmat's videos about how to formulate responses. I also looked at other people's sample responses online (just from Googling, obviously not all were good) and would think about how I'd improve on their response.\\n* I also created this [prompt generator]( on Google Sheets and would use that to give myself writing prompts to brainstorm.\\n* I started doing Magoosh vocab flashcards, but eventually switched to creating my own set on Quizlet.  I started by doing one of the ETS paper tests as a diagnostic to identify where I would have to spend more time improving.  I worked through the ETS quant practices and recorded every single mistake I made along with an explanation of what I did wrong and what the right answer was in a Google Doc. This was really helpful in identifying my weak topics and that I often made careless mistakes by reading the questions too quickly.\\n* I wrote a couple of essays before I figured out what really worked for me. I also did some practice brainstorming sessions: get a prompt and write down an outline in 5-10 minutes. \\n* I did the verbal practice questions in the ETS book and would add every single word I didn't know to my Quizlet flashcards set. \\n* I'd also add words I came across in daily life (e.g. reading the news) to my Quizlet set. \\n* After reviewing my mistake list, I did practices in the respective topics in the Manhattan 5lb book. \\n* I did official tests once a week, and did all 4 free tests. I found it important to take these tests as if you would in exam conditions: no breaks between, and for an extra level of difficulty, at the end of a long day.  I looked through my quant mistakes sheet and went through my flashcard set, and reviewed my writing responses. For the tests, I would make sure I understood why I made the mistakes I did and would make a mental note of those things before I began each new test.  this was my score progression:\\n\\n conclusion, I think there's definitely such a thing as being over-prepared for the GRE and burning yourself out. If you're working on grad school applications at the same time, you know how soul sucking the process is too, and adding GRE stress to it is really not worth it. Good luck!</td>\n",
       "      <td>1</td>\n",
       "    </tr>\n",
       "    <tr>\n",
       "      <th>709</th>\n",
       "      <td>0.025</td>\n",
       "      <td>0.803</td>\n",
       "      <td>0.171</td>\n",
       "      <td>0.9942</td>\n",
       "      <td>Hi, I'm a non native speaker. I appeared for the general test on 3rd October. The pattern on that day was QVQVQ. The middle section of quant was most probably experimental or research section. But it was really nerve wrecking and time consuming. I guessed on a few questions in that section and questions were really weird as compared to normal quant sections I'd encountered till then. \\nOverall, my testing experience was smooth. Both the PowerPrep practice tests really helped and one of the most things is to analyse your mistakes. Gregmat+ is a godsend, truly. Greg's verbal strategies really helped me in improving my verbal score. I would definitely recommend learning vocabulary by either watching Gregmat's vocab videos on his website or better read newspapers and articles. For the last two months my most visited site would Google's dictionary. I started watching Schitt's Creek after the test but that show has a ton of GRE words. Don't be lethargic to find the meaning of any word you don't know the meaning of and also don't depend on rote learning. That is an inefficient and boring way of learning vocab. \\nFor AWA, I followed Greg's format as it helps streamline things and provides clarity. I would suggest to practice writing few essays as it helps in managing the time. 30 minutes passes a lot faster when you've to write an essay. \\nFor Quant, I solved questions from the Manhattan 5 lb book. But I would like to mention that I wasn't really struggling in quant.  Q166, V157\\nPP2- Q160, V152\\nETS Official guide test-1 Q163, V158\\nPrinceton Review- Q164, V155\\nKaplan- Q167, V150 a big thanks to this subreddit. This score wouldn't be possible without the numerous testing experiences I've read here. It really helped me focus and strategize during preparation. \\nI just hope that I get admitted to a good Canadian university.</td>\n",
       "      <td>1</td>\n",
       "    </tr>\n",
       "  </tbody>\n",
       "</table>\n",
       "<p>504 rows × 6 columns</p>\n",
       "</div>"
      ],
      "text/plain": [
       "       neg    neu    pos  compound  \\\n",
       "0    0.000  0.796  0.204    0.3182   \n",
       "3    0.000  0.873  0.127    0.9501   \n",
       "4    0.040  0.833  0.127    0.9983   \n",
       "6    0.084  0.746  0.170    0.9779   \n",
       "7    0.070  0.844  0.086    0.4773   \n",
       "..     ...    ...    ...       ...   \n",
       "703  0.016  0.871  0.113    0.9892   \n",
       "704  0.053  0.862  0.085    0.2918   \n",
       "705  0.055  0.828  0.117    0.9604   \n",
       "706  0.083  0.825  0.092    0.8493   \n",
       "709  0.025  0.803  0.171    0.9942   \n",
       "\n",
       "                                                                                                                                                                                                                                                                                                                                                                                                                                                                                                                                                                                                                                                                                                                                                                                                                                                                                                                                                                                                                                                                                                                                                                                                                                                                                                                                                                                                                                                                                                                                                                                                                                                                                                                                                                                                                                                                                                                                                                                                                                                                                                                                                                                                                                                                                                                                                                                                                                                                                                                                                                                                                                                                                                                                                                                                                                                                                                                                                                                                                                                                                                                                                                                                                                                                                                                                                                                                                                                                                                                                                                                                                                                                                                                                                                                                                                                                                                                                                                                                                                                                                                                                                                                                                                                                                                                                                                                                                                                                                                                                                                                                                                                                                                                                                                                                                                                                                                                                                                                                                                                                                                                                                                                                                                                                                                                                                                                                                                                                                                                                                                                                                                                                                                                                                                                                                                                                                                                                                                                                                                                 selftext  \\\n",
       "0                                                                                                                                                                                                                                                                                                                                                                                                                                                                                                                                                                                                                                                                                                                                                                                                                                                                                                                                                                                                                                                                                                                                                                                                                                                                                                                                                                                                                                                                                                                                                                                                                                                                                                                                                                                                                                                                                                                                                                                                                                                                                                                                                                                                                                                                                                                                                                                                                                                                                                                                                                                                                                                                                                                                                                                                                                                                                                                                                                                                                                                                                                                                                                                                                                                                                                                                                                                                                                                                                                                                                                                                                                                                                                                                                                                                                                                                                                                                                                                                                                                                                                                                                                                                                                                                                                                                                                                                                                                                                                                                                                                                                                                                                                                                                                                                                                                                                                                                                                                                                                                                                                                                                                                                                                                                                                                                                                                                                                                                                                                                                                                                                                                                                                                                                                                                                                                                                                                                                                                       Can someone please send me Manhattan 5LB Edition 2 Practice book?   \n",
       "3                                                                                                                                                                                                                                                                                                                                                                                                                                                                                                                                                                                                                                                                                                                                                                                                                                                                                                                                                                                                                                                                                                                                                                                                                                                                                                                                                                                                                                                                                                                                                                                                                                                                                                                                                                                                                                                                                                                                                                                                                                                                                                                                                                                                                                                                                                                                                                                                                                                                                                                                                                                                                                                                                                                                                                                                                                                                                                                                                                                                                                                                                                                                                                                                                                                                                                                                                                                                                                                                                                                                                                                                                                                                                                                                                                                                                                                                                                                                                                                                                                                                                                                                                                                                                                                                                                                                                                                                                                                                                                                                                                                                                                                                                                                                                                                                                                                                                                                                                                                                                                                                                                                                                                                                                                First time taking it, it went alright I suppose. months of prep\\n5lb Manhattan prep book\\nOfficial GRE guidebooks (two paper test and those two computer-based tests) the AWA, I literally winged it and it somehow flew. I googled \"GRE AWA structure\" and some webpages gave pretty good tips on how to make stuff logically flow. If you're aware of current events and history then there's a good to fair chance that you'll have content on the fly to fill paragraphs with. the quant section, my brain froze on the last two questions so 170 went out the window 😞. Beware of questions dealing with factorials and powers. the verbal section, I made peace with the fact that there will always be some words and passages that do not make sense in my head, even after the jankiest of elimination tactics.   \n",
       "4    Took the GRE yesterday, and the unofficial scores are 170Q and 157V. This subreddit has been very helpful for me, keeping me right on track, and making me switch my decision from the 'At Home GRE' to the 'Test Center based GRE'.  some background, I am from a STEM background from India, so the Quant was not much of an issue, but being a non-native speaker, Verbal was just too hard for me. August, I started researching about what are the requirements for MS applications and came to know about the GRE. Took a diagnostic test, and the projected score was 164Q and 146V. Then in September, I took the GregMat plus and started the one-month plan, but due to internship review periods and online sem exams(DAMN), I could not complete it in a month. So instead I took some extra days but due to my final year project that began around October, I still could not complete it fully. I scheduled my GRE for the 28th of October, and just the night before, I was reading Gregmat's list and watched the Critical Reasoning videos(which was indeed very helpful).  only had some revision to do for the Data Analysis portion, so I did that from the Math review, and then I followed GregMat's plan, doing the exercises mentioned in his plan from the OG, Big book, and Quant Reasoning book. Also, some of GregMat's strategies are gold for solving questions faster, like the 'choosing numbers' strategy, instead of going through the traditional Algebra route, which we are very inclined towards. Later, I only did the Advanced Quant part of the Manhattan 5lb. I was constantly getting 170Q in the PP and PPP tests, and also in the Kaplan and Princeton free tests which I gave later, so I was confident about that part. My advice is, if you are from an Engineering background in India, you can easily score a 170 in Quant. My most feared and dreaded section. I was not very strong in English ever and was only scoring 145-148 (quite consistently XD) in all of my practice tests before starting GregMat. Within one week of starting though, when I took PP1, my score shot up to 151! My first 150! rigorously went through all of his SC and TE videos, solving exercises from the OG, Big Book, and Verbal Reasoning book. I did not follow any third-party test prep, only the official ETS material as suggested by Greg. Towards the end, I went through the Reading videos just 3 days before my test. For vocab, I followed Greg's list and managed to get up to like Group 15 I think (450 words), and that was it. After that, when I gave PP1 again, I got a 160 in Verbal, though I admit I remembered some of the questions. Then I gave PP2 and PPP3 and got 159 and 158 respectively, and I could not believe it myself!   \\nSo all I did was follow GregMat and in a month, my score shot up from a 146 to a 158! Test Scores:  \\nPP1(Attempt 1): 169Q, 151V Free Test: 170Q, 154V 2): 170Q, 160V 170Q, 159V Review Test 3: 170Q, 155V 169Q, 158V (Very Close to my actual score) Day: a small story before we get into the test. I was assigned a computer with system number 13, and I do not particularly like that number, but once I reached the system, the administrator said that this system was not working, so they shifted me to system number 24. Kobe! I was elated! I took a moment to remember the Mamba mentality and then started my test.\\n\\n  \\nThe two essays were fine, I had watched Greg's videos and followed his structure, and was able to organize and complete them well within the timeframe. Then, got a QVQVQ.  first Quant section was pretty straightforward and did not cause any trouble. Between the second and third sections, I could not figure out which one was the experimental section, as both had some tricky questions. One question particularly took me like 5-6 minutes to find the answer as I could not figure out any shortcuts to the question. Apart from that, I was making sure to double-check every comparison question as I used to commit silly mistakes in those questions during my practice. Before submitting I just hoped that I had not made any silly mistakes, and seeing 170 made me quite happy! the verbal sections, both the first and second sections worried me. The passages were a bit confusing and had I not seen the Critical Reasoning videos from Greg the night before, I might not have been able to figure out the statement that most strengthens the author's argument XD. I finished the first section with only 3 seconds left on the timer, but the second section was okayish and I had some time left over to review some questions. In both sections, the SE questions were simple and did not have any hard vocab words, and I was easily using the pairing strategy for each of them. As per the TC questions, the two blankers and three blankers were a bit challenging. Overall, as I was submitting, I expected to see a score of about 150-153, but 157 surprised me! was a moment at the test center when everyone's test disconnected due to some server issue, but the administrators were prompt at resolving the issue and helping the students get back to the test at the earliest.  the test was over, the score surprised me very much, especially the Verbal. I proceeded towards selecting the score recipients and spent about 15 minutes there because I only had remembered the University name because, in TOEFL, I was able to find the universities with their names only. Here, I had to search through each state carefully to find my choice of university, and I could not even find two of those to which I intended to send my scores.   \\nI thank u/gregmat! GregMat plus is literally the best platform for GRE! The techniques that he teaches us, as well as the rigorous practice with his detailed solutions, help you immensely! I am currently watching his TOEFL videos for my TOEFL tomorrow XD. you for reading about my experience!   \n",
       "6                                                                                                                                                                                                                                                                                                                                                                                                                                                                                                                                                                                                                                                                                                                                                                                                                                                                                                                                                                                                                                                                                                                                                                                                                                                                                                                                                                                                                                                                                                                                                                                                                                                                                                                                                                                                                                                                                                                                                                                                                                                                                                                                                                                                                                                                                                                                                                                                                                                                                                                                                                                                                                                                                                                                                                                                                                                                                                                                                                                                                                                                                                                                                                                                                                                                                                                                                                                                                                                                                                                                                                                                                                                                                                                                                                                                                                                                                                                                                                                                                                                                                                                                                                                                                                                                                                                                                                                                                                                                                                                                                                                                                                                                                                                             Took the test last Friday (22-Oct) and got an unofficial score of 159 for quant. It was QVQVQ. During my prep, I watched a decent amount of material on the math fundamentals required. Had a solid grasp on everything (kinda doubting myself now) and could solve just about any problem that I came across. I didn't really care much about timing (big mistake) cuz I managed to finish all my practice tests well within the stipulated time. I took the 2 PP tests, and about 4 other quant tests, from the OG book, Manhattan, etc. I averaged 169 over all these tests, with 168 for PP1 and 170 for PP2. I have no clue what happened during the test, Q1 was fine. P sure I scored ok. Q2 and especially Q3 were brutal. Didn't have time for about 8 questions in Q3. I just couldn't see the shortcuts. Been thinking about them at home and figured them all out, ofc, but it's the pressure and the time constraints ig. Verbal was pretty accurate PP1 was 157, PP2 was 164, unofficial GRE Verbal was also 164. That quant tho. I wanna take it again asap. I need 138+ and I'm just broken mentally rn, super worried that it'll be the same pitfalls again. If anyone has any tips, I'll be super grateful. Thanks and best of luck to everyone. Hope no one else has to deal with this sorta experience.   \n",
       "7                                                                                                                                                                                                                                                                                                                                                                                                                                                                                                                                                                                                                                                                                                                                                                                                                                                                                                                                                                                                                                                                                                                                                                                                                                                                                                                                                                                                                                                                                                                                                                                                                                                                                                                                                                                                                                                                                                                                                                                                                                                                                                                                                                                                                                                                                                                                                                                                                                                                                                                                                                                                                                                                                                                                                                                                                                                                                                                                                                                                                                                                                                                                                                                                                                                                                                                                                                                                                                                                                                                                                                                                                                                                                                                                                                                                                                                                                                                                                                                                                                                                                                                                                                                                                                                                                                                                                                                                                                                                                                                                                                                                                                                                                                                                                                                                                                                                                                                                   I've been studying for two and a half months, casually through Aug-Sept and pretty rigorously (like 2-3 hours per day of combo of GregMat, Manhattan 5lb, Powerprep package, and flashcards) this past month.  my first practice test just over a month ago, I scored a V163/Q155 with the second sessions both being medium, which was honestly higher than expected. Just now I took the second practice test and scored a V159/Q149, which was way worse than expected. The second verbal was the hard version and second quant was the medium version.  just feeling really discouraged because I take the real test tomorrow and am now concerned I won't perform as well. Now, granted, I realized midway through the practice exam that I hadn't eaten in \\~5 hours and that my Adderall XR (for ADHD) was wearing off. Luckily tomorrow I will be taking the test at 11am and will hopefully be in peak performance mode, but I don't want to get my hopes too high.  have experience doing worse on the second practice test? What did your test scores end up being? What should I expect/do at this point?   \n",
       "..                                                                                                                                                                                                                                                                                                                                                                                                                                                                                                                                                                                                                                                                                                                                                                                                                                                                                                                                                                                                                                                                                                                                                                                                                                                                                                                                                                                                                                                                                                                                                                                                                                                                                                                                                                                                                                                                                                                                                                                                                                                                                                                                                                                                                                                                                                                                                                                                                                                                                                                                                                                                                                                                                                                                                                                                                                                                                                                                                                                                                                                                                                                                                                                                                                                                                                                                                                                                                                                                                                                                                                                                                                                                                                                                                                                                                                                                                                                                                                                                                                                                                                                                                                                                                                                                                                                                                                                                                                                                                                                                                                                                                                                                                                                                                                                                                                                                                                                                                                                                                                                                                                                                                                                                                                                                                                                                                                                                                                                                                                                                                                                                                                                                                                                                                                                                                                                                                                                                                                                                                                                    ...   \n",
       "703                                                                                                                                                                                                                                                                                                                                                                                                                                                                                                                                                                                                                                                                                                                                                                                                                                                                                                                                                                                                                                                                                                                                                                                                                                                                                                                                                                                                                                                                                                                                                                                                                                                                                                                                                                                                                                                                                                                                                                                                                                                                                                                                                                                                                                                                                                                                                                                                                                                                                                                                                                                                                                                                                                                                                                                                                                                                                                                                                                                                                                                                                                                                                                                                                                                                                                                                                                                                                                                                                                                                          I gave my GRE test on 3rd Oct at a nearby testing centre. A major reason behind choosing a test centre rather than home based test was the unreliable internet connectivity at my place. The centre was well maintained. There were not many students at the time of the test, hence there were not many distractions. The invigilators were cooperative.  my prep:  did most of the prep in a 1.5-2 month period just before the test. I had a Magoosh 6 month subscription which I had purchased about 1.5 years before the exam. I had kept it frozen for most of the time. Although, Magoosh team extended my subscription for free when I mentioned my concerns.  solved all the practice questions in the Magoosh prep (about 1200 good quality questions). For vocabulary I used their flashcard app and learnt about 450 words from it. Other than Magoosh, I used Manhattan 5Lb book to practice weak topics in Maths and used the Offical GRE guide for making myself comfortable with actual test questions.  writing, I kept a Word file in which I used to collect all my practice essays. I always practiced them in a timed manner. I chose essay questions from different topics, ranging from education and technology to arts and government. In the end, I distributed the collected essays in separate files and emailed them to my friends who were already done with their GRE test. They graded my essays critically and even mentioned some common mistakes that I make.  the actual test, I gave 8 full length tests from different sources including Magoosh, Manhattan Prep, Kaplan and Princeton Review. I kept an excel sheet in which I noted all the practice test scores with remarks. The average score of all the practice tests was about 320 with 165+ in Q and about 155 in V. The highest score was in PP2 which was 326. I had expected a score about 320 on the actual test, but to my surprise I score better than that.  imp things to keep in mind:  sequence in which you get your sections affects your performance and mental state. For example, if a person finds Verbal difficult, then a VVQQV or VQVQV sequence would be tiring and demotivating. So make sure that you practice enough number of tests to encounter all sorts of section sequences and improve your endurance.  Review offers essay grading, so use that free test wisely after substantial practice of AWA section.  hope this helps anyone who is taking the GRE in the upcoming days.   \n",
       "704                                                                                                                                                                                                                                                                                                                                                                                                                                                                                                                                                                                                                                                                                                                                                                                                                                                                                                                                                                                                                                                                                                                                                                                                                                                                                                                                                                                                                                                                                                                                                                                                                                                                                                                                                                                                                                                                                                                                                                                                                                                                                                                                                                                                                                                                                                                                                                                                                                                                                                                                                                                                                                                                                                                                                                                                                                                                                                                                                                                                                                                                                                                                                                                                                                                                                                                                                                                                                                                                                                                                                                                                                                                                                                                                                                                                                                                                                                                                                                                                                                                                                                                                                                                                                                                                                                                                                                                                                                                                                                                                                                                                                                                                                                                                                                                                                                                                                                                                                                                                                                                                                                                                                                                                                                                                                                                                                                                                                                                                                                                                                                                                                                                                            Hi Everyone!  \\nTo the people who have taken the manhattan 6 practice tests, is it worth it?   \\nI am inclined towards buying the Powerprep plus but for $10 more I can get 6 more tests with manhattan. I know quality over quantity, but for me taking a lot of mock tests has helped a lot in the past. If anyone can shed some light on this, it'll be really helpful.   \n",
       "705                                                                                                                                                                                                                                                                                                                                                                                                                                                                                                                                                                                                                                                                                                                                                                                                                                                                                                                                                                                                                                                                                                                                                                                                                                                                                                                                                                                                                                                                                                                                                                                                                                                                                                                                                                                                                                                                                                                                                                                                                                                                                                                                                                                                                                                                                                                                                                                                                                                                                                                                                                                                                                                                                                                                                                                                                                                                                                                                                                                                                                                                                                                                                                                                                                                                                                                                                                                                                                                                                                                                                                                                                                                                                                                                                                                                                                                                                                                                                                                                                                                                                                                                                                                                                                                                                                                                                                    Hi everyone! got my official scores. I am terrible at standardized tests and I only had a month/month-and-a-half to study for the GRE. I was working full-time and studied for a couple of hours every evening (I missed several days in between). I am incredibly happy with my score. Oddly, my actual score is better than the scores I got on my practice exams! A day before the test I took PPP2 and scored 157V 161Q 4.5AW. EXPERIENCE: I dive into my GRE prep, I wanted to briefly discuss my testing experience. I took the test at a testing center. The proctors followed the CDC guidelines, the test-takers sat 6 feet apart, and we were required to wear masks throughout the exam. I glad I took the GRE at a testing center because I need to be in a 'testing environment' to take an exam and because my center did a great job at making us feel safe.  PREP: haven't studied Math in 6/7 years (last time I studied Math was in early high school) and I was never particularly good at it. I revised all concepts from Magoosh and practiced from the Manhattan 5 lb book. I would say I finished nearly 10% of the 5lb book but definitely not more than that. I attempted the last 5 to 10 questions of almost every section but didn't even look at the Advanced Quant section.  isn't ideal for the programs I am applying to. However, it meets the average of all my programs so I am satisfied. I used Gregmats videos for essay-writing and Verbal. I also memorized about 200-300 words from Magoosh/Repeat Offenders Vocabulary. Used ETS material to practice my RC skills.  not a perfect score but still very proud of it! Good luck everyone!   \n",
       "706                                                                                                                                                                                                                                                                                                                                                                                                                                                                                                                                                                                                                                                                                                                                                                                                                                                                                                                                                                                                                                                                                                                                                                                                                                                                                                                                                                                                                                                                                                                                                                                                                                                                                                                                                                                                                                                                                                                                                                                                           Hey guys, I took the GREs last week and I just got my score back: 165V/169Q/5AW. benefited a lot from lurking around here and thought I'd share my own study experience and strategies, which was a lot more relaxed than a lot of others' on this sub but, in my opinion, way more effective. total, I spent 40 hours preparing for the GRE, leisurely spread out over a span of 2 months. I think this was a perfect amount of time, considering how I was also balancing school and part-time jobs. I imagine there are others in my position too where it's just unfeasible to spend 4 hours a day for 2 months grinding for the GRE. A lot of the advice I came across was basically that you have to spend a lot of time practicing or else you're screwed! It's true that you can game the GRE if you practice enough, but it's also inefficient and not realistic to spend that much time and effort on it.  was my study schedule: [ broke up my preparation into 3 phases: familiarization, practice, and review. I also used Notion and Toggl to track my study time and record my study sessions. I spent the bare minimum on test prep (basically only paid for the GRE test) -- you can find most GRE prep books (ETS, Manhattan, Kaplan) on libgen, and tools like Quizlet are free.  In this stage, I focused on getting a sense of the GRE and the content tested. This was to prepare me for a diagnostic test so that I could identify the gaps in my knowledge and spend the next stage building up those weak areas.  I read through the ETS math review and watched a couple of Khan Academy videos on quant topics that I wasn't certain about.\\n* I browsed through the entire list of issue and argument topics, and watched Gregmat's videos about how to formulate responses. I also looked at other people's sample responses online (just from Googling, obviously not all were good) and would think about how I'd improve on their response.\\n* I also created this [prompt generator]( on Google Sheets and would use that to give myself writing prompts to brainstorm.\\n* I started doing Magoosh vocab flashcards, but eventually switched to creating my own set on Quizlet.  I started by doing one of the ETS paper tests as a diagnostic to identify where I would have to spend more time improving.  I worked through the ETS quant practices and recorded every single mistake I made along with an explanation of what I did wrong and what the right answer was in a Google Doc. This was really helpful in identifying my weak topics and that I often made careless mistakes by reading the questions too quickly.\\n* I wrote a couple of essays before I figured out what really worked for me. I also did some practice brainstorming sessions: get a prompt and write down an outline in 5-10 minutes. \\n* I did the verbal practice questions in the ETS book and would add every single word I didn't know to my Quizlet flashcards set. \\n* I'd also add words I came across in daily life (e.g. reading the news) to my Quizlet set. \\n* After reviewing my mistake list, I did practices in the respective topics in the Manhattan 5lb book. \\n* I did official tests once a week, and did all 4 free tests. I found it important to take these tests as if you would in exam conditions: no breaks between, and for an extra level of difficulty, at the end of a long day.  I looked through my quant mistakes sheet and went through my flashcard set, and reviewed my writing responses. For the tests, I would make sure I understood why I made the mistakes I did and would make a mental note of those things before I began each new test.  this was my score progression:\\n\\n conclusion, I think there's definitely such a thing as being over-prepared for the GRE and burning yourself out. If you're working on grad school applications at the same time, you know how soul sucking the process is too, and adding GRE stress to it is really not worth it. Good luck!   \n",
       "709                                                                                                                                                                                                                                                                                                                                                                                                                                                                                                                                                                                                                                                                                                                                                                                                                                                                                                                                                                                                                                                                                                                                                                                                                                                                                                                                                                                                                                                                                                                                                                                                                                                                                                                                                                                                                                                                                                                                                                                                                                                                                                                                                                                                                                                                                                                                                                                                                                                                                                                                                                                                                                                                                                                                                                                                                                                                                                                                                                                                                                                                                                                                                                                                                                                                                                                                                                                                                                                                                                                                                                                                                                                                                                                                                                                                                                                                                                                                                                                                                                                                                                                               Hi, I'm a non native speaker. I appeared for the general test on 3rd October. The pattern on that day was QVQVQ. The middle section of quant was most probably experimental or research section. But it was really nerve wrecking and time consuming. I guessed on a few questions in that section and questions were really weird as compared to normal quant sections I'd encountered till then. \\nOverall, my testing experience was smooth. Both the PowerPrep practice tests really helped and one of the most things is to analyse your mistakes. Gregmat+ is a godsend, truly. Greg's verbal strategies really helped me in improving my verbal score. I would definitely recommend learning vocabulary by either watching Gregmat's vocab videos on his website or better read newspapers and articles. For the last two months my most visited site would Google's dictionary. I started watching Schitt's Creek after the test but that show has a ton of GRE words. Don't be lethargic to find the meaning of any word you don't know the meaning of and also don't depend on rote learning. That is an inefficient and boring way of learning vocab. \\nFor AWA, I followed Greg's format as it helps streamline things and provides clarity. I would suggest to practice writing few essays as it helps in managing the time. 30 minutes passes a lot faster when you've to write an essay. \\nFor Quant, I solved questions from the Manhattan 5 lb book. But I would like to mention that I wasn't really struggling in quant.  Q166, V157\\nPP2- Q160, V152\\nETS Official guide test-1 Q163, V158\\nPrinceton Review- Q164, V155\\nKaplan- Q167, V150 a big thanks to this subreddit. This score wouldn't be possible without the numerous testing experiences I've read here. It really helped me focus and strategize during preparation. \\nI just hope that I get admitted to a good Canadian university.   \n",
       "\n",
       "     subreddit  \n",
       "0            1  \n",
       "3            1  \n",
       "4            1  \n",
       "6            1  \n",
       "7            1  \n",
       "..         ...  \n",
       "703          1  \n",
       "704          1  \n",
       "705          1  \n",
       "706          1  \n",
       "709          1  \n",
       "\n",
       "[504 rows x 6 columns]"
      ]
     },
     "execution_count": 121,
     "metadata": {},
     "output_type": "execute_result"
    }
   ],
   "source": [
    "#displaying 504 entries in r/GRE where sentiments associated with Manhattan Prep were positive\n",
    "manhattan_sent[(manhattan_sent[\"compound\"] >= 0.05) & (manhattan_sent['subreddit']==1)]"
   ]
  },
  {
   "cell_type": "code",
   "execution_count": 122,
   "id": "3242717f",
   "metadata": {},
   "outputs": [
    {
     "data": {
      "text/html": [
       "<div>\n",
       "<style scoped>\n",
       "    .dataframe tbody tr th:only-of-type {\n",
       "        vertical-align: middle;\n",
       "    }\n",
       "\n",
       "    .dataframe tbody tr th {\n",
       "        vertical-align: top;\n",
       "    }\n",
       "\n",
       "    .dataframe thead th {\n",
       "        text-align: right;\n",
       "    }\n",
       "</style>\n",
       "<table border=\"1\" class=\"dataframe\">\n",
       "  <thead>\n",
       "    <tr style=\"text-align: right;\">\n",
       "      <th></th>\n",
       "      <th>neg</th>\n",
       "      <th>neu</th>\n",
       "      <th>pos</th>\n",
       "      <th>compound</th>\n",
       "      <th>selftext</th>\n",
       "      <th>subreddit</th>\n",
       "    </tr>\n",
       "  </thead>\n",
       "  <tbody>\n",
       "    <tr>\n",
       "      <th>711</th>\n",
       "      <td>0.139</td>\n",
       "      <td>0.782</td>\n",
       "      <td>0.078</td>\n",
       "      <td>-0.4933</td>\n",
       "      <td>I have purchased manhattan gmat 7th edition books and want some video lectures to learn from it. I'm confused between manhattan and TTP. I'm very weak at quants but i have heard TTP course is very long and has some incessantly problems. Please suggest which one should i prefer.</td>\n",
       "      <td>0</td>\n",
       "    </tr>\n",
       "    <tr>\n",
       "      <th>717</th>\n",
       "      <td>0.093</td>\n",
       "      <td>0.826</td>\n",
       "      <td>0.081</td>\n",
       "      <td>-0.6939</td>\n",
       "      <td>I took my GMAT yesterday and I was overwhelmingly thrilled to get a 720. I thought I would share my GMAT journey for two reasons: 1-  To give some hope and guidance to those struggling to get their scores up and 2-  To give myself a much earned pat on the shoulder after 3 months of studying.  thing to note is that English is actually my third language after Arabic and French, and I only started learning English when I was 8 years old. As you will see in this post, language is not my strongest asset and that did certainly reflect with a poor starting point on verbal with a V28. My target score was therefore around 660+, and I would have been more than thrilled with a 680.  June: took my first mock test, scored 580 (Q40, V28). Given my poor verbal performance, I decided to purchase Manhattan. I found the Quant and SC sections to be very helpful, especially a few strategies in Quant that really just put you on the Q48+ level.  finishing my Manhattan review, I took a Manhattan CAT in which I scored a 620. Realizing that Manhattan CATs are generally more difficult than the real thing, I didn't let the poor score dishearten me. I went on to practice questions from the official guide, and took my second official exam around mid-July. Scoring 640 (Q48, V30) on my second official practice test was such a disappointment that I actually needed a break from studying to reassess my  strategies. I took a month break and restarted studying around mid-August. In the past few months, I did the following: I reset my Official Guide questions and repeated the questions again. I reviewed my summary sheet from Manhattan prep. I kept an error log on all the idioms, formulas and strategies that I had missed the first time.  I reset the official guide and took the Medium and Hard questions AGAIN. I took all the free practice tests online ( Veritas, Princeton, Kaplan ) and the remaining 5 MGMAT practice tests within 2-3 weeks. This really helped practice my pace, my SC pace got much better and I was able to spend more time on CR and RC questions. I was scoring in the 650 to 670 range on these exams.  On my last week, I reviewed my error log and summary again. Took the exam on the weekend and scored my highest ever scores in both sections (Q49,V38). takeaways:  Practice practice practice. That was a real game changer for me. Don't be discouraged by a few low scores. It's just part of the process. Repeat questions you didn't get right the first time after a while. I found that in many instances I would do the same mistake again, although I had read and understood the solutions before. Finally, don't ignore IR and AWA for too long. Despite having exceeded my personal target and expectations on verbal quant, I was still disappointed with a very low IR score.  During the exam, I focused a lot on the first 10 questions in Verbal to make sure I got them right.  This sub has a lot of amazing people who have encouraged me throughout the way. Use it! I always came here after a disappointing score.  you all and good luck on your journey!</td>\n",
       "      <td>0</td>\n",
       "    </tr>\n",
       "    <tr>\n",
       "      <th>719</th>\n",
       "      <td>0.139</td>\n",
       "      <td>0.768</td>\n",
       "      <td>0.093</td>\n",
       "      <td>-0.7050</td>\n",
       "      <td>Took my 3rd Gmat today… first two tests were very “raw” at 590 (Q44 V28), and 610 (Q42 V33)… during those months of studying I had official GMAT mock exams in high 670-690 so already frustrated there with such a drop off in performance. The last 2 months I’ve had manhattan prep tutor who has helped a lot. I’ve had similar mock exams scores but felt my consistency much higher (higher floor). Felt I had done all the right preparation, but unfortunately came away with a 650 (Q48 V31). 650 isn’t terrible, an improvement from previous official exams, but I am competitive and want to push into those 700s. Tough pill to swallow with all the prep and having multiple mock exams higher. The Quant has always been more comfortable for me, verbal is tough with focus/ADHD trying to keep the pace high while being careful to read sentences/questions properly. I understand any errors when I take time to review, but hard in the pace of the test. Tips, encouragement? … I will take it all</td>\n",
       "      <td>0</td>\n",
       "    </tr>\n",
       "    <tr>\n",
       "      <th>720</th>\n",
       "      <td>0.099</td>\n",
       "      <td>0.819</td>\n",
       "      <td>0.082</td>\n",
       "      <td>-0.8916</td>\n",
       "      <td>Hey everyone,  \\n -  Male, Graduated in a healthcare field ( Medicine, Dental, Nursing etc ) 3 years ago. I joined my family business right after graduating because I figured that my degree will not help me achieve the financial success that I want and also that it wasn't something that I was interested in.  I always wanted to an MBA but after much research, I concluded that I need some business experience before I  pursue an MBA.  \\nA few months ago I decided that it is time to pursue an MBA and gain the neccessary skills and move into the corporate world. have not studied mathematics since after the 10th grade, although I did study physics in 10th and 12th grade. I was excellent in physics and mathematics, although I can't say how good I would be in Mathematics that is taught beyond the 10th grade. I am mentioning this because the time I took in completing TTP might be lesser than normally required, so take that time with a grain of salt.\\n\\n  \\nI started my GMAT prep in the last week of July. I initially started with Manhattan math fundamentals book, read the first 100 pages or so, but still felt lost on how to cover everything. Researching on googe, GMATClub and reddit led me to TTP ( Mostly Reddit ). I was hesistant at first because at times it feels like a shill army is promoting TTP but 1$ trial was there, so I figured WTH. I will only lose 1$. I bought the trial ( 5 days ), found that the course was nicely structured, covered almost everything ( no RC yet ) and was so vast that it there was nothing to be missed ( Acc. to all the good AND bad reviews ).  \\n bought the 1 month package on 2nd August. The next 15 days were not optimal. Because of a family reunion of sorts, I couldn't study more than an hour per day on average. Then from 17th I started preparing seriously. I spent around 228 hours on TTP and around 50 hours or so on OG. I stopped tracking 10 days ago but that estimate is pretty close.  \\nI finished OG and OG quant Review. I did not get time to do OG Verbal Review. \\n\\n  \\nTTP analytics - I was almost always above their recommended accuracy percentages, in a few chapter the accuracy did dip below the accuracy levels recommended. Overall accuracy - Quant - 88%, Verbal - 84%.  \\n accuracy - Quant - 95%, Verbal \\~85%.  \\n Tests -  1 - 15.2.21 - 660. 2 - 5.10.21 - 700 ( Screwed up because I was sleep and energy deprived. )\\n\\n 3 - 9.10.21 - 730 (Q-49, V-40, IR-8) 4 - 12.10.21 - 760 (Q-51, V-41, IR-4)(Could not wrap my head around a few IR questions)  \\n GMAT - 750 (Q-49, V-42, IR-8)( Messed up quant a bit because the scratch pad had 2-3 fewer pages, screwed my timing). might give GMAT in the future if this score is not enough for my application.  \\n GMAT subreddit and GMATClub were critically essential to my prep. Thank you guys.</td>\n",
       "      <td>0</td>\n",
       "    </tr>\n",
       "    <tr>\n",
       "      <th>722</th>\n",
       "      <td>0.149</td>\n",
       "      <td>0.851</td>\n",
       "      <td>0.000</td>\n",
       "      <td>-0.4199</td>\n",
       "      <td>Hi everyone, you have recommendations for a full length practice test? I have exhausted Manhattan and GMAT PREP. you!</td>\n",
       "      <td>0</td>\n",
       "    </tr>\n",
       "    <tr>\n",
       "      <th>...</th>\n",
       "      <td>...</td>\n",
       "      <td>...</td>\n",
       "      <td>...</td>\n",
       "      <td>...</td>\n",
       "      <td>...</td>\n",
       "      <td>...</td>\n",
       "    </tr>\n",
       "    <tr>\n",
       "      <th>1274</th>\n",
       "      <td>0.113</td>\n",
       "      <td>0.835</td>\n",
       "      <td>0.052</td>\n",
       "      <td>-0.9529</td>\n",
       "      <td>everyone,  just did first GMAT practice test 1. And I analyzed the entire experience.  I was extremely nervous. I couldn’t read the questions, for majority of the questions, I didn’t even read them before I chose an answer. Some of the questions I read 3 times and didn’t even know what the questions ask about because I couldn’t focus and nothing get into my head. ( right, can’t believe I could be that nervous!!). I feel my biggest enemy is test anxiety, like when the test started and I saw the clock is ticking, i was blind. I started verbal first, The first question is RC, so I tried to write down the summary, main idea etc on scratch paper like what I did when I do practice questions. BUT it took so long to complete the first RC passage. After the first passage, I was already behind on time. That made me even more anxious. For the first few SC, I also tried to write down the reasons when I eliminated answer options. Again it took too long to answer one question. For the last long RC passage I didn’t even read the passage, just guess the answers. I feel this strategy is very distracted during test! But This strategy is helpful when doing practice question under no pressure to learn the content. I did a manhattan CAT before and I didn’t use this strategy (like write down summaries on scratch paper), I feel I could focus better on the questions. I was still very and unbelievable nervous. Sweating, couldn’t focus, couldn’t read the questions, rushing to finish. When I redo the questions I got wrong under no pressure after the CAT test, I got most of them correct.  use the same strategy ( write down on your scratch paper) during tests?  can share how to deal with test anxiety?  you so much!!</td>\n",
       "      <td>0</td>\n",
       "    </tr>\n",
       "    <tr>\n",
       "      <th>1277</th>\n",
       "      <td>0.045</td>\n",
       "      <td>0.923</td>\n",
       "      <td>0.032</td>\n",
       "      <td>-0.1568</td>\n",
       "      <td>I completed a Manhattan Guide prep course two weeks ago and plan on taking my first official gmat in 6 weeks. My current quant score based on the Manhattan practice tests is a Q40 and my goal score is 45 or above. I know Target Test Prep does not recommend doing the accelerated version unless you have a 45 or above, but due to me taking the exam in 6 weeks, I am considering doing the program in that accelerated format. Has anyone done the accelerated version with a starting quant score below a 45? Would I be better off not doing target test prep at all for now and focus on official guide problems and come back to target test prep after the first exam?</td>\n",
       "      <td>0</td>\n",
       "    </tr>\n",
       "    <tr>\n",
       "      <th>1279</th>\n",
       "      <td>0.076</td>\n",
       "      <td>0.854</td>\n",
       "      <td>0.070</td>\n",
       "      <td>-0.6202</td>\n",
       "      <td>Hi Guys,  need some help / giuedance / perspective on GMAT preparation.  context :  gave gmatprep mock 1 in Jan just to check my base level before starting prep, I scored a 640. \\nMy target is 750+\\nSince than I believe I have put in a very decent amount of effort in my prep.  I have paid Mocks of Varitas, Man. Prep, Expert Global and Gmatprep  the last two weeks I have given free and paid mocks of various companies to establish a base line.\\n\\n My scores are -  Global \\n1 : 730 (Q50, V38) \\n2: 700 (Q49,V36) \\n3. 720 (Q48, V41)  \\n1. 690 (49,35) \\n2. 680 (48,35)  Prep \\n1. 720 (Q48, V40)  \\n1. 700 (Q49, V37) \\n\\n -  : I can easily score 50 in quant, I constantly make 3-4 silly errors on questions that I can solve orally during practise or review. After repeated tries I am unable to translate my practise/review form in performance during exam.   : The difference Maker - need this to be 42+ to achieve target score.  It will be safe to say that as of now I am an avg 36-38 guy.  is the only area where I am confident. \\nRC it is either a hot or a miss, if I am not rushing through the section under time constraints them I can achieve 70%+ accuracy. \\nSC - WEAKEST AREA - Over the last three months of prep I have spent easily the most time on it.  But in mocks under time constraints again I am unable to perform at my practice levels. I feel as if there are so many concepts to check and so little time to execute.  tell me how to perform and apply all my knowledge under immense time constraint.  is absolutely infuriating that most of my mistakes in quant and almost 50% in verbal are due to that ticking clock. \\n am planning to appear for GMAT in the 2nd week of May. \\n what is the relatives difficulty level of GMAT Verbal compared to Veritas , expert Global and Manhattan Prep ?\\n help will be extremely appreciated. \\nAlso, of anyone need any material, share your email id.  I have collected loads of it.</td>\n",
       "      <td>0</td>\n",
       "    </tr>\n",
       "    <tr>\n",
       "      <th>1286</th>\n",
       "      <td>0.140</td>\n",
       "      <td>0.842</td>\n",
       "      <td>0.017</td>\n",
       "      <td>-0.8926</td>\n",
       "      <td>I have the following practice test scores, and I’m confused as to why I haven’t seen ANY movement on my Manhattan Prep tests despite months of studying. Any advice?  580 - Manhattan Prep\\nFebruary: 620 - Manhattan Prep\\nFebruary: 620 - Manhattan Prep\\nMarch: 610 - Kaplan \\nMarch: 720 - Official GMAT Practice test\\nToday: 620 - Manhattan Prep am trying to carefully log all my errors and review why I’m getting questions wrong. I don’t know what else to do at this point. I’m so frustrated.</td>\n",
       "      <td>0</td>\n",
       "    </tr>\n",
       "    <tr>\n",
       "      <th>1287</th>\n",
       "      <td>0.084</td>\n",
       "      <td>0.895</td>\n",
       "      <td>0.021</td>\n",
       "      <td>-0.6597</td>\n",
       "      <td>I finished all the Manhattan Quant books and I am currently going topic by topic through GMATclub OG questions. My plan is to basically solve all of them (well, except 600-sub questions). I am keeping an error log there and later on, I plan to get back to the wrong questions again. My accuracy is 70% in PS and 80% in DS. target score is 720. I was wondering if I should also use some other sources or if working hard on OG questions would be enough.</td>\n",
       "      <td>0</td>\n",
       "    </tr>\n",
       "  </tbody>\n",
       "</table>\n",
       "<p>139 rows × 6 columns</p>\n",
       "</div>"
      ],
      "text/plain": [
       "        neg    neu    pos  compound  \\\n",
       "711   0.139  0.782  0.078   -0.4933   \n",
       "717   0.093  0.826  0.081   -0.6939   \n",
       "719   0.139  0.768  0.093   -0.7050   \n",
       "720   0.099  0.819  0.082   -0.8916   \n",
       "722   0.149  0.851  0.000   -0.4199   \n",
       "...     ...    ...    ...       ...   \n",
       "1274  0.113  0.835  0.052   -0.9529   \n",
       "1277  0.045  0.923  0.032   -0.1568   \n",
       "1279  0.076  0.854  0.070   -0.6202   \n",
       "1286  0.140  0.842  0.017   -0.8926   \n",
       "1287  0.084  0.895  0.021   -0.6597   \n",
       "\n",
       "                                                                                                                                                                                                                                                                                                                                                                                                                                                                                                                                                                                                                                                                                                                                                                                                                                                                                                                                                                                                                                                                                                                                                                                                                                                                                                                                                                                                                                                                                                                                                                                                                                                                                                                                                                                                                                                                                                                                                                                                                                                                                                                                                                                                                                                                                                                                                                                                                                                                                                                                                                                                                                                                                                                                                                                                                                                                                                                                                                                                                                                                                                                                                                              selftext  \\\n",
       "711                                                                                                                                                                                                                                                                                                                                                                                                                                                                                                                                                                                                                                                                                                                                                                                                                                                                                                                                                                                                                                                                                                                                                                                                                                                                                                                                                                                                                                                                                                                                                                                                                                                                                                                                                                                                                                                                                                                                                                                                                                                                                                                                                                                                                                                                                                                                                                                                                                                                                                                                                                                                                                                                                                                                                                                                                                                                                             I have purchased manhattan gmat 7th edition books and want some video lectures to learn from it. I'm confused between manhattan and TTP. I'm very weak at quants but i have heard TTP course is very long and has some incessantly problems. Please suggest which one should i prefer.   \n",
       "717   I took my GMAT yesterday and I was overwhelmingly thrilled to get a 720. I thought I would share my GMAT journey for two reasons: 1-  To give some hope and guidance to those struggling to get their scores up and 2-  To give myself a much earned pat on the shoulder after 3 months of studying.  thing to note is that English is actually my third language after Arabic and French, and I only started learning English when I was 8 years old. As you will see in this post, language is not my strongest asset and that did certainly reflect with a poor starting point on verbal with a V28. My target score was therefore around 660+, and I would have been more than thrilled with a 680.  June: took my first mock test, scored 580 (Q40, V28). Given my poor verbal performance, I decided to purchase Manhattan. I found the Quant and SC sections to be very helpful, especially a few strategies in Quant that really just put you on the Q48+ level.  finishing my Manhattan review, I took a Manhattan CAT in which I scored a 620. Realizing that Manhattan CATs are generally more difficult than the real thing, I didn't let the poor score dishearten me. I went on to practice questions from the official guide, and took my second official exam around mid-July. Scoring 640 (Q48, V30) on my second official practice test was such a disappointment that I actually needed a break from studying to reassess my  strategies. I took a month break and restarted studying around mid-August. In the past few months, I did the following: I reset my Official Guide questions and repeated the questions again. I reviewed my summary sheet from Manhattan prep. I kept an error log on all the idioms, formulas and strategies that I had missed the first time.  I reset the official guide and took the Medium and Hard questions AGAIN. I took all the free practice tests online ( Veritas, Princeton, Kaplan ) and the remaining 5 MGMAT practice tests within 2-3 weeks. This really helped practice my pace, my SC pace got much better and I was able to spend more time on CR and RC questions. I was scoring in the 650 to 670 range on these exams.  On my last week, I reviewed my error log and summary again. Took the exam on the weekend and scored my highest ever scores in both sections (Q49,V38). takeaways:  Practice practice practice. That was a real game changer for me. Don't be discouraged by a few low scores. It's just part of the process. Repeat questions you didn't get right the first time after a while. I found that in many instances I would do the same mistake again, although I had read and understood the solutions before. Finally, don't ignore IR and AWA for too long. Despite having exceeded my personal target and expectations on verbal quant, I was still disappointed with a very low IR score.  During the exam, I focused a lot on the first 10 questions in Verbal to make sure I got them right.  This sub has a lot of amazing people who have encouraged me throughout the way. Use it! I always came here after a disappointing score.  you all and good luck on your journey!   \n",
       "719                                                                                                                                                                                                                                                                                                                                                                                                                                                                                                                                                                                                                                                                                                                                                                                                                                                                                                                                                                                                                                                                                                                                                                                                                                                                                                                                                                                                                                                                                                                                                                                                                                                                                                                                                                                                                                                                                                                                                                                                                                                                                                                                                            Took my 3rd Gmat today… first two tests were very “raw” at 590 (Q44 V28), and 610 (Q42 V33)… during those months of studying I had official GMAT mock exams in high 670-690 so already frustrated there with such a drop off in performance. The last 2 months I’ve had manhattan prep tutor who has helped a lot. I’ve had similar mock exams scores but felt my consistency much higher (higher floor). Felt I had done all the right preparation, but unfortunately came away with a 650 (Q48 V31). 650 isn’t terrible, an improvement from previous official exams, but I am competitive and want to push into those 700s. Tough pill to swallow with all the prep and having multiple mock exams higher. The Quant has always been more comfortable for me, verbal is tough with focus/ADHD trying to keep the pace high while being careful to read sentences/questions properly. I understand any errors when I take time to review, but hard in the pace of the test. Tips, encouragement? … I will take it all   \n",
       "720                                                                                                                                                                                                                                                                         Hey everyone,  \\n -  Male, Graduated in a healthcare field ( Medicine, Dental, Nursing etc ) 3 years ago. I joined my family business right after graduating because I figured that my degree will not help me achieve the financial success that I want and also that it wasn't something that I was interested in.  I always wanted to an MBA but after much research, I concluded that I need some business experience before I  pursue an MBA.  \\nA few months ago I decided that it is time to pursue an MBA and gain the neccessary skills and move into the corporate world. have not studied mathematics since after the 10th grade, although I did study physics in 10th and 12th grade. I was excellent in physics and mathematics, although I can't say how good I would be in Mathematics that is taught beyond the 10th grade. I am mentioning this because the time I took in completing TTP might be lesser than normally required, so take that time with a grain of salt.\\n\\n  \\nI started my GMAT prep in the last week of July. I initially started with Manhattan math fundamentals book, read the first 100 pages or so, but still felt lost on how to cover everything. Researching on googe, GMATClub and reddit led me to TTP ( Mostly Reddit ). I was hesistant at first because at times it feels like a shill army is promoting TTP but 1$ trial was there, so I figured WTH. I will only lose 1$. I bought the trial ( 5 days ), found that the course was nicely structured, covered almost everything ( no RC yet ) and was so vast that it there was nothing to be missed ( Acc. to all the good AND bad reviews ).  \\n bought the 1 month package on 2nd August. The next 15 days were not optimal. Because of a family reunion of sorts, I couldn't study more than an hour per day on average. Then from 17th I started preparing seriously. I spent around 228 hours on TTP and around 50 hours or so on OG. I stopped tracking 10 days ago but that estimate is pretty close.  \\nI finished OG and OG quant Review. I did not get time to do OG Verbal Review. \\n\\n  \\nTTP analytics - I was almost always above their recommended accuracy percentages, in a few chapter the accuracy did dip below the accuracy levels recommended. Overall accuracy - Quant - 88%, Verbal - 84%.  \\n accuracy - Quant - 95%, Verbal \\~85%.  \\n Tests -  1 - 15.2.21 - 660. 2 - 5.10.21 - 700 ( Screwed up because I was sleep and energy deprived. )\\n\\n 3 - 9.10.21 - 730 (Q-49, V-40, IR-8) 4 - 12.10.21 - 760 (Q-51, V-41, IR-4)(Could not wrap my head around a few IR questions)  \\n GMAT - 750 (Q-49, V-42, IR-8)( Messed up quant a bit because the scratch pad had 2-3 fewer pages, screwed my timing). might give GMAT in the future if this score is not enough for my application.  \\n GMAT subreddit and GMATClub were critically essential to my prep. Thank you guys.   \n",
       "722                                                                                                                                                                                                                                                                                                                                                                                                                                                                                                                                                                                                                                                                                                                                                                                                                                                                                                                                                                                                                                                                                                                                                                                                                                                                                                                                                                                                                                                                                                                                                                                                                                                                                                                                                                                                                                                                                                                                                                                                                                                                                                                                                                                                                                                                                                                                                                                                                                                                                                                                                                                                                                                                                                                                                                                                                                                                                                                                                                                                                                                              Hi everyone, you have recommendations for a full length practice test? I have exhausted Manhattan and GMAT PREP. you!   \n",
       "...                                                                                                                                                                                                                                                                                                                                                                                                                                                                                                                                                                                                                                                                                                                                                                                                                                                                                                                                                                                                                                                                                                                                                                                                                                                                                                                                                                                                                                                                                                                                                                                                                                                                                                                                                                                                                                                                                                                                                                                                                                                                                                                                                                                                                                                                                                                                                                                                                                                                                                                                                                                                                                                                                                                                                                                                                                                                                                                                                                                                                                                                                                                                                                                ...   \n",
       "1274                                                                                                                                                                                                                                                                                                                                                                                                                                                                                                                                                                                                                                                                                                                                                                                                                                                                                                                                                                                                                                                                                                                                                                                                                                                                                                                                                                                              everyone,  just did first GMAT practice test 1. And I analyzed the entire experience.  I was extremely nervous. I couldn’t read the questions, for majority of the questions, I didn’t even read them before I chose an answer. Some of the questions I read 3 times and didn’t even know what the questions ask about because I couldn’t focus and nothing get into my head. ( right, can’t believe I could be that nervous!!). I feel my biggest enemy is test anxiety, like when the test started and I saw the clock is ticking, i was blind. I started verbal first, The first question is RC, so I tried to write down the summary, main idea etc on scratch paper like what I did when I do practice questions. BUT it took so long to complete the first RC passage. After the first passage, I was already behind on time. That made me even more anxious. For the first few SC, I also tried to write down the reasons when I eliminated answer options. Again it took too long to answer one question. For the last long RC passage I didn’t even read the passage, just guess the answers. I feel this strategy is very distracted during test! But This strategy is helpful when doing practice question under no pressure to learn the content. I did a manhattan CAT before and I didn’t use this strategy (like write down summaries on scratch paper), I feel I could focus better on the questions. I was still very and unbelievable nervous. Sweating, couldn’t focus, couldn’t read the questions, rushing to finish. When I redo the questions I got wrong under no pressure after the CAT test, I got most of them correct.  use the same strategy ( write down on your scratch paper) during tests?  can share how to deal with test anxiety?  you so much!!   \n",
       "1277                                                                                                                                                                                                                                                                                                                                                                                                                                                                                                                                                                                                                                                                                                                                                                                                                                                                                                                                                                                                                                                                                                                                                                                                                                                                                                                                                                                                                                                                                                                                                                                                                                                                                                                                                                                                                                                                                                                                                                                                                                                                                                                                                                                                                                                                                                                                                                                                                                                                                               I completed a Manhattan Guide prep course two weeks ago and plan on taking my first official gmat in 6 weeks. My current quant score based on the Manhattan practice tests is a Q40 and my goal score is 45 or above. I know Target Test Prep does not recommend doing the accelerated version unless you have a 45 or above, but due to me taking the exam in 6 weeks, I am considering doing the program in that accelerated format. Has anyone done the accelerated version with a starting quant score below a 45? Would I be better off not doing target test prep at all for now and focus on official guide problems and come back to target test prep after the first exam?   \n",
       "1279                                                                                                                                                                                                                                                                                                                                                                                                                                                                                                                                                                                                                                                                                                                                                                                                                                                                                                                                                                                                                                                                                                                                                                             Hi Guys,  need some help / giuedance / perspective on GMAT preparation.  context :  gave gmatprep mock 1 in Jan just to check my base level before starting prep, I scored a 640. \\nMy target is 750+\\nSince than I believe I have put in a very decent amount of effort in my prep.  I have paid Mocks of Varitas, Man. Prep, Expert Global and Gmatprep  the last two weeks I have given free and paid mocks of various companies to establish a base line.\\n\\n My scores are -  Global \\n1 : 730 (Q50, V38) \\n2: 700 (Q49,V36) \\n3. 720 (Q48, V41)  \\n1. 690 (49,35) \\n2. 680 (48,35)  Prep \\n1. 720 (Q48, V40)  \\n1. 700 (Q49, V37) \\n\\n -  : I can easily score 50 in quant, I constantly make 3-4 silly errors on questions that I can solve orally during practise or review. After repeated tries I am unable to translate my practise/review form in performance during exam.   : The difference Maker - need this to be 42+ to achieve target score.  It will be safe to say that as of now I am an avg 36-38 guy.  is the only area where I am confident. \\nRC it is either a hot or a miss, if I am not rushing through the section under time constraints them I can achieve 70%+ accuracy. \\nSC - WEAKEST AREA - Over the last three months of prep I have spent easily the most time on it.  But in mocks under time constraints again I am unable to perform at my practice levels. I feel as if there are so many concepts to check and so little time to execute.  tell me how to perform and apply all my knowledge under immense time constraint.  is absolutely infuriating that most of my mistakes in quant and almost 50% in verbal are due to that ticking clock. \\n am planning to appear for GMAT in the 2nd week of May. \\n what is the relatives difficulty level of GMAT Verbal compared to Veritas , expert Global and Manhattan Prep ?\\n help will be extremely appreciated. \\nAlso, of anyone need any material, share your email id.  I have collected loads of it.   \n",
       "1286                                                                                                                                                                                                                                                                                                                                                                                                                                                                                                                                                                                                                                                                                                                                                                                                                                                                                                                                                                                                                                                                                                                                                                                                                                                                                                                                                                                                                                                                                                                                                                                                                                                                                                                                                                                                                                                                                                                                                                                                                                                                                                                                                                                                                                                                                                                                                                                                                                                                                                                                                                                                                                                                       I have the following practice test scores, and I’m confused as to why I haven’t seen ANY movement on my Manhattan Prep tests despite months of studying. Any advice?  580 - Manhattan Prep\\nFebruary: 620 - Manhattan Prep\\nFebruary: 620 - Manhattan Prep\\nMarch: 610 - Kaplan \\nMarch: 720 - Official GMAT Practice test\\nToday: 620 - Manhattan Prep am trying to carefully log all my errors and review why I’m getting questions wrong. I don’t know what else to do at this point. I’m so frustrated.   \n",
       "1287                                                                                                                                                                                                                                                                                                                                                                                                                                                                                                                                                                                                                                                                                                                                                                                                                                                                                                                                                                                                                                                                                                                                                                                                                                                                                                                                                                                                                                                                                                                                                                                                                                                                                                                                                                                                                                                                                                                                                                                                                                                                                                                                                                                                                                                                                                                                                                                                                                                                                                                                                                                                                                                                                                               I finished all the Manhattan Quant books and I am currently going topic by topic through GMATclub OG questions. My plan is to basically solve all of them (well, except 600-sub questions). I am keeping an error log there and later on, I plan to get back to the wrong questions again. My accuracy is 70% in PS and 80% in DS. target score is 720. I was wondering if I should also use some other sources or if working hard on OG questions would be enough.   \n",
       "\n",
       "      subreddit  \n",
       "711           0  \n",
       "717           0  \n",
       "719           0  \n",
       "720           0  \n",
       "722           0  \n",
       "...         ...  \n",
       "1274          0  \n",
       "1277          0  \n",
       "1279          0  \n",
       "1286          0  \n",
       "1287          0  \n",
       "\n",
       "[139 rows x 6 columns]"
      ]
     },
     "execution_count": 122,
     "metadata": {},
     "output_type": "execute_result"
    }
   ],
   "source": [
    "#displaying 139 entries in r/GMAT where sentiments associated with Manhattan Prep were negative\n",
    "manhattan_sent[(manhattan_sent[\"compound\"]<= -0.05) & (manhattan_sent['subreddit']==0)]"
   ]
  },
  {
   "cell_type": "code",
   "execution_count": 123,
   "id": "5283ee72",
   "metadata": {},
   "outputs": [
    {
     "data": {
      "text/html": [
       "<div>\n",
       "<style scoped>\n",
       "    .dataframe tbody tr th:only-of-type {\n",
       "        vertical-align: middle;\n",
       "    }\n",
       "\n",
       "    .dataframe tbody tr th {\n",
       "        vertical-align: top;\n",
       "    }\n",
       "\n",
       "    .dataframe thead th {\n",
       "        text-align: right;\n",
       "    }\n",
       "</style>\n",
       "<table border=\"1\" class=\"dataframe\">\n",
       "  <thead>\n",
       "    <tr style=\"text-align: right;\">\n",
       "      <th></th>\n",
       "      <th>neg</th>\n",
       "      <th>neu</th>\n",
       "      <th>pos</th>\n",
       "      <th>compound</th>\n",
       "      <th>selftext</th>\n",
       "      <th>subreddit</th>\n",
       "    </tr>\n",
       "  </thead>\n",
       "  <tbody>\n",
       "    <tr>\n",
       "      <th>710</th>\n",
       "      <td>0.000</td>\n",
       "      <td>0.888</td>\n",
       "      <td>0.112</td>\n",
       "      <td>0.9366</td>\n",
       "      <td>Hi, I've just finished my first Gmat exam and I scored 640 (Q47 V31 IR8).  When I saw the score I was pretty surprised tbh because I felt that the exam was going well.  have been studying for 2 month with an average of 15 hours of study per week. I've studied from Manhattan prep. guides and from official gmat 2020 book.   is the list of all the simulation test I took since I started studying: MGMAT1 670 (Q46 V35 IR8) Official Practice1 770 (Q51 V44 IR8) MGMAT2 640 (Q46 V32 IR6,6) MGMAT3 710 (Q45 V41 IR5,9) MGMAT4 710 (Q47 V40 IR5,9) MGMAT5 670 (Q44 V37 IR4,5) Official Practice2 700 (Q49 V36 IR8) GMAT 640 (Q47 V31 IR8) going to try again on the 17th of November but I need some advice in order to improve my verbal score. Thanks for the help.</td>\n",
       "      <td>0</td>\n",
       "    </tr>\n",
       "    <tr>\n",
       "      <th>712</th>\n",
       "      <td>0.090</td>\n",
       "      <td>0.722</td>\n",
       "      <td>0.188</td>\n",
       "      <td>0.9928</td>\n",
       "      <td>I'm too lazy to scan it and upload a pic, but I got a 760 today. Q50 V42 IR6. This is going to be filled with a bunch of grammatical mistakes cause my brain is fried. I started my GMAT journey around July and have studied pretty much every day since then. I took my first exam official mock in July and scored a 530. I was really discouraged because I wasn't as good at math/reading as I thought I was.  After I got over my sadness, I got to work. I first bought the MGMAT books that came with the 6 CATS and the 2022 official guide. I worked through the MGMAT and took my first practice test(Kaplan free test), which wasn't great: 630. After that, I realized that I was still struggling with some quant topics, so I knew I needed to change something. That's when I found TTP. isn't an ad. I'm not getting paid. I just want to be completely honest and save you guys time and money. TTP is 100% the best GMAT prep. It takes forever to complete. I didn't even finish it before I took my exam. I only completed the quant and sentence correction sections. It is so comprehensive and lengthy; but it is well worth it. I truly believe anyone can get a 700+ if he/she completes TTP and reviews the material regularly. I had several hundred flash cards that I reviewed daily by the time I got to my test date. I took 4 practice exams in total. 530 -&amp;gt; 630 kaplan -&amp;gt; 640 MGMAT 1 -&amp;gt; 740 official practice test #3. Take as many as you can afford on the mba website. It's important to get your timing down. advice is to just stay focused and determined. I have never been amazing at standardized testing or school, but I did really well. I think I got like a 1390/1600 on the SAT in high school and was like top 50% of my class lol. I know it's expensive but TTP is definitely the best resource for GMAT prep. If you are having trouble paying for prep material, shoot me a dm. I have the 2022 GMAT official guide, Manhattan advanced quant (untouched), MGMAT ALL THE GMAT books, and Manhattan strategy books. I'm willing to give these away if you pay for shipping. Happy studying! judge me for grammar :)</td>\n",
       "      <td>0</td>\n",
       "    </tr>\n",
       "    <tr>\n",
       "      <th>713</th>\n",
       "      <td>0.000</td>\n",
       "      <td>0.865</td>\n",
       "      <td>0.135</td>\n",
       "      <td>0.8880</td>\n",
       "      <td>Hi all, I’ve been studying not so consistently for over a year now and just got a 650 on a practice test. I was 94 percentile verbal, 28 quant, so I clearly need to prioritize quant for now. I’m aiming for 700+ and timed out on the Manhattan self study online program, but completed it. Any advice on next steps?? Hone in further on Manhattan or try another course to improve quant? Appreciate any suggestions!</td>\n",
       "      <td>0</td>\n",
       "    </tr>\n",
       "    <tr>\n",
       "      <th>714</th>\n",
       "      <td>0.086</td>\n",
       "      <td>0.764</td>\n",
       "      <td>0.150</td>\n",
       "      <td>0.9557</td>\n",
       "      <td>I think maybe I overestimated my ability to get into an mba program. I can’t believe after 6 months I ended up with a 550(Q35 V27) when my target was 650+ on first attempt and 700 on the next(I think I’ll be greedy to think I can get better than a 700) Used: spent about 4+ months on TTP Quant only and honestly I thought it was great. Scored over 85% on global test and in my 6 official mocks, my lowest Q was 42 and highest was 48 but I ended up with a Q35 on the official?!???   wanted to try TTP verbal but honestly I was exhausted from the quant material. It was just soooooo much. I used gmat ninja on YT and Manhattan free prep hour. I also watched the twitch the gmat verbal. Honestly I don’t think I did the right thing and it was evident because the highest verbal in my mocks was V28 and on the official, I got a V27. For the life of me I can’t seem to understand CR and because I spend so much time on it, I lose valuable RC time. My SC is about 70% accurate but can be better. also used OG 2021 with Wiley. honestly want to make it in time for R2 and I will appreciate if anyone can tell me what to do next.\\nAm I being too optimistic about going to grad school? I think 550 is so poor when I need a 700. completely broken.\\nBackground: 27F, Penn State Undergrad ‘14, Energy engineering, African(international student and currently living in my country)\\nAlso the test was in person and I think I want to take it again in 4-6 weeks.</td>\n",
       "      <td>0</td>\n",
       "    </tr>\n",
       "    <tr>\n",
       "      <th>715</th>\n",
       "      <td>0.062</td>\n",
       "      <td>0.843</td>\n",
       "      <td>0.095</td>\n",
       "      <td>0.6486</td>\n",
       "      <td>E GMAT marketing has been occupying a lot of my screen space ever since I first started looking for these types of courses.  hear a lot of great things about TTP, maybe even too much which makes me suspicious on how there are so many great reviews on this sub for this particular course and most of the people who criticize TTP are downvoted and bullied.  have manhattan material already and looked into getting their classes but they are pretty expensive. \\n so much fluff and mis-information out there I could really use some recommendations.</td>\n",
       "      <td>0</td>\n",
       "    </tr>\n",
       "    <tr>\n",
       "      <th>...</th>\n",
       "      <td>...</td>\n",
       "      <td>...</td>\n",
       "      <td>...</td>\n",
       "      <td>...</td>\n",
       "      <td>...</td>\n",
       "      <td>...</td>\n",
       "    </tr>\n",
       "    <tr>\n",
       "      <th>1281</th>\n",
       "      <td>0.019</td>\n",
       "      <td>0.864</td>\n",
       "      <td>0.117</td>\n",
       "      <td>0.9638</td>\n",
       "      <td>Hi there! I've been preparing for the GMAT with some private tutoring and at-home self-study. I have the Official Guides for 2018-2019 and a Manhattan Prep Sentence Correction Guide (6th ed.) I'm looking for additional guides to further my studies - a lot of discussions keep mentioning the other Manhattan Prep Guides and TTP. have been lucky enough to get my hands on all Manhattan Prep Guides but they're all 4th Ed., for the exception of Advanced Quant which was published in 2015 (so not the most recent one either). Since I'm trying to cost optimize (already spent a fortune on private tutoring and my 4 books), do you think that these are still good to study from or should I somehow get the 6th editions -- or the most recent ones? I'd use the 6th eds without question, but the 2012 publication date kinda puts me off. also looking at TTP - should I use TTP and read MPREP guides too in QC, or that's a bit of an overkill? Might try their 5-day trial, and if it's **that** amazing I might purchase it, but honestly it's a bit pricey for me. :(  so much!</td>\n",
       "      <td>0</td>\n",
       "    </tr>\n",
       "    <tr>\n",
       "      <th>1282</th>\n",
       "      <td>0.061</td>\n",
       "      <td>0.804</td>\n",
       "      <td>0.135</td>\n",
       "      <td>0.9862</td>\n",
       "      <td>Hi everyone! lurking in this subreddit for a bit of time now since deciding to take the GMAT. fall I will be entering medical school, and am hoping to enter the school's joint MD/MBA program (it's a top 3 medical school, whose business school is also top 3). Unlike some MD/MBA programs, this one does not waive a GMAT/GRE score for its dual-degree applicants. From what I've been reading, it looks like I need to score over a 730 to have a chance at getting into the MBA (I'm not sure how much the score matters for MD applicants), but I'm struggling with how to study for the GMAT since it's a very skill heavy exam, whereas I'm very used to content-heavy exams. far I've purchased the OG materials, taken the diagnostic exam, and have worked through about 160 PS programs in the main OG book. took the diagnostic after just reading about the GMAT (no prep) and before brushing up on my math skills, and I definitely need improvement (especially in the DS and IR problems, which were totally new to me). current plan was to just work through the entire OG book, then the additional quant and verbal books, re-learning math and taking notes of tricks I find. I was planning on just working through the sections one by one (PS, then DS, etc...) until I got through all three OG books. After that, I was going to start doing the online prep material (like the online IR question bank) and do a practice exam every week. not sure how great of a study plan this is since most I have seen like to include other material (Magoosh, Manhattan, TTP), and many plans tend to study for the exam sections concurrently (I've also read differing opinions as to whether it is better to study sequentially vs. studying concurrently. matriculate in early August and would like to take the GMAT before then. couple of questions: Is working through the OG material alone sufficient? or is it more common to incorporate additional study materials in your preparation?\\n   * If additional resources are recommended, what course is best? I've seen good thinks about Magoosh and TTP\\n* Given that I may not be able to take the GMAT in person at a testing center due to COVID, will the lack of an AWA score hurt my chances at getting into a top 3 MBA program?\\n* Are there any pre-made study schedules you would recommend? for the long post. I appreciate the help and hope everyone is staying safe throughout this pandemic!</td>\n",
       "      <td>0</td>\n",
       "    </tr>\n",
       "    <tr>\n",
       "      <th>1283</th>\n",
       "      <td>0.000</td>\n",
       "      <td>0.930</td>\n",
       "      <td>0.070</td>\n",
       "      <td>0.7470</td>\n",
       "      <td>Any advice on this? I need significant help in quant, so I'm going to take the next 4 months or so to work through the TTP course. I also have the OG guides and the Manhattan books. How do I incorporate the Manhattan Quant books with the TTP schedule?\\n2. I need less help in verbal, so I was going to work through the Manhattan verbal books over the next 4 months as well, while working on TTP. Does that make sense?\\n3. I planned to do the OG guides at the end (after working through TTP and the Manhattan books). Does that make sense? trying to develop a 4-6 month study plan, with TTP at the core focus, but also want to use the Manhattan books for verbal (and quant, if recommended) and the OG guides. you!</td>\n",
       "      <td>0</td>\n",
       "    </tr>\n",
       "    <tr>\n",
       "      <th>1284</th>\n",
       "      <td>0.048</td>\n",
       "      <td>0.670</td>\n",
       "      <td>0.281</td>\n",
       "      <td>0.9157</td>\n",
       "      <td>I'm going to start studying for the GMAT next week. I've heard Manhattan Prep is the best prep guide but not sure exactly which package/ if there are any other platforms that people recommend more. Any help is appreciated.</td>\n",
       "      <td>0</td>\n",
       "    </tr>\n",
       "    <tr>\n",
       "      <th>1285</th>\n",
       "      <td>0.000</td>\n",
       "      <td>0.840</td>\n",
       "      <td>0.160</td>\n",
       "      <td>0.8875</td>\n",
       "      <td>Hi all - anyone taken the advanced online Manhattan GMAT course? I took their in-person class a few months ago, but I seem to be reaching a plateau in my progress.  mainly wondering if this course has helped folks who have already taken the regular course... also if it helped anyone push through a similar plateau in progress? you in advance. scores: CAT 2/2020 - 650 (Q42/V37)  CAT 3/2020 - 630 (Q41/V35)</td>\n",
       "      <td>0</td>\n",
       "    </tr>\n",
       "  </tbody>\n",
       "</table>\n",
       "<p>410 rows × 6 columns</p>\n",
       "</div>"
      ],
      "text/plain": [
       "        neg    neu    pos  compound  \\\n",
       "710   0.000  0.888  0.112    0.9366   \n",
       "712   0.090  0.722  0.188    0.9928   \n",
       "713   0.000  0.865  0.135    0.8880   \n",
       "714   0.086  0.764  0.150    0.9557   \n",
       "715   0.062  0.843  0.095    0.6486   \n",
       "...     ...    ...    ...       ...   \n",
       "1281  0.019  0.864  0.117    0.9638   \n",
       "1282  0.061  0.804  0.135    0.9862   \n",
       "1283  0.000  0.930  0.070    0.7470   \n",
       "1284  0.048  0.670  0.281    0.9157   \n",
       "1285  0.000  0.840  0.160    0.8875   \n",
       "\n",
       "                                                                                                                                                                                                                                                                                                                                                                                                                                                                                                                                                                                                                                                                                                                                                                                                                                                                                                                                                                                                                                                                                                                                                                                                                                                                                                                                                                                                                                                                                                                                                                                                                                                                                                                                                                                                                                                                                                                                                                                                                                                                                                                                                                                                                                                                                                                                                                                                                                                                                              selftext  \\\n",
       "710                                                                                                                                                                                                                                                                                                                                                                                                                                                                                                                                                                                                                                                                                                                                                                                                                                                                                                                                                                                                                                                                                                                                                                                                                                                                                                                                                                                                                                                                                                                                                                                                                                                                                                                      Hi, I've just finished my first Gmat exam and I scored 640 (Q47 V31 IR8).  When I saw the score I was pretty surprised tbh because I felt that the exam was going well.  have been studying for 2 month with an average of 15 hours of study per week. I've studied from Manhattan prep. guides and from official gmat 2020 book.   is the list of all the simulation test I took since I started studying: MGMAT1 670 (Q46 V35 IR8) Official Practice1 770 (Q51 V44 IR8) MGMAT2 640 (Q46 V32 IR6,6) MGMAT3 710 (Q45 V41 IR5,9) MGMAT4 710 (Q47 V40 IR5,9) MGMAT5 670 (Q44 V37 IR4,5) Official Practice2 700 (Q49 V36 IR8) GMAT 640 (Q47 V31 IR8) going to try again on the 17th of November but I need some advice in order to improve my verbal score. Thanks for the help.   \n",
       "712                                                                                                                                                                                                                                                                                                                I'm too lazy to scan it and upload a pic, but I got a 760 today. Q50 V42 IR6. This is going to be filled with a bunch of grammatical mistakes cause my brain is fried. I started my GMAT journey around July and have studied pretty much every day since then. I took my first exam official mock in July and scored a 530. I was really discouraged because I wasn't as good at math/reading as I thought I was.  After I got over my sadness, I got to work. I first bought the MGMAT books that came with the 6 CATS and the 2022 official guide. I worked through the MGMAT and took my first practice test(Kaplan free test), which wasn't great: 630. After that, I realized that I was still struggling with some quant topics, so I knew I needed to change something. That's when I found TTP. isn't an ad. I'm not getting paid. I just want to be completely honest and save you guys time and money. TTP is 100% the best GMAT prep. It takes forever to complete. I didn't even finish it before I took my exam. I only completed the quant and sentence correction sections. It is so comprehensive and lengthy; but it is well worth it. I truly believe anyone can get a 700+ if he/she completes TTP and reviews the material regularly. I had several hundred flash cards that I reviewed daily by the time I got to my test date. I took 4 practice exams in total. 530 -&gt; 630 kaplan -&gt; 640 MGMAT 1 -&gt; 740 official practice test #3. Take as many as you can afford on the mba website. It's important to get your timing down. advice is to just stay focused and determined. I have never been amazing at standardized testing or school, but I did really well. I think I got like a 1390/1600 on the SAT in high school and was like top 50% of my class lol. I know it's expensive but TTP is definitely the best resource for GMAT prep. If you are having trouble paying for prep material, shoot me a dm. I have the 2022 GMAT official guide, Manhattan advanced quant (untouched), MGMAT ALL THE GMAT books, and Manhattan strategy books. I'm willing to give these away if you pay for shipping. Happy studying! judge me for grammar :)   \n",
       "713                                                                                                                                                                                                                                                                                                                                                                                                                                                                                                                                                                                                                                                                                                                                                                                                                                                                                                                                                                                                                                                                                                                                                                                                                                                                                                                                                                                                                                                                                                                                                                                                                                                                                                                                                                                                                                                                                                                                                                                                                                                                         Hi all, I’ve been studying not so consistently for over a year now and just got a 650 on a practice test. I was 94 percentile verbal, 28 quant, so I clearly need to prioritize quant for now. I’m aiming for 700+ and timed out on the Manhattan self study online program, but completed it. Any advice on next steps?? Hone in further on Manhattan or try another course to improve quant? Appreciate any suggestions!   \n",
       "714                                                                                                                                                                                                                                                                                                                                                                                                                                                                                                                                                                                                                                                                                                                                                                                                                                                                                                                                                                                              I think maybe I overestimated my ability to get into an mba program. I can’t believe after 6 months I ended up with a 550(Q35 V27) when my target was 650+ on first attempt and 700 on the next(I think I’ll be greedy to think I can get better than a 700) Used: spent about 4+ months on TTP Quant only and honestly I thought it was great. Scored over 85% on global test and in my 6 official mocks, my lowest Q was 42 and highest was 48 but I ended up with a Q35 on the official?!???   wanted to try TTP verbal but honestly I was exhausted from the quant material. It was just soooooo much. I used gmat ninja on YT and Manhattan free prep hour. I also watched the twitch the gmat verbal. Honestly I don’t think I did the right thing and it was evident because the highest verbal in my mocks was V28 and on the official, I got a V27. For the life of me I can’t seem to understand CR and because I spend so much time on it, I lose valuable RC time. My SC is about 70% accurate but can be better. also used OG 2021 with Wiley. honestly want to make it in time for R2 and I will appreciate if anyone can tell me what to do next.\\nAm I being too optimistic about going to grad school? I think 550 is so poor when I need a 700. completely broken.\\nBackground: 27F, Penn State Undergrad ‘14, Energy engineering, African(international student and currently living in my country)\\nAlso the test was in person and I think I want to take it again in 4-6 weeks.   \n",
       "715                                                                                                                                                                                                                                                                                                                                                                                                                                                                                                                                                                                                                                                                                                                                                                                                                                                                                                                                                                                                                                                                                                                                                                                                                                                                                                                                                                                                                                                                                                                                                                                                                                                                                                                                                                                                                                                                                                                                   E GMAT marketing has been occupying a lot of my screen space ever since I first started looking for these types of courses.  hear a lot of great things about TTP, maybe even too much which makes me suspicious on how there are so many great reviews on this sub for this particular course and most of the people who criticize TTP are downvoted and bullied.  have manhattan material already and looked into getting their classes but they are pretty expensive. \\n so much fluff and mis-information out there I could really use some recommendations.   \n",
       "...                                                                                                                                                                                                                                                                                                                                                                                                                                                                                                                                                                                                                                                                                                                                                                                                                                                                                                                                                                                                                                                                                                                                                                                                                                                                                                                                                                                                                                                                                                                                                                                                                                                                                                                                                                                                                                                                                                                                                                                                                                                                                                                                                                                                                                                                                                                                                                                                                                                                                                ...   \n",
       "1281                                                                                                                                                                                                                                                                                                                                                                                                                                                                                                                                                                                                                                                                                                                                                                                                                                                                                                                                                                                                                                                                                                                                                                                                                                                                                                                                                                                             Hi there! I've been preparing for the GMAT with some private tutoring and at-home self-study. I have the Official Guides for 2018-2019 and a Manhattan Prep Sentence Correction Guide (6th ed.) I'm looking for additional guides to further my studies - a lot of discussions keep mentioning the other Manhattan Prep Guides and TTP. have been lucky enough to get my hands on all Manhattan Prep Guides but they're all 4th Ed., for the exception of Advanced Quant which was published in 2015 (so not the most recent one either). Since I'm trying to cost optimize (already spent a fortune on private tutoring and my 4 books), do you think that these are still good to study from or should I somehow get the 6th editions -- or the most recent ones? I'd use the 6th eds without question, but the 2012 publication date kinda puts me off. also looking at TTP - should I use TTP and read MPREP guides too in QC, or that's a bit of an overkill? Might try their 5-day trial, and if it's **that** amazing I might purchase it, but honestly it's a bit pricey for me. :(  so much!   \n",
       "1282  Hi everyone! lurking in this subreddit for a bit of time now since deciding to take the GMAT. fall I will be entering medical school, and am hoping to enter the school's joint MD/MBA program (it's a top 3 medical school, whose business school is also top 3). Unlike some MD/MBA programs, this one does not waive a GMAT/GRE score for its dual-degree applicants. From what I've been reading, it looks like I need to score over a 730 to have a chance at getting into the MBA (I'm not sure how much the score matters for MD applicants), but I'm struggling with how to study for the GMAT since it's a very skill heavy exam, whereas I'm very used to content-heavy exams. far I've purchased the OG materials, taken the diagnostic exam, and have worked through about 160 PS programs in the main OG book. took the diagnostic after just reading about the GMAT (no prep) and before brushing up on my math skills, and I definitely need improvement (especially in the DS and IR problems, which were totally new to me). current plan was to just work through the entire OG book, then the additional quant and verbal books, re-learning math and taking notes of tricks I find. I was planning on just working through the sections one by one (PS, then DS, etc...) until I got through all three OG books. After that, I was going to start doing the online prep material (like the online IR question bank) and do a practice exam every week. not sure how great of a study plan this is since most I have seen like to include other material (Magoosh, Manhattan, TTP), and many plans tend to study for the exam sections concurrently (I've also read differing opinions as to whether it is better to study sequentially vs. studying concurrently. matriculate in early August and would like to take the GMAT before then. couple of questions: Is working through the OG material alone sufficient? or is it more common to incorporate additional study materials in your preparation?\\n   * If additional resources are recommended, what course is best? I've seen good thinks about Magoosh and TTP\\n* Given that I may not be able to take the GMAT in person at a testing center due to COVID, will the lack of an AWA score hurt my chances at getting into a top 3 MBA program?\\n* Are there any pre-made study schedules you would recommend? for the long post. I appreciate the help and hope everyone is staying safe throughout this pandemic!   \n",
       "1283                                                                                                                                                                                                                                                                                                                                                                                                                                                                                                                                                                                                                                                                                                                                                                                                                                                                                                                                                                                                                                                                                                                                                                                                                                                                                                                                                                                                                                                                                                                                                                                                                                                                                                                                                           Any advice on this? I need significant help in quant, so I'm going to take the next 4 months or so to work through the TTP course. I also have the OG guides and the Manhattan books. How do I incorporate the Manhattan Quant books with the TTP schedule?\\n2. I need less help in verbal, so I was going to work through the Manhattan verbal books over the next 4 months as well, while working on TTP. Does that make sense?\\n3. I planned to do the OG guides at the end (after working through TTP and the Manhattan books). Does that make sense? trying to develop a 4-6 month study plan, with TTP at the core focus, but also want to use the Manhattan books for verbal (and quant, if recommended) and the OG guides. you!   \n",
       "1284                                                                                                                                                                                                                                                                                                                                                                                                                                                                                                                                                                                                                                                                                                                                                                                                                                                                                                                                                                                                                                                                                                                                                                                                                                                                                                                                                                                                                                                                                                                                                                                                                                                                                                                                                                                                                                                                                                                                                                                                                                                                                                                                                                                                                                                                    I'm going to start studying for the GMAT next week. I've heard Manhattan Prep is the best prep guide but not sure exactly which package/ if there are any other platforms that people recommend more. Any help is appreciated.   \n",
       "1285                                                                                                                                                                                                                                                                                                                                                                                                                                                                                                                                                                                                                                                                                                                                                                                                                                                                                                                                                                                                                                                                                                                                                                                                                                                                                                                                                                                                                                                                                                                                                                                                                                                                                                                                                                                                                                                                                                                                                                                                                                                                            Hi all - anyone taken the advanced online Manhattan GMAT course? I took their in-person class a few months ago, but I seem to be reaching a plateau in my progress.  mainly wondering if this course has helped folks who have already taken the regular course... also if it helped anyone push through a similar plateau in progress? you in advance. scores: CAT 2/2020 - 650 (Q42/V37)  CAT 3/2020 - 630 (Q41/V35)   \n",
       "\n",
       "      subreddit  \n",
       "710           0  \n",
       "712           0  \n",
       "713           0  \n",
       "714           0  \n",
       "715           0  \n",
       "...         ...  \n",
       "1281          0  \n",
       "1282          0  \n",
       "1283          0  \n",
       "1284          0  \n",
       "1285          0  \n",
       "\n",
       "[410 rows x 6 columns]"
      ]
     },
     "execution_count": 123,
     "metadata": {},
     "output_type": "execute_result"
    }
   ],
   "source": [
    "#displaying 410 entries in r/GMAT where sentiments associated with Manhattan Prep were positive\n",
    "manhattan_sent[(manhattan_sent[\"compound\"]>= 0.05) & (manhattan_sent['subreddit']==0)]"
   ]
  },
  {
   "cell_type": "markdown",
   "id": "ef58f2fa",
   "metadata": {},
   "source": [
    "### Preprocessing"
   ]
  },
  {
   "cell_type": "code",
   "execution_count": 124,
   "id": "b48af8b6",
   "metadata": {},
   "outputs": [],
   "source": [
    "#setting up X and y\n",
    "Xm = manhattan_sent[['selftext','compound']]\n",
    "ym = manhattan_sent['subreddit']"
   ]
  },
  {
   "cell_type": "code",
   "execution_count": 125,
   "id": "346d62d3",
   "metadata": {},
   "outputs": [
    {
     "data": {
      "text/plain": [
       "1    0.551242\n",
       "0    0.448758\n",
       "Name: subreddit, dtype: float64"
      ]
     },
     "execution_count": 125,
     "metadata": {},
     "output_type": "execute_result"
    }
   ],
   "source": [
    "#Establishing baseline accuracy\n",
    "ym.value_counts(normalize=True)"
   ]
  },
  {
   "cell_type": "code",
   "execution_count": 126,
   "id": "1ddd4096",
   "metadata": {},
   "outputs": [],
   "source": [
    "#Creating train and test sets\n",
    "Xm_train, Xm_test, ym_train, ym_test = train_test_split(Xm,ym, random_state = 42, stratify=ym)"
   ]
  },
  {
   "cell_type": "code",
   "execution_count": 127,
   "id": "675e696a",
   "metadata": {},
   "outputs": [
    {
     "name": "stdout",
     "output_type": "stream",
     "text": [
      "(966, 2) (966,)\n",
      "(322, 2) (322,)\n"
     ]
    }
   ],
   "source": [
    "#confirming dimensions\n",
    "print(Xm_train.shape, ym_train.shape)\n",
    "print(Xm_test.shape, ym_test.shape)"
   ]
  },
  {
   "cell_type": "code",
   "execution_count": 128,
   "id": "347c8201",
   "metadata": {},
   "outputs": [],
   "source": [
    "#Instantiating count vectorizer using the same parameters as before\n",
    "cvec_m = CountVectorizer(stop_words = stop_words, ngram_range=(1,6),max_df=0.8,min_df=0.05)\n",
    "\n",
    "Xm_train_cv = cvec_m.fit_transform (Xm_train['selftext'])\n",
    "Xm_test_cv = cvec_m.transform(Xm_test['selftext'])"
   ]
  },
  {
   "cell_type": "code",
   "execution_count": 129,
   "id": "8091597d",
   "metadata": {},
   "outputs": [],
   "source": [
    "#tranforming to dataframe\n",
    "Xm_trainCV_df = pd.DataFrame(Xm_train_cv.todense(), columns = cvec_m.get_feature_names())\n",
    "Xm_testCV_df = pd.DataFrame(Xm_test_cv.todense(), columns = cvec_m.get_feature_names())"
   ]
  },
  {
   "cell_type": "code",
   "execution_count": 130,
   "id": "6abf6e1b",
   "metadata": {},
   "outputs": [
    {
     "name": "stdout",
     "output_type": "stream",
     "text": [
      "(966, 277)\n",
      "(322, 277)\n"
     ]
    }
   ],
   "source": [
    "#confirming dimensions of dataframe\n",
    "print(Xm_trainCV_df.shape)\n",
    "print(Xm_testCV_df.shape)"
   ]
  },
  {
   "cell_type": "code",
   "execution_count": 131,
   "id": "d8cfbcdd",
   "metadata": {},
   "outputs": [],
   "source": [
    "#resetting indices\n",
    "Xm_trainCV_df.reset_index(drop=True, inplace=True)\n",
    "Xm_train.reset_index(drop=True, inplace=True)\n",
    "Xm_testCV_df.reset_index(drop=True, inplace = True)\n",
    "Xm_test.reset_index(drop=True, inplace=True)"
   ]
  },
  {
   "cell_type": "code",
   "execution_count": 132,
   "id": "bdffc760",
   "metadata": {},
   "outputs": [],
   "source": [
    "#Concactenating with Xm_train and Xm_test in order to add sentiment scores to dataframe\n",
    "X_train_final = pd.concat([Xm_trainCV_df, Xm_train], axis =1)\n",
    "X_test_final = pd.concat([Xm_testCV_df, Xm_test], axis =1)"
   ]
  },
  {
   "cell_type": "code",
   "execution_count": 133,
   "id": "40a7c4c7",
   "metadata": {},
   "outputs": [],
   "source": [
    "#Dropping self text column\n",
    "X_train_final.drop(columns = 'selftext', inplace= True)\n",
    "X_test_final.drop(columns= 'selftext', inplace=True)"
   ]
  },
  {
   "cell_type": "code",
   "execution_count": 134,
   "id": "8c0a2664",
   "metadata": {},
   "outputs": [
    {
     "name": "stdout",
     "output_type": "stream",
     "text": [
      "(966, 278) (322, 278)\n"
     ]
    }
   ],
   "source": [
    "#confirming dimensions of final train & test set\n",
    "print(X_train_final.shape, X_test_final.shape)"
   ]
  },
  {
   "cell_type": "markdown",
   "id": "9a239082",
   "metadata": {},
   "source": [
    "### Modeling"
   ]
  },
  {
   "cell_type": "code",
   "execution_count": 135,
   "id": "ad8a6913",
   "metadata": {},
   "outputs": [],
   "source": [
    "#Instantiate logistic regression\n",
    "logr_m = LogisticRegression(max_iter=10_000)"
   ]
  },
  {
   "cell_type": "code",
   "execution_count": 136,
   "id": "221bf441",
   "metadata": {},
   "outputs": [
    {
     "data": {
      "text/plain": [
       "LogisticRegression(max_iter=10000)"
      ]
     },
     "execution_count": 136,
     "metadata": {},
     "output_type": "execute_result"
    }
   ],
   "source": [
    "#fitting model\n",
    "logr_m.fit(X_train_final, ym_train)"
   ]
  },
  {
   "cell_type": "code",
   "execution_count": 137,
   "id": "f4aa798d",
   "metadata": {},
   "outputs": [
    {
     "data": {
      "text/plain": [
       "(0.9937888198757764, 0.9440993788819876)"
      ]
     },
     "execution_count": 137,
     "metadata": {},
     "output_type": "execute_result"
    }
   ],
   "source": [
    "#scoring model\n",
    "logr_m.score(X_train_final, ym_train), logr_m.score(X_test_final, ym_test)"
   ]
  },
  {
   "cell_type": "markdown",
   "id": "26bac269",
   "metadata": {},
   "source": [
    "The model is a low bias and low variance model, also a slight increase in variance can be observed relative to the other models."
   ]
  },
  {
   "cell_type": "code",
   "execution_count": 138,
   "id": "de887c34",
   "metadata": {},
   "outputs": [],
   "source": [
    "#generating predictions\n",
    "preds_manhattan = logr_m.predict(X_test_final)"
   ]
  },
  {
   "cell_type": "code",
   "execution_count": 139,
   "id": "d51446c3",
   "metadata": {},
   "outputs": [
    {
     "data": {
      "image/png": "[encoded data removed]",
      "text/plain": [
       "<Figure size 432x288 with 2 Axes>"
      ]
     },
     "metadata": {
      "needs_background": "light"
     },
     "output_type": "display_data"
    }
   ],
   "source": [
    "#Saving & generating confusion matrix values\n",
    "tn, fp, fn, tp = confusion_matrix(ym_test, preds_manhattan).ravel()\n",
    "\n",
    "plot_confusion_matrix(logr_m, X_test_final, ym_test, cmap='pink', values_format='d');\n"
   ]
  },
  {
   "cell_type": "code",
   "execution_count": 140,
   "id": "a8cc3d8e",
   "metadata": {},
   "outputs": [
    {
     "name": "stdout",
     "output_type": "stream",
     "text": [
      "0.9310344827586207\n",
      "0.9548022598870056\n"
     ]
    }
   ],
   "source": [
    "#Calculating Specificity & Sensitivity\n",
    "spec_m = tn / (tn + fp)\n",
    "sens_m = tp/ (tp + fn)\n",
    "\n",
    "print(spec_m)\n",
    "print(sens_m)"
   ]
  },
  {
   "cell_type": "markdown",
   "id": "5dc6be43",
   "metadata": {},
   "source": [
    "# Conclusion & Recommendation"
   ]
  },
  {
   "attachments": {},
   "cell_type": "markdown",
   "id": "3319fc5d",
   "metadata": {},
   "source": [
    "The study estimated 4 classification models in attempting to accurately classify posts from r/GRE and r/GMAT. All 4 models were low bias and low variance and recorded high accuracy scores. The MNB, RF and Logreg model (on the overall sample) recorded 90% accuracy, while the Logreg model estimated on the Manhattan subsample had an accuracy score of 94%. Sensitivity and Specificity scores were also high across board, ranging from 80% to 98%. Findings from the VADER model were that sentiments associated with Manhattan Prep in both subreddits were neutral on average, and did not differ significantly between both subreddits. \n",
    "\n",
    "Overall, this study recommends the Logistic Regression model specified as the algorithm of choice for distinguishing between posts from r/GRE and r/GMAT. This is due to faster computational speed, higher sensitivity and specificity scores, relative to the other models. The study additionally recommends that deeper analysis be conducted on posts where compound sentiment scores associated with Manhattan Prep were negative, in order to uncover ways to potentially boost user experience. \n",
    "\n"
   ]
  }
 ],
 "metadata": {
  "kernelspec": {
   "display_name": "Python 3",
   "language": "python",
   "name": "python3"
  },
  "language_info": {
   "codemirror_mode": {
    "name": "ipython",
    "version": 3
   },
   "file_extension": ".py",
   "mimetype": "text/x-python",
   "name": "python",
   "nbconvert_exporter": "python",
   "pygments_lexer": "ipython3",
   "version": "3.8.8"
  }
 },
 "nbformat": 4,
 "nbformat_minor": 5
}
